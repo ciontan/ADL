{
 "cells": [
  {
   "cell_type": "code",
   "execution_count": null,
   "id": "21ba5750-8609-4eb3-af59-2f549ba28f9d",
   "metadata": {},
   "outputs": [],
   "source": [
    "import time\n",
    "from datetime import datetime\n",
    "\n",
    "print(\"Starting infinite loop. Let’s see how long this bastard lives...\")\n",
    "\n",
    "while True:\n",
    "    now = datetime.now().strftime(\"%Y-%m-%d %H:%M:%S\")\n",
    "    print(f\"[{now}] Still breathing.\")\n",
    "    time.sleep(5)  # Adjust this if you want it to talk more or less\n"
   ]
  }
 ],
 "metadata": {
  "kernelspec": {
   "display_name": "Python 3 (ipykernel)",
   "language": "python",
   "name": "python3"
  },
  "language_info": {
   "codemirror_mode": {
    "name": "ipython",
    "version": 3
   },
   "file_extension": ".py",
   "mimetype": "text/x-python",
   "name": "python",
   "nbconvert_exporter": "python",
   "pygments_lexer": "ipython3",
   "version": "3.11.6"
  }
 },
 "nbformat": 4,
 "nbformat_minor": 5
}
