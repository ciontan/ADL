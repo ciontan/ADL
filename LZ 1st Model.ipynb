{
 "cells": [
  {
   "cell_type": "markdown",
   "metadata": {},
   "source": [
    "## Preprocessing"
   ]
  },
  {
   "cell_type": "markdown",
   "metadata": {},
   "source": [
    "#### 90/10 initial split"
   ]
  },
  {
   "cell_type": "code",
   "execution_count": 1,
   "metadata": {},
   "outputs": [],
   "source": [
    "randomState = 42\n",
    "\n",
    "import pandas as pd\n",
    "from sklearn.model_selection import train_test_split, StratifiedKFold\n",
    "raw_dataset = pd.read_csv(\"./data/processed_data.csv\") #data has X and Y\n",
    "X = raw_dataset.drop(columns=[\"DR\"])\n",
    "Y = pd.DataFrame(raw_dataset[\"DR\"])\n",
    "\n",
    "#* 90/10 split for training and final test\n",
    "X_FOR_FOLDS, X_FINAL_TEST, Y_FOR_FOLDS, Y_FINAL_TEST = train_test_split(X, Y, test_size=0.1, random_state=randomState, stratify=Y)"
   ]
  },
  {
   "cell_type": "markdown",
   "metadata": {},
   "source": [
    "#### Preprocessing & folds generation"
   ]
  },
  {
   "cell_type": "code",
   "execution_count": 2,
   "metadata": {},
   "outputs": [],
   "source": [
    "from sklearn.preprocessing import (\n",
    "    MaxAbsScaler,\n",
    "    MinMaxScaler,\n",
    "    Normalizer,\n",
    "    PowerTransformer,\n",
    "    QuantileTransformer,\n",
    "    RobustScaler,\n",
    "    StandardScaler,\n",
    "    minmax_scale,\n",
    ")"
   ]
  },
  {
   "cell_type": "code",
   "execution_count": 3,
   "metadata": {},
   "outputs": [],
   "source": [
    "def FOLDS_GENERATOR(X, Y, normalisation_method=MinMaxScaler(), n_splits=5, randomState=None, oversample=False):\n",
    "    \n",
    "    \"\"\"\n",
    "    Generates stratified folds with specified normalization.\n",
    "    \n",
    "    For list of scalers, see:\n",
    "    https://scikit-learn.org/stable/api/sklearn.preprocessing.html\n",
    "    \n",
    "    For more details on scaling and normalization effects, see:\n",
    "    https://scikit-learn.org/stable/auto_examples/preprocessing/plot_all_scaling.html#\n",
    "    \n",
    "    normalisation_method should be an instance of a scaler, e.g.,\n",
    "    - MinMaxScaler()\n",
    "    - MaxAbsScaler()\n",
    "    - Quantile_Transform(output_distribution='uniform')\n",
    "    \n",
    "    Returns a list of tuples, each containing:\n",
    "    (X_train_scaled, X_test_scaled, Y_train, Y_test), representing data for each fold\n",
    "    \"\"\"\n",
    "    kF = StratifiedKFold(n_splits=n_splits, shuffle=True, random_state=randomState)\n",
    "    kFolds_list = []\n",
    "    \n",
    "    for fold, (train_idx, test_idx) in enumerate(kF.split(X, Y)):\n",
    "        # Split the data into training and testing sets for this fold\n",
    "        X_train, X_test = X.iloc[train_idx], X.iloc[test_idx]\n",
    "        Y_train, Y_test = Y.iloc[train_idx], Y.iloc[test_idx]\n",
    "        \n",
    "        # Fit the scaler on the training data and transform both train and test sets\n",
    "        X_train_scaled = normalisation_method.fit_transform(X_train)\n",
    "        X_test_scaled = normalisation_method.transform(X_test)\n",
    "        \n",
    "        if oversample:\n",
    "            # Oversample the training data if needed (e.g., using SMOTE or similar techniques)\n",
    "            # This is a placeholder; actual oversampling code should be implemented here\n",
    "            # X_train_scaled....\n",
    "            pass\n",
    "        \n",
    "        # Convert back to DataFrame to maintain column names\n",
    "        X_train_scaled = pd.DataFrame(X_train_scaled, columns=X.columns, index=X_train.index)\n",
    "        X_test_scaled = pd.DataFrame(X_test_scaled, columns=X.columns, index=X_test.index)\n",
    "        \n",
    "        # Ensure 'gender' is still binary (0 or 1)\n",
    "        if X_train_scaled['Gender'].isin([0, 1]).all():\n",
    "            kFolds_list.append((X_train_scaled, X_test_scaled, Y_train, Y_test))\n",
    "        else:\n",
    "            print(\"Warning: 'gender' column contains unexpected values after scaling.\") \n",
    "               \n",
    "        print(f\"Fold: {fold+1}, Train: {kFolds_list[fold][0].shape}, Test: {kFolds_list[fold][1].shape}\")   \n",
    "    return kFolds_list"
   ]
  },
  {
   "cell_type": "code",
   "execution_count": 4,
   "metadata": {},
   "outputs": [
    {
     "name": "stdout",
     "output_type": "stream",
     "text": [
      "Fold: 1, Train: (4593, 28), Test: (1149, 28)\n",
      "Fold: 2, Train: (4593, 28), Test: (1149, 28)\n",
      "Fold: 3, Train: (4594, 28), Test: (1148, 28)\n",
      "Fold: 4, Train: (4594, 28), Test: (1148, 28)\n",
      "Fold: 5, Train: (4594, 28), Test: (1148, 28)\n"
     ]
    }
   ],
   "source": [
    "kFolds = FOLDS_GENERATOR(X_FOR_FOLDS, Y_FOR_FOLDS, normalisation_method=MinMaxScaler(), n_splits=5, randomState=randomState)"
   ]
  },
  {
   "cell_type": "markdown",
   "metadata": {},
   "source": [
    "## Training & Model definition"
   ]
  },
  {
   "cell_type": "markdown",
   "metadata": {},
   "source": [
    "#### Helper functions for model training"
   ]
  },
  {
   "cell_type": "code",
   "execution_count": 5,
   "metadata": {},
   "outputs": [
    {
     "name": "stdout",
     "output_type": "stream",
     "text": [
      "Using cuda\n"
     ]
    }
   ],
   "source": [
    "import torch\n",
    "from torch.utils.data import TensorDataset, DataLoader\n",
    "import torch\n",
    "import torch.nn as nn\n",
    "import torch.optim as optim\n",
    "from modularModels1 import BlockMaker, modularNN, BasicModel\n",
    "device = torch.device(\"cuda\" if torch.cuda.is_available() else \"cpu\")\n",
    "print(\"Using\", device)\n",
    "\n",
    "def init_weights(model): #tested already\n",
    "    if isinstance(model, nn.Linear):  # Apply only to linear layers\n",
    "        nn.init.xavier_uniform_(model.weight)\n",
    "        if model.bias is not None:\n",
    "            nn.init.zeros_(model.bias)\n",
    "            \n",
    "def fold_to_dataloader_tensor(train_x, test_x, train_y, test_y, batchSize=64, device=device):\n",
    "    train_dataset = TensorDataset(\n",
    "        torch.tensor(train_x.values,dtype=torch.float32).to(device), \n",
    "        torch.tensor(train_y.values,dtype=torch.float32).to(device))\n",
    "    val_dataset = TensorDataset(\n",
    "        torch.tensor(test_x.values,dtype=torch.float32).to(device), \n",
    "        torch.tensor(test_y.values,dtype=torch.float32).to(device))\n",
    "\n",
    "    train_loader = DataLoader(train_dataset, batch_size=batchSize, shuffle=True)\n",
    "    val_loader = DataLoader(val_dataset, batch_size=batchSize, shuffle=False)\n",
    "    return train_loader, val_loader "
   ]
  },
  {
   "cell_type": "markdown",
   "metadata": {},
   "source": [
    "#### Other Loss Functions"
   ]
  },
  {
   "cell_type": "code",
   "execution_count": 6,
   "metadata": {},
   "outputs": [],
   "source": [
    "import torch\n",
    "import torch.nn as nn\n",
    "class FocalLoss(nn.Module):\n",
    "    \"\"\"\n",
    "    The alpha parameter adjusts the weight for the minority class.\n",
    "    The gamma parameter adjusts how much to focus on hard examples (higher values will focus more on difficult-to-classify samples).\n",
    "    \n",
    "    criterion = FocalLoss(alpha=0.25, gamma=2.0).to(device) \n",
    "    \"\"\"\n",
    "    def __init__(self, alpha=0.25, gamma=2.0):\n",
    "        super(FocalLoss, self).__init__()\n",
    "        self.alpha = alpha\n",
    "        self.gamma = gamma\n",
    "\n",
    "    def forward(self, inputs, targets):\n",
    "        BCE_loss = nn.BCEWithLogitsLoss(reduction='none')(inputs, targets)\n",
    "        pt = torch.exp(-BCE_loss)  # pt is the probability for each class\n",
    "        F_loss = self.alpha * (1 - pt) ** self.gamma * BCE_loss\n",
    "        return F_loss.mean()\n",
    "    \n",
    "class DiceLoss(nn.Module):\n",
    "    \"\"\"\n",
    "    Dice loss is a metric commonly used for imbalanced datasets, especially in segmentation tasks. It measures the overlap between the predicted and true classes. While it’s more often used in segmentation, it can be adapted for binary classification tasks.\n",
    "    \n",
    "    criterion = DiceLoss().to(device) \n",
    "    \"\"\"\n",
    "    def __init__(self, smooth=1e-6):\n",
    "        super(DiceLoss, self).__init__()\n",
    "        self.smooth = smooth\n",
    "\n",
    "    def forward(self, inputs, targets):\n",
    "        intersection = torch.sum(inputs * targets)\n",
    "        union = torch.sum(inputs) + torch.sum(targets)\n",
    "        dice = (2. * intersection + self.smooth) / (union + self.smooth)\n",
    "        return 1 - dice\n",
    "\n",
    "#! default_criterion = nn.BCEWithLogitsLoss(pos_weight=torch.tensor([2.0])).to(device)"
   ]
  },
  {
   "cell_type": "markdown",
   "metadata": {},
   "source": [
    "#### __Model + loss + optimiser__ definition & initialisation"
   ]
  },
  {
   "cell_type": "code",
   "execution_count": 7,
   "metadata": {},
   "outputs": [
    {
     "data": {
      "text/plain": [
       "BasicModel(\n",
       "  (block): Sequential(\n",
       "    (0): Linear(in_features=28, out_features=512, bias=True)\n",
       "    (1): Tanh()\n",
       "    (2): Linear(in_features=512, out_features=256, bias=True)\n",
       "    (3): LeakyReLU(negative_slope=0.01)\n",
       "    (4): Linear(in_features=256, out_features=32, bias=True)\n",
       "    (5): LeakyReLU(negative_slope=0.01)\n",
       "    (6): Linear(in_features=32, out_features=1, bias=True)\n",
       "  )\n",
       ")"
      ]
     },
     "execution_count": 7,
     "metadata": {},
     "output_type": "execute_result"
    }
   ],
   "source": [
    "model_1 = BasicModel(28,[512,256,32],1,\n",
    "                   [nn.Tanh(),nn.LeakyReLU()])\n",
    "# print(model_1)\n",
    "model = model_1.to(device)\n",
    "\n",
    "criterion = nn.BCEWithLogitsLoss(pos_weight=torch.tensor([2.0])).to(device) #! IMPORTANT .to(device) for GPU\n",
    "optimiser = optim.Adagrad(model.parameters(),lr=0.005)\n",
    "\n",
    "model.apply(init_weights)"
   ]
  },
  {
   "cell_type": "markdown",
   "metadata": {},
   "source": [
    "#### Training Loop"
   ]
  },
  {
   "cell_type": "code",
   "execution_count": null,
   "metadata": {},
   "outputs": [
    {
     "name": "stdout",
     "output_type": "stream",
     "text": [
      "Fold 1 Average accuracy: 0.91 Average recall: 0.2809 Average F1:  0.35 0.88  RecallScore: 0.40    f1Score: 0.57       \n",
      "Fold 2 Average accuracy: 0.91 Average recall: 0.2946 Average F1:  0.35 0.86  RecallScore: 0.20    f1Score: 0.22       \n",
      "Fold 3 Average accuracy: 0.90 Average recall: 0.3112 Average F1:  0.36 0.90  RecallScore: 0.33    f1Score: 0.44       \n",
      "Fold 4 Average accuracy: 0.90 Average recall: 0.2807 Average F1:  0.35 0.84  RecallScore: 0.14    f1Score: 0.20       \n",
      "Fold 5 Average accuracy: 0.91 Average recall: 0.3176 Average F1:  0.37 0.98  RecallScore: 0.50    f1Score: 0.67       \n"
     ]
    }
   ],
   "source": [
    "import numpy as np\n",
    "from torch.utils.data import TensorDataset, DataLoader\n",
    "from sklearn.metrics import recall_score, accuracy_score,f1_score\n",
    "epochs = 5\n",
    "batchsize = 64\n",
    "\n",
    "#* Fold Training Loop, repeat for each fold\n",
    "for fold, (train_x, test_x, train_y, test_y) in enumerate(kFolds, start=1):\n",
    "    # print(f\"Fold: {fold}\")\n",
    "    #* Convert the fold to PyTorch tensors and create DataLoader objects\n",
    "    train_loader, val_loader = fold_to_dataloader_tensor(train_x, test_x, train_y, test_y, batchsize, device)\n",
    "    \n",
    "    correct_prediction_count = 0 #? Number of correct predictions so far in this fold\n",
    "    trained_samples_count = 0 #? Number of samples trained so far in this fold\n",
    "    #* Set model to training mode: essential for dropout and batch norm layers\n",
    "    model.train()\n",
    "    \n",
    "    #* Epoch Training loop for this fold\n",
    "    for epoch in range(1,epochs+1):\n",
    "        running_loss = 0.\n",
    "        #* Metric lists for this fold\n",
    "        accuracy_list, f1_list, recall_list = [], [], []\n",
    "\n",
    "        #* Mini-batch training loop through the whole fold\n",
    "        for batch, (inputs, labels) in enumerate(train_loader,start=1):\n",
    "            optimiser.zero_grad() #? Zero the gradients\n",
    "            \n",
    "            outputs = model(inputs) #? Forward pass through the model\n",
    "            loss = criterion(outputs, labels) #? Calculate loss\n",
    "            loss.backward() #? Backpropagation\n",
    "            optimiser.step() #? Update weights\n",
    "            \n",
    "            labels = labels.cpu() #? Move labels to CPU for compatibility with sklearn metrics\n",
    "            trained_samples_count += labels.size(0) #? Update the number of trained samples\n",
    "            \n",
    "            running_loss += loss.item()\n",
    "            predictions = (torch.sigmoid(outputs) > 0.5).float().cpu()#? Convert logits to binary predictions\n",
    "            \n",
    "            \n",
    "            accuracyScore = accuracy_score(labels,predictions)\n",
    "            recallScore = recall_score(labels,predictions, average='macro', zero_division=1)\n",
    "            f1Score = f1_score(labels,predictions, zero_division=1)\n",
    "            \n",
    "            accuracy_list.append(accuracyScore)\n",
    "            recall_list.append(recallScore)\n",
    "            f1_list.append(f1Score)\n",
    "            \n",
    "            \n",
    "            print(f\"Fold: {fold}\".ljust(12),\n",
    "                  f\"Epoch: {epoch}\".ljust(12),\n",
    "                  f\"Batch: {batch}\".ljust(12),\n",
    "                  f\"Loss: {(running_loss/trained_samples_count):.4f}\".ljust(16),\n",
    "                  f\"AccuracyScore: {(accuracyScore):.2f}\".ljust(20),\n",
    "                  f\"RecallScore: {(recallScore):.2f}\".ljust(20),\n",
    "                  f\"f1Score: {(f1Score):.2f}\".ljust(20),  \n",
    "                  end=\"\\r\")\n",
    "            \n",
    "    print(f\"Fold {fold} Average accuracy: {(np.mean(accuracy_list)):.2f}\".ljust(12),\n",
    "          f\"Average recall: {(np.mean(recall_list)):.4f}\".ljust(12),\n",
    "          f\"Average F1:  {(np.mean(f1_list)):.2f}\".ljust(12), end=\"\\n\")\n",
    "            \n",
    "            \n",
    "    "
   ]
  },
  {
   "cell_type": "code",
   "execution_count": null,
   "metadata": {},
   "outputs": [],
   "source": [
    "import numpy as np\n",
    "from torch.utils.data import TensorDataset, DataLoader\n",
    "from sklearn.metrics import recall_score, accuracy_score,f1_score\n",
    "epochs = 5\n",
    "batchsize = 64\n",
    "\n",
    "#* Fold Training Loop, repeat for each fold\n",
    "for fold, (train_x, test_x, train_y, test_y) in enumerate(kFolds, start=1):\n",
    "    # print(f\"Fold: {fold}\")\n",
    "    #* Convert the fold to PyTorch tensors and create DataLoader objects\n",
    "    train_loader, val_loader = fold_to_dataloader_tensor(train_x, test_x, train_y, test_y, batchsize, device)\n",
    "    \n",
    "    correct_prediction_count = 0 #? Number of correct predictions so far in this fold\n",
    "    trained_samples_count = 0 #? Number of samples trained so far in this fold\n",
    "    #* Set model to training mode: essential for dropout and batch norm layers\n",
    "    model.train()\n",
    "    \n",
    "    #* Epoch Training loop for this fold\n",
    "    for epoch in range(1,epochs+1):\n",
    "        running_loss = 0.\n",
    "        #* Metric lists for this fold\n",
    "        accuracy_list, f1_list, recall_list = [], [], []\n",
    "\n",
    "        #* Mini-batch training loop through the whole fold\n",
    "        for batch, (inputs, labels) in enumerate(train_loader,start=1):\n",
    "            optimiser.zero_grad() #? Zero the gradients\n",
    "            \n",
    "            outputs = model(inputs) #? Forward pass through the model\n",
    "            loss = criterion(outputs, labels) #? Calculate loss\n",
    "            loss.backward() #? Backpropagation\n",
    "            optimiser.step() #? Update weights\n",
    "            \n",
    "            labels = labels.cpu() #? Move labels to CPU for compatibility with sklearn metrics\n",
    "            trained_samples_count += labels.size(0) #? Update the number of trained samples\n",
    "            \n",
    "            running_loss += loss.item()\n",
    "            predictions = (torch.sigmoid(outputs) > 0.5).float().cpu()#? Convert logits to binary predictions\n",
    "            \n",
    "            \n",
    "            accuracyScore = accuracy_score(labels,predictions)\n",
    "            recallScore = recall_score(labels,predictions, average='macro', zero_division=1)\n",
    "            f1Score = f1_score(labels,predictions, zero_division=1)\n",
    "            \n",
    "            accuracy_list.append(accuracyScore)\n",
    "            recall_list.append(recallScore)\n",
    "            f1_list.append(f1Score)\n",
    "            \n",
    "            \n",
    "            print(f\"Fold: {fold}\".ljust(12),\n",
    "                  f\"Epoch: {epoch}\".ljust(12),\n",
    "                  f\"Batch: {batch}\".ljust(12),\n",
    "                  f\"Loss: {(running_loss/trained_samples_count):.4f}\".ljust(16),\n",
    "                  f\"AccuracyScore: {(accuracyScore):.2f}\".ljust(20),\n",
    "                  f\"RecallScore: {(recallScore):.2f}\".ljust(20),\n",
    "                  f\"f1Score: {(f1Score):.2f}\".ljust(20),  \n",
    "                  end=\"\\r\")\n",
    "            \n",
    "    print(f\"Fold {fold} Average accuracy: {(np.mean(accuracy_list)):.2f}\".ljust(12),\n",
    "          f\"Average recall: {(np.mean(recall_list)):.4f}\".ljust(12),\n",
    "          f\"Average F1:  {(np.mean(f1_list)):.2f}\".ljust(12), end=\"\\n\")\n",
    "            \n",
    "            \n",
    "    "
   ]
  },
  {
   "cell_type": "code",
   "execution_count": null,
   "metadata": {},
   "outputs": [],
   "source": []
  }
 ],
 "metadata": {
  "kernelspec": {
   "display_name": ".venv",
   "language": "python",
   "name": "python3"
  },
  "language_info": {
   "codemirror_mode": {
    "name": "ipython",
    "version": 3
   },
   "file_extension": ".py",
   "mimetype": "text/x-python",
   "name": "python",
   "nbconvert_exporter": "python",
   "pygments_lexer": "ipython3",
   "version": "3.12.4"
  }
 },
 "nbformat": 4,
 "nbformat_minor": 2
}
