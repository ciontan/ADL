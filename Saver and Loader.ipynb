{
 "cells": [
  {
   "cell_type": "code",
   "execution_count": 1,
   "metadata": {},
   "outputs": [
    {
     "name": "stdout",
     "output_type": "stream",
     "text": [
      "Processed data saved to data/processed_data.csv\n"
     ]
    }
   ],
   "source": [
    "from src import data_preprocessing\n",
    "data_preprocessing.load_and_preprocess_data(\"data.csv\")"
   ]
  },
  {
   "cell_type": "code",
   "execution_count": 2,
   "metadata": {},
   "outputs": [],
   "source": [
    "import pandas as pd\n",
    "df = pd.read_csv(\"data/processed_data.csv\")"
   ]
  },
  {
   "cell_type": "code",
   "execution_count": null,
   "metadata": {},
   "outputs": [],
   "source": [
    "import torch\n",
    "class DR_dataset(torch.utils.data.Dataset):\n",
    "    def __init__(self, file_path = \"data/processed_data.csv\"):\n",
    "        self.data = pd.read_csv(file_path)\n",
    "        self.dataset_length = len(self.data)\n",
    "        \n",
    "        #extract inputs\n",
    "        self.input_features_number = self.data.shape[1] - 1\n",
    "        # self.input = self.data.drop(columns = ['DR'])\n",
    "        self.input = self.data.drop(columns = ['DR'])\n",
    "        # extract outputs\n",
    "        self.output_features_number = 1\n",
    "        self.output = self.data[['DR']]\n",
    "        \n",
    "    def __len__(self):\n",
    "        return len(self.data)\n",
    "    def __getitem__(self, idx):\n",
    "        x = self.input.iloc[idx].values #need .values to convert to numpy array\n",
    "        y = self.output.iloc[idx].values #need .values to convert to numpy array\n",
    "        return x, y"
   ]
  },
  {
   "cell_type": "code",
   "execution_count": 13,
   "metadata": {},
   "outputs": [
    {
     "name": "stdout",
     "output_type": "stream",
     "text": [
      "<class 'numpy.ndarray'> (28,)\n",
      "[-0.11091793  1.         -0.25385467 -0.80827587 -0.03857967 -0.33395359\n",
      "  1.91469214  0.83       -0.9545505  -1.16417631 -0.32401558  0.36968859\n",
      " -0.63849665 -1.89723979 -2.83629454 -1.87632962 -0.715108   27.\n",
      "  0.          1.          0.          0.          0.          0.\n",
      "  0.          0.          0.          0.        ]\n",
      "<class 'numpy.ndarray'> (1,)\n",
      "[0.]\n"
     ]
    }
   ],
   "source": [
    "dataset = DR_dataset()\n",
    "sample_input, sample_output = dataset[0]\n",
    "# Input is a (16,) numpy array, with the following values\n",
    "print(type(sample_input), sample_input.shape)\n",
    "print(sample_input)\n",
    "# Output is a single value, of type numpy int64\n",
    "print(type(sample_output), sample_output.shape)\n",
    "print(sample_output)\n"
   ]
  },
  {
   "cell_type": "code",
   "execution_count": null,
   "metadata": {},
   "outputs": [],
   "source": []
  }
 ],
 "metadata": {
  "kernelspec": {
   "display_name": ".venv",
   "language": "python",
   "name": "python3"
  },
  "language_info": {
   "codemirror_mode": {
    "name": "ipython",
    "version": 3
   },
   "file_extension": ".py",
   "mimetype": "text/x-python",
   "name": "python",
   "nbconvert_exporter": "python",
   "pygments_lexer": "ipython3",
   "version": "3.12.4"
  }
 },
 "nbformat": 4,
 "nbformat_minor": 2
}
