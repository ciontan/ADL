{
 "cells": [
  {
   "cell_type": "markdown",
   "metadata": {},
   "source": [
    "note book for me to execute .py files"
   ]
  },
  {
   "cell_type": "code",
   "execution_count": 3,
   "metadata": {},
   "outputs": [
    {
     "name": "stdout",
     "output_type": "stream",
     "text": [
      "Processed data saved to data/processed_data.csv\n"
     ]
    }
   ],
   "source": [
    "import pandas as pd\n",
    "df = pd.read_csv('data/processed_data.csv')\n",
    "from src import data_preprocessing\n",
    "data_preprocessing.load_and_preprocess_data('data.csv',normalise=False)"
   ]
  },
  {
   "cell_type": "code",
   "execution_count": 8,
   "metadata": {},
   "outputs": [
    {
     "name": "stdout",
     "output_type": "stream",
     "text": [
      "Class distribution before SMOTE:\n",
      "DR\n",
      "0.0    5736\n",
      "1.0     644\n",
      "Name: count, dtype: int64\n",
      "Class distribution after SMOTE: DR\n",
      "0.0    5736\n",
      "1.0    2868\n",
      "Name: count, dtype: int64\n"
     ]
    },
    {
     "name": "stderr",
     "output_type": "stream",
     "text": [
      "c:\\Users\\TAN LE ZHAN\\Documents\\GitHub\\ADL\\src\\smote.py:15: FutureWarning: DataFrame.applymap has been deprecated. Use DataFrame.map instead.\n",
      "  X = X.applymap(lambda x: float(str(x).replace(',', '')) if isinstance(x, str) and x.replace(',', '').replace('.', '').isdigit() else x)\n"
     ]
    },
    {
     "name": "stdout",
     "output_type": "stream",
     "text": [
      "Balanced data saved to data/processed_data_smote.csv\n"
     ]
    }
   ],
   "source": [
    "from src import smote\n",
    "smote.apply_smote()"
   ]
  },
  {
   "cell_type": "code",
   "execution_count": 10,
   "metadata": {},
   "outputs": [
    {
     "name": "stdout",
     "output_type": "stream",
     "text": [
      "Plot saved to plots\\feature_distributions.png\n"
     ]
    }
   ],
   "source": [
    "from src import data_comparision\n",
    "data_comparision.plot_feature_distributions()"
   ]
  },
  {
   "cell_type": "code",
   "execution_count": 2,
   "metadata": {},
   "outputs": [
    {
     "name": "stderr",
     "output_type": "stream",
     "text": [
      "c:\\Users\\TAN LE ZHAN\\Documents\\GitHub\\ADL\\src\\ADASYN.py:16: FutureWarning: DataFrame.applymap has been deprecated. Use DataFrame.map instead.\n",
      "  X = X.applymap(lambda x: float(str(x).replace(',', '')) if isinstance(x, str) and x.replace(',', '').replace('.', '').isdigit() else x)\n"
     ]
    },
    {
     "name": "stdout",
     "output_type": "stream",
     "text": [
      "Original dataset shape: [4016  450]\n",
      "Resampled dataset shape: [4016 4044]\n"
     ]
    }
   ],
   "source": [
    "from src import ADASYN\n",
    "ADASYN.apply_adasyn()"
   ]
  }
 ],
 "metadata": {
  "kernelspec": {
   "display_name": ".venv",
   "language": "python",
   "name": "python3"
  },
  "language_info": {
   "codemirror_mode": {
    "name": "ipython",
    "version": 3
   },
   "file_extension": ".py",
   "mimetype": "text/x-python",
   "name": "python",
   "nbconvert_exporter": "python",
   "pygments_lexer": "ipython3",
   "version": "3.12.4"
  }
 },
 "nbformat": 4,
 "nbformat_minor": 2
}
