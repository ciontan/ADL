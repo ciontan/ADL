{
 "cells": [
  {
   "cell_type": "code",
   "execution_count": null,
   "id": "f66c2b55",
   "metadata": {},
   "outputs": [
    {
     "name": "stdout",
     "output_type": "stream",
     "text": [
      "Requirement already satisfied: pandas in c:\\users\\tan le zhan\\documents\\github\\adl\\.venv\\lib\\site-packages (2.2.3)\n",
      "Requirement already satisfied: numpy>=1.26.0 in c:\\users\\tan le zhan\\documents\\github\\adl\\.venv\\lib\\site-packages (from pandas) (2.2.4)\n",
      "Requirement already satisfied: python-dateutil>=2.8.2 in c:\\users\\tan le zhan\\documents\\github\\adl\\.venv\\lib\\site-packages (from pandas) (2.9.0.post0)\n",
      "Requirement already satisfied: pytz>=2020.1 in c:\\users\\tan le zhan\\documents\\github\\adl\\.venv\\lib\\site-packages (from pandas) (2025.1)\n",
      "Requirement already satisfied: tzdata>=2022.7 in c:\\users\\tan le zhan\\documents\\github\\adl\\.venv\\lib\\site-packages (from pandas) (2025.1)\n",
      "Requirement already satisfied: six>=1.5 in c:\\users\\tan le zhan\\documents\\github\\adl\\.venv\\lib\\site-packages (from python-dateutil>=2.8.2->pandas) (1.17.0)\n",
      "Requirement already satisfied: optuna in c:\\users\\tan le zhan\\documents\\github\\adl\\.venv\\lib\\site-packages (4.2.1)\n",
      "Requirement already satisfied: alembic>=1.5.0 in c:\\users\\tan le zhan\\documents\\github\\adl\\.venv\\lib\\site-packages (from optuna) (1.15.2)\n",
      "Requirement already satisfied: colorlog in c:\\users\\tan le zhan\\documents\\github\\adl\\.venv\\lib\\site-packages (from optuna) (6.9.0)\n",
      "Requirement already satisfied: numpy in c:\\users\\tan le zhan\\documents\\github\\adl\\.venv\\lib\\site-packages (from optuna) (2.2.4)\n",
      "Requirement already satisfied: packaging>=20.0 in c:\\users\\tan le zhan\\documents\\github\\adl\\.venv\\lib\\site-packages (from optuna) (24.2)\n",
      "Requirement already satisfied: sqlalchemy>=1.4.2 in c:\\users\\tan le zhan\\documents\\github\\adl\\.venv\\lib\\site-packages (from optuna) (2.0.40)\n",
      "Requirement already satisfied: tqdm in c:\\users\\tan le zhan\\documents\\github\\adl\\.venv\\lib\\site-packages (from optuna) (4.67.1)\n",
      "Requirement already satisfied: PyYAML in c:\\users\\tan le zhan\\documents\\github\\adl\\.venv\\lib\\site-packages (from optuna) (6.0.2)\n",
      "Requirement already satisfied: Mako in c:\\users\\tan le zhan\\documents\\github\\adl\\.venv\\lib\\site-packages (from alembic>=1.5.0->optuna) (1.3.9)\n",
      "Requirement already satisfied: typing-extensions>=4.12 in c:\\users\\tan le zhan\\documents\\github\\adl\\.venv\\lib\\site-packages (from alembic>=1.5.0->optuna) (4.12.2)\n",
      "Requirement already satisfied: greenlet>=1 in c:\\users\\tan le zhan\\documents\\github\\adl\\.venv\\lib\\site-packages (from sqlalchemy>=1.4.2->optuna) (3.1.1)\n",
      "Requirement already satisfied: colorama in c:\\users\\tan le zhan\\documents\\github\\adl\\.venv\\lib\\site-packages (from colorlog->optuna) (0.4.6)\n",
      "Requirement already satisfied: MarkupSafe>=0.9.2 in c:\\users\\tan le zhan\\documents\\github\\adl\\.venv\\lib\\site-packages (from Mako->alembic>=1.5.0->optuna) (3.0.2)\n",
      "Requirement already satisfied: optuna-dashboard in c:\\users\\tan le zhan\\documents\\github\\adl\\.venv\\lib\\site-packages (0.18.0)\n",
      "Requirement already satisfied: bottle>=0.13.0 in c:\\users\\tan le zhan\\documents\\github\\adl\\.venv\\lib\\site-packages (from optuna-dashboard) (0.13.2)\n",
      "Requirement already satisfied: optuna>=3.1.0 in c:\\users\\tan le zhan\\documents\\github\\adl\\.venv\\lib\\site-packages (from optuna-dashboard) (4.2.1)\n",
      "Requirement already satisfied: packaging in c:\\users\\tan le zhan\\documents\\github\\adl\\.venv\\lib\\site-packages (from optuna-dashboard) (24.2)\n",
      "Requirement already satisfied: scikit-learn in c:\\users\\tan le zhan\\documents\\github\\adl\\.venv\\lib\\site-packages (from optuna-dashboard) (1.6.1)\n",
      "Requirement already satisfied: alembic>=1.5.0 in c:\\users\\tan le zhan\\documents\\github\\adl\\.venv\\lib\\site-packages (from optuna>=3.1.0->optuna-dashboard) (1.15.2)\n",
      "Requirement already satisfied: colorlog in c:\\users\\tan le zhan\\documents\\github\\adl\\.venv\\lib\\site-packages (from optuna>=3.1.0->optuna-dashboard) (6.9.0)\n",
      "Requirement already satisfied: numpy in c:\\users\\tan le zhan\\documents\\github\\adl\\.venv\\lib\\site-packages (from optuna>=3.1.0->optuna-dashboard) (2.2.4)\n",
      "Requirement already satisfied: sqlalchemy>=1.4.2 in c:\\users\\tan le zhan\\documents\\github\\adl\\.venv\\lib\\site-packages (from optuna>=3.1.0->optuna-dashboard) (2.0.40)\n",
      "Requirement already satisfied: tqdm in c:\\users\\tan le zhan\\documents\\github\\adl\\.venv\\lib\\site-packages (from optuna>=3.1.0->optuna-dashboard) (4.67.1)\n",
      "Requirement already satisfied: PyYAML in c:\\users\\tan le zhan\\documents\\github\\adl\\.venv\\lib\\site-packages (from optuna>=3.1.0->optuna-dashboard) (6.0.2)\n",
      "Requirement already satisfied: scipy>=1.6.0 in c:\\users\\tan le zhan\\documents\\github\\adl\\.venv\\lib\\site-packages (from scikit-learn->optuna-dashboard) (1.15.2)\n",
      "Requirement already satisfied: joblib>=1.2.0 in c:\\users\\tan le zhan\\documents\\github\\adl\\.venv\\lib\\site-packages (from scikit-learn->optuna-dashboard) (1.4.2)\n",
      "Requirement already satisfied: threadpoolctl>=3.1.0 in c:\\users\\tan le zhan\\documents\\github\\adl\\.venv\\lib\\site-packages (from scikit-learn->optuna-dashboard) (3.6.0)\n",
      "Requirement already satisfied: Mako in c:\\users\\tan le zhan\\documents\\github\\adl\\.venv\\lib\\site-packages (from alembic>=1.5.0->optuna>=3.1.0->optuna-dashboard) (1.3.9)\n",
      "Requirement already satisfied: typing-extensions>=4.12 in c:\\users\\tan le zhan\\documents\\github\\adl\\.venv\\lib\\site-packages (from alembic>=1.5.0->optuna>=3.1.0->optuna-dashboard) (4.12.2)\n",
      "Requirement already satisfied: greenlet>=1 in c:\\users\\tan le zhan\\documents\\github\\adl\\.venv\\lib\\site-packages (from sqlalchemy>=1.4.2->optuna>=3.1.0->optuna-dashboard) (3.1.1)\n",
      "Requirement already satisfied: colorama in c:\\users\\tan le zhan\\documents\\github\\adl\\.venv\\lib\\site-packages (from colorlog->optuna>=3.1.0->optuna-dashboard) (0.4.6)\n",
      "Requirement already satisfied: MarkupSafe>=0.9.2 in c:\\users\\tan le zhan\\documents\\github\\adl\\.venv\\lib\\site-packages (from Mako->alembic>=1.5.0->optuna>=3.1.0->optuna-dashboard) (3.0.2)\n"
     ]
    },
    {
     "name": "stderr",
     "output_type": "stream",
     "text": [
      "ERROR: Could not find a version that satisfies the requirement scikit (from versions: none)\n",
      "ERROR: No matching distribution found for scikit\n"
     ]
    },
    {
     "name": "stdout",
     "output_type": "stream",
     "text": [
      "Requirement already satisfied: imbalanced-learn in c:\\users\\tan le zhan\\documents\\github\\adl\\.venv\\lib\\site-packages (0.13.0)\n",
      "Requirement already satisfied: numpy<3,>=1.24.3 in c:\\users\\tan le zhan\\documents\\github\\adl\\.venv\\lib\\site-packages (from imbalanced-learn) (2.2.4)\n",
      "Requirement already satisfied: scipy<2,>=1.10.1 in c:\\users\\tan le zhan\\documents\\github\\adl\\.venv\\lib\\site-packages (from imbalanced-learn) (1.15.2)\n",
      "Requirement already satisfied: scikit-learn<2,>=1.3.2 in c:\\users\\tan le zhan\\documents\\github\\adl\\.venv\\lib\\site-packages (from imbalanced-learn) (1.6.1)\n",
      "Requirement already satisfied: sklearn-compat<1,>=0.1 in c:\\users\\tan le zhan\\documents\\github\\adl\\.venv\\lib\\site-packages (from imbalanced-learn) (0.1.3)\n",
      "Requirement already satisfied: joblib<2,>=1.1.1 in c:\\users\\tan le zhan\\documents\\github\\adl\\.venv\\lib\\site-packages (from imbalanced-learn) (1.4.2)\n",
      "Requirement already satisfied: threadpoolctl<4,>=2.0.0 in c:\\users\\tan le zhan\\documents\\github\\adl\\.venv\\lib\\site-packages (from imbalanced-learn) (3.6.0)\n"
     ]
    }
   ],
   "source": [
    "!pip install pandas\n",
    "!pip install optuna\n",
    "!pip install optuna-dashboard\n",
    "!pip install scikit\n",
    "!pip install imbalanced-learn\n",
    "from sklearn.preprocessing import (\n",
    "    MaxAbsScaler,\n",
    "    MinMaxScaler,\n",
    "    Normalizer,\n",
    "    PowerTransformer,\n",
    "    QuantileTransformer,\n",
    "    RobustScaler,\n",
    "    StandardScaler,\n",
    "    minmax_scale,\n",
    ")\n",
    "from sklearn.metrics import recall_score, accuracy_score,f1_score, precision_score, roc_auc_score\n",
    "from sklearn.model_selection import train_test_split, StratifiedKFold\n",
    "import numpy as np\n",
    "import torch\n",
    "import torch.nn as nn\n",
    "import torch.optim as optim\n",
    "from torch.utils.data import TensorDataset, DataLoader\n",
    "from sklearn.ensemble import IsolationForest\n",
    "from sklearn.feature_selection import RFE\n",
    "from sklearn.linear_model import LogisticRegression\n",
    "from imblearn.over_sampling import SMOTE, ADASYN\n",
    "from imblearn.pipeline import Pipeline\n",
    "from sklearn.pipeline import make_pipeline\n",
    "import warnings\n",
    "import optuna\n",
    "import pandas as pd\n",
    "from sklearn.metrics import f1_score, precision_score, recall_score, accuracy_score, roc_auc_score"
   ]
  },
  {
   "cell_type": "code",
   "execution_count": 26,
   "id": "e29038ab",
   "metadata": {},
   "outputs": [
    {
     "name": "stdout",
     "output_type": "stream",
     "text": [
      "Using device: cuda\n"
     ]
    }
   ],
   "source": [
    "random_state = 42\n",
    "raw_dataset = pd.read_csv(\"./data/processed_data.csv\") #data has X and Y\n",
    "X = raw_dataset.drop(columns=[\"DR\"])\n",
    "Y = pd.DataFrame(raw_dataset[\"DR\"])\n",
    "# print(X.describe())\n",
    "# X.drop(columns = ['Age', 'Gender', 'UAlb', 'Ucr', 'UACR', 'LDLC', 'HDLC'], inplace=True)\n",
    "\n",
    "# [Age,Gender,UAlb,Ucr,UACR,TC,TG,TCTG,LDLC,HDLC,Scr,BUN,FPG,HbA1c,Height,Weight,BMI,Duration,DR,Community_baihe,Community_chonggu,Community_huaxin,Community_jinze,Community_liantang,Community_xianghuaqiao,Community_xujin,Community_yingpu,Community_zhaoxian,Community_zhujiajiao]\n",
    "#* 90/10 split for training and final test\n",
    "X_FOR_FOLDS, X_FINAL_TEST, Y_FOR_FOLDS, Y_FINAL_TEST = train_test_split(X, Y, test_size=0.1, random_state=random_state, stratify=Y)"
   ]
  },
  {
   "cell_type": "code",
   "execution_count": 27,
   "id": "63312025",
   "metadata": {},
   "outputs": [
    {
     "name": "stdout",
     "output_type": "stream",
     "text": [
      "Using cuda\n"
     ]
    }
   ],
   "source": [
    "import torch\n",
    "from torch.utils.data import TensorDataset, DataLoader\n",
    "import torch\n",
    "import torch.nn as nn\n",
    "import torch.optim as optim\n",
    "from modularModels1 import BlockMaker, modularNN, BasicModel\n",
    "device = torch.device(\"cuda\" if torch.cuda.is_available() else \"cpu\")\n",
    "print(\"Using\", device)\n",
    "\n",
    "def init_weights(model): #tested already\n",
    "    if isinstance(model, nn.Linear):  # Apply only to linear layers\n",
    "        nn.init.xavier_uniform_(model.weight)\n",
    "        if model.bias is not None:\n",
    "            nn.init.zeros_(model.bias)\n",
    "            \n",
    "def fold_to_dataloader_tensor(train_x, test_x, train_y, test_y, batch_size=64, device=device):\n",
    "    train_dataset = TensorDataset(\n",
    "        torch.tensor(train_x.values,dtype=torch.float32).to(device), \n",
    "        torch.tensor(train_y.values,dtype=torch.float32).to(device))\n",
    "    val_dataset = TensorDataset(\n",
    "        torch.tensor(test_x.values,dtype=torch.float32).to(device), \n",
    "        torch.tensor(test_y.values,dtype=torch.float32).to(device))\n",
    "\n",
    "    train_loader = DataLoader(train_dataset, batch_size=batch_size, shuffle=True, drop_last=True)\n",
    "    val_loader = DataLoader(val_dataset, batch_size=len(val_dataset), shuffle=False, drop_last=True)\n",
    "    return train_loader, val_loader \n",
    "\n",
    "def get_feature_count(loader):\n",
    "    \"\"\"returns the number of features in the dataset\"\"\"\n",
    "    return next(iter(loader))[0].shape[1]"
   ]
  },
  {
   "cell_type": "code",
   "execution_count": 28,
   "id": "1d0d47d4",
   "metadata": {},
   "outputs": [],
   "source": [
    "from Criterion_Models import *\n",
    "def criterion_mapping(criterion_choice:str, pos_weight:float=None, alpha:float=None, gamma:float=None):\n",
    "    \"\"\"\n",
    "    Feel free to add any custom loss functions here.\n",
    "    returns function for criterion\n",
    "    \"\"\"\n",
    "    if criterion_choice == \"FocalLoss\":\n",
    "        return FocalLoss(alpha =alpha, gamma=gamma)\n",
    "    elif criterion_choice == \"DiceLoss\":\n",
    "        return DiceLoss()\n",
    "    elif criterion_choice == \"BCEWithLogitsLoss\":\n",
    "        return nn.BCEWithLogitsLoss(pos_weight=torch.tensor([pos_weight])) if pos_weight else nn.BCEWithLogitsLoss()\n",
    "    return nn.BCEWithLogitsLoss() "
   ]
  },
  {
   "cell_type": "code",
   "execution_count": 42,
   "id": "e400764c",
   "metadata": {},
   "outputs": [],
   "source": [
    "import numpy as np\n",
    "import pandas as pd\n",
    "from sklearn.preprocessing import MinMaxScaler\n",
    "\n",
    "def augment_data_in_place(X, X_test, normalisation_method=MinMaxScaler()):\n",
    "    all_numerical_columns = [\n",
    "        'Age', 'Height', 'Weight', 'Duration',\n",
    "        'UAlb', 'Ucr', 'UACR', 'TC', 'TG', \n",
    "        'TCTG', 'LDLC', 'HDLC', 'Scr', 'BUN', 'FPG', 'HbA1c'\n",
    "    ]\n",
    "\n",
    "    # Find which of those columns actually exist in both X and X_test\n",
    "    existing_columns = [col for col in all_numerical_columns if col in X.columns and col in X_test.columns]\n",
    "    \n",
    "    if not existing_columns:\n",
    "        print(\"No matching columns found for augmentation. Normalised data only.\")\n",
    "        X = normalisation_method.fit_transform(X)\n",
    "        X_test = normalisation_method.transform(X_test)\n",
    "        return X, X_test\n",
    "\n",
    "    # 1. Log-transform\n",
    "    X_copy = X.copy()\n",
    "    X_test_copy = X_test.copy()\n",
    "    X_copy.loc[:, existing_columns] = X_copy.loc[:, existing_columns].apply(np.log1p)\n",
    "    X_test_copy.loc[:, existing_columns] = X_test_copy.loc[:, existing_columns].apply(np.log1p)\n",
    "\n",
    "    # 2. Add Gaussian noise to training data only\n",
    "    noise = np.random.normal(0, 0.15, X_copy[existing_columns].shape)\n",
    "    X_copy.loc[:, existing_columns] = X_copy.loc[:, existing_columns] + noise\n",
    "\n",
    "    # 3. Fit scaler on train, transform both\n",
    "    scaler = normalisation_method\n",
    "    X_copy.loc[:, existing_columns] = scaler.fit_transform(X_copy.loc[:, existing_columns])\n",
    "    X_test_copy.loc[:, existing_columns] = scaler.transform(X_test_copy.loc[:, existing_columns])\n",
    "\n",
    "    return X_copy, X_test_copy\n"
   ]
  },
  {
   "cell_type": "code",
   "execution_count": 43,
   "id": "165aa4f8",
   "metadata": {},
   "outputs": [],
   "source": [
    "def FOLDS_GENERATOR(X, Y, normalisation_method=MinMaxScaler(), n_splits=5, random_state=None, oversampler=None, contamination=0.05):\n",
    "    \"\"\"\n",
    "    Generates stratified folds with specified normalization.\n",
    "\n",
    "    normalisation_method should be an instance of a scaler, e.g.,\n",
    "    - MinMaxScaler()\n",
    "    - MaxAbsScaler()\n",
    "    - QuantileTransformer(output_distribution='uniform')\n",
    "\n",
    "    Returns a list of tuples, each containing:\n",
    "    (X_train_scaled, X_test_scaled, Y_train, Y_test), representing data for each fold\n",
    "    \"\"\"\n",
    "    kF = StratifiedKFold(n_splits=n_splits, shuffle=True, random_state=random_state)\n",
    "    kFolds_list = []\n",
    "\n",
    "    for fold, (train_idx, test_idx) in enumerate(kF.split(X, Y)):\n",
    "        # Split the data into training and testing sets for this fold\n",
    "        X_train, X_test = X.iloc[train_idx], X.iloc[test_idx]\n",
    "        Y_train, Y_test = Y.iloc[train_idx], Y.iloc[test_idx]\n",
    "        # print(\"Original\\n\", X_train.shape, Y_train.shape, X_test.shape, Y_test.shape)\n",
    "        X_train_cleaned, Y_train_cleaned = X_train.copy(), Y_train.copy()\n",
    "        if contamination is not None and contamination > 0: #? using contamination = 0.0 works\n",
    "            X_train_zeros = X_train[Y_train.iloc[:, 0] == 0]\n",
    "            X_train_ones = X_train[Y_train.iloc[:, 0] == 1]\n",
    "            Y_train_zeros = Y_train[Y_train.iloc[:, 0] == 0]\n",
    "            Y_train_ones = Y_train[Y_train.iloc[:, 0] == 1] \n",
    "            # print(\"Ones and zeros\\n\", X_train_zeros.shape, Y_train_zeros.shape, X_train_ones.shape, Y_train_ones.shape)\n",
    "            #only class 0s\n",
    "            if X_train_zeros.isna().any().any():\n",
    "                print(\"got NaN values in the training set\")\n",
    "            \n",
    "            # Apply Isolation Forest to majority class only\n",
    "            iso_forest = IsolationForest(contamination=contamination, random_state=random_state)\n",
    "            try:\n",
    "                outliers = iso_forest.fit_predict(X_train_zeros)\n",
    "            except UserWarning as e:\n",
    "                print(\"Caught warning during IsolationForest fitting:\", e)\n",
    "                outliers = np.ones(len(X_train_zeros))  # If warning occurs, keep all data\n",
    "            # Keep only non-outlier majority samples\n",
    "            X_train_zeros = X_train_zeros[outliers == 1]\n",
    "            Y_train_zeros = Y_train_zeros[outliers == 1]\n",
    "            # print(\"After iso:\\n\", X_train_zeros.shape, Y_train_zeros.shape, X_train_ones.shape, Y_train_ones.shape)\n",
    "            \n",
    "            # Combine the cleaned majority class with the untouched minority class\n",
    "            X_train_cleaned = pd.concat([X_train_zeros, X_train_ones])\n",
    "            Y_train_cleaned = pd.concat([Y_train_zeros, Y_train_ones])\n",
    "        #? data augmentation on leftover data\n",
    "        X_train_scaled, X_test_scaled = augment_data_in_place(X_train_cleaned, X_test, normalisation_method=normalisation_method)\n",
    "        \n",
    "        # Handle oversampling if needed\n",
    "        #! use X_train_scaled and Y_train_cleaned for oversampling becasue y_train_cleaned no changes after augmentation\n",
    "        if oversampler:\n",
    "            X_train_scaled, Y_train_cleaned = oversampler.fit_resample(X_train_scaled, Y_train_cleaned)\n",
    "\n",
    "        # Convert scaled data back to DataFrame with the correct column names\n",
    "        X_train_scaled = pd.DataFrame(X_train_scaled, columns=X_train_cleaned.columns)\n",
    "        X_test_scaled = pd.DataFrame(X_test_scaled, columns=X_test.columns)\n",
    "\n",
    "        # Handle community columns\n",
    "        community_cols = [col for col in X_train_scaled.columns if col.startswith('Community')]\n",
    "        if community_cols:\n",
    "            X_train_scaled[community_cols] = X_train_scaled[community_cols].apply(\n",
    "                lambda row: pd.Series(np.eye(len(row))[row.argmax()]), axis=1\n",
    "            ).set_axis(community_cols, axis=1)\n",
    "        # print(X_train_scaled[community_cols].describe())\n",
    "\n",
    "        # Ensure 'Gender' is still binary (0 or 1)\n",
    "        if 'Gender' in X_train_scaled.columns:\n",
    "            X_train_scaled['Gender'] = (X_train_scaled['Gender'] > 0.5).astype(int)\n",
    "            X_test_scaled['Gender'] = (X_test_scaled['Gender'] > 0.5).astype(int)\n",
    "\n",
    "        # Append the processed fold to the list\n",
    "        kFolds_list.append((X_train_scaled, X_test_scaled, Y_train_cleaned, Y_test))\n",
    "\n",
    "        print(f\"Fold: {fold+1}, Train: {X_train_scaled.shape}, Test: {X_test_scaled.shape}\")\n",
    "\n",
    "    return kFolds_list"
   ]
  },
  {
   "cell_type": "code",
   "execution_count": 44,
   "id": "efd0b120",
   "metadata": {},
   "outputs": [],
   "source": [
    "# oversampler = None\n",
    "# contamination = 0.05\n",
    "# normalisation_method = QuantileTransformer()\n",
    "# kFolds = FOLDS_GENERATOR(X_FOR_FOLDS, Y_FOR_FOLDS, \n",
    "#                          normalisation_method = normalisation_method, \n",
    "#                          n_splits=5, \n",
    "#                          oversampler = oversampler, random_state=42, contamination=contamination)"
   ]
  },
  {
   "cell_type": "code",
   "execution_count": 45,
   "id": "d61863d1",
   "metadata": {},
   "outputs": [],
   "source": [
    "def train_and_evaluate(model, criterion, optimiser, scheduler, train_loader, val_loader, epochs=20, patience=5, device=device, threshold = 0.5):\n",
    "    if isinstance(model.last_layer(), nn.Sigmoid) and isinstance(criterion, nn.BCEWithLogitsLoss):\n",
    "        raise ValueError(\"Model output is Sigmoid but criterion is BCEWithLogitsLoss. Please check your model and criterion compatibility.\")\n",
    "    best_val_loss = float('inf')\n",
    "    best_model_state = None\n",
    "    wait = 0\n",
    "\n",
    "    #* Epoch Training loop for this fold\n",
    "    for epoch in range(1,epochs+1):\n",
    "        #* Set model to training mode: essential for dropout and batch norm layers\n",
    "        model.train()\n",
    "        running_loss = 0.0 #? loss for this epoch\n",
    "        #* Mini-batch training loop\n",
    "        for batch, (inputs, labels) in enumerate(train_loader,start=1):\n",
    "            optimiser.zero_grad() #? Zero the gradients\n",
    "            outputs = model(inputs) #? Forward pass through the model\n",
    "            loss = criterion(outputs, labels) #? Calculate loss\n",
    "            loss.backward() #? Backpropagation\n",
    "            running_loss += loss.item()\n",
    "            optimiser.step() #? Update weights\n",
    "            scheduler.step()\n",
    "        # if scheduler: \n",
    "        #     if not isinstance(scheduler,torch.optim.lr_scheduler.OneCycleLR):\n",
    "        #         scheduler.step()\n",
    "                \n",
    "        train_loss = running_loss / len(train_loader)\n",
    "        # print(f\"Epoch: {epoch}, training loss: {train_loss:.4f}\")\n",
    "    \n",
    "        #* Now we evaluate the model on the validation set, to track training vs validation loss\n",
    "        model.eval() #? Set model to evaluation mode\n",
    "        with torch.no_grad(): #? No need to track gradients during evaluation\n",
    "            val_loss = 0.0    \n",
    "            for batch, (inputs, labels) in enumerate(val_loader,start=1):#! one pass because val_loader batch size is all, if you want to do it in mini-batches, you MUST change the metric calculations to accept mini-batches\n",
    "                outputs = model(inputs)\n",
    "                # labels = labels.cpu() \n",
    "                loss = criterion(outputs, labels)\n",
    "                val_loss += loss.item() #? Calculate loss\n",
    "            avg_val_loss = val_loss / len(val_loader)\n",
    "            \n",
    "        \n",
    "        # Early stopping\n",
    "        if avg_val_loss < best_val_loss:\n",
    "            best_val_loss = avg_val_loss\n",
    "            best_model_state = model.state_dict()\n",
    "            wait = 0\n",
    "        elif avg_val_loss*0.95 <= best_val_loss:\n",
    "                wait = 0\n",
    "        else:\n",
    "            wait += 1\n",
    "        if wait >= patience:\n",
    "            print(f\"Early stopping triggered at epoch {epoch}, best val loss: {best_val_loss:.4f}\")\n",
    "            break\n",
    "        print(f\"Epoch: {epoch}\".ljust(12), f\"training loss:{train_loss:.3f}\".ljust(16), f\"best_val_loss:{best_val_loss:.3f}\".ljust(12), f\"Val Loss: {avg_val_loss:.3f}\", f\"Scheduler lr: {scheduler.get_last_lr()}\",end=\"\\r\")\n",
    "    #* Use best model to calculate metrics on the validation set\n",
    "    #! must be outside epoch loop, it comes after the training and cv loop\n",
    "    model.load_state_dict(best_model_state) #? Load the best model state\n",
    "    with torch.no_grad():\n",
    "        for batch, (inputs, labels) in enumerate(val_loader,start=1):#! one pass because val_loader batch size is all, if you want to do it in mini-batches, you MUST change the metric calculations to accept mini-batches\n",
    "                outputs = model(inputs)\n",
    "                loss = criterion(outputs, labels)\n",
    "                labels = labels.cpu() \n",
    "                # predictions = (torch.sigmoid(outputs) < 0.5).float().cpu().numpy()\n",
    "                predictions = (torch.sigmoid(outputs) >= threshold).float().cpu().numpy()\n",
    "                val_loss += loss.item() #? Calculate loss\n",
    "                \n",
    "    #! The following should have length equal to fold number           \n",
    "    accuracy=accuracy_score(labels, predictions) \n",
    "    precision=precision_score(labels, predictions, pos_label=1, zero_division=0)\n",
    "    recall=recall_score(labels, predictions, pos_label=1)\n",
    "    f1=f1_score(labels, predictions, pos_label=1)\n",
    "    auc=roc_auc_score(labels, predictions)\n",
    "    \n",
    "    return model, accuracy, precision, recall, f1, auc\n"
   ]
  },
  {
   "cell_type": "code",
   "execution_count": 46,
   "id": "d775e045",
   "metadata": {},
   "outputs": [
    {
     "name": "stdout",
     "output_type": "stream",
     "text": [
      "MyModel(\n",
      "  (block1): FeedForwardBlock(\n",
      "    (block): Sequential(\n",
      "      (0): Linear(in_features=8, out_features=64, bias=True)\n",
      "      (1): BatchNorm1d(64, eps=1e-05, momentum=0.1, affine=True, track_running_stats=True)\n",
      "      (2): ReLU()\n",
      "    )\n",
      "  )\n",
      "  (block2): FeedForwardBlock(\n",
      "    (block): Sequential(\n",
      "      (0): Linear(in_features=64, out_features=16, bias=True)\n",
      "      (1): BatchNorm1d(16, eps=1e-05, momentum=0.1, affine=True, track_running_stats=True)\n",
      "      (2): ReLU()\n",
      "    )\n",
      "  )\n",
      "  (output_layer): Linear(in_features=16, out_features=1, bias=True)\n",
      ")\n"
     ]
    }
   ],
   "source": [
    "import torch\n",
    "import torch.nn as nn\n",
    "\n",
    "class FeedForwardBlock(nn.Module):\n",
    "    def __init__(self, in_features, out_features, dropout=None, activation=nn.ReLU):\n",
    "        super().__init__()\n",
    "        layers = [\n",
    "            nn.Linear(in_features, out_features),\n",
    "            nn.BatchNorm1d(out_features),\n",
    "            activation()\n",
    "        ]\n",
    "        if dropout and dropout > 0:\n",
    "            layers.append(nn.Dropout(dropout))\n",
    "        \n",
    "        self.block = nn.Sequential(*layers)\n",
    "    \n",
    "    def forward(self, x):\n",
    "        return self.block(x)\n",
    "\n",
    "\n",
    "class MyModel(nn.Module):\n",
    "    def __init__(self, input_dim, hidden_dim, output_dim, dropout= None, hidden_dim2= None):\n",
    "        super().__init__()\n",
    "        \n",
    "        # A couple of FeedForward blocks\n",
    "        self.block1 = FeedForwardBlock(input_dim, hidden_dim, dropout)\n",
    "        self.block2 = FeedForwardBlock(hidden_dim, output_dim, dropout)\n",
    "        # self.block3 = FeedForwardBlock(hidden_dim2, output_dim, dropout = None)\n",
    "\n",
    "        # Final output layer (could be softmax, sigmoid, or whatever your target is)\n",
    "        self.output_layer = nn.Linear(output_dim, 1)  # Just in case you're doing regression or binary classification\n",
    "\n",
    "    def forward(self, x):\n",
    "        x = self.block1(x)\n",
    "        x = self.block2(x)\n",
    "        # x = self.block3(x)\n",
    "        x = self.output_layer(x)  # Final linear layer\n",
    "        return x\n",
    "    \n",
    "    def last_layer(self):\n",
    "        return self.output_layer\n",
    "test_model = MyModel(8,64,16,0)\n",
    "print(test_model)\n"
   ]
  },
  {
   "cell_type": "code",
   "execution_count": 50,
   "id": "53f7599a",
   "metadata": {},
   "outputs": [],
   "source": [
    "def maximise_combined_score(trial):\n",
    "    device = torch.device(\"cuda\" if torch.cuda.is_available() else \"cpu\")\n",
    "    print(\"Using device:\", device)\n",
    "    epochs = 10000\n",
    "    random_state = 42\n",
    "\n",
    "    n_neighbours = trial.suggest_int(\"n_neighbours\", 2, 10)\n",
    "    oversampler = ADASYN(sampling_strategy='minority', n_neighbors=n_neighbours, random_state=random_state)\n",
    "    \n",
    "    normalisation_method = trial.suggest_categorical(\"normalisation_method\", [\"MinMaxScaler\",])\n",
    "    if normalisation_method:\n",
    "        if normalisation_method == \"MinMaxScaler\":\n",
    "            normalisation_method = MinMaxScaler()\n",
    "        else:\n",
    "            normalisation_method = MinMaxScaler()\n",
    "    contamination = trial.suggest_float(\"contamination\", 0.19, 0.4)\n",
    "    kFolds = FOLDS_GENERATOR(X_FOR_FOLDS, Y_FOR_FOLDS, \n",
    "                         normalisation_method = normalisation_method, \n",
    "                         n_splits=5, \n",
    "                         oversampler = oversampler, random_state=42, contamination=contamination)\n",
    "                        \n",
    "    # Model hyperparameters (first-level optimization)\n",
    "    hidden_dim = trial.suggest_int(\"hidden_dim\", 64, 128)\n",
    "    # hidden_dim2 = trial.suggest_int(\"hidden_dim2\", 20, 100)\n",
    "    hidden_dim2 = None\n",
    "    output_dim = trial.suggest_int(\"output_dim\", 8, hidden_dim)\n",
    "    \n",
    "    dropout = trial.suggest_float(\"dropout\", 0.00, 0.00)\n",
    "    threshold = trial.suggest_float(\"threshold\", 0.3, 0.8)\n",
    "    # dropout = None\n",
    "    initial_lr = trial.suggest_float(\"initial_lr\", 1e-4, 1e-3, log=True)\n",
    "    max_lr = trial.suggest_float(\"max_lr\", 5e-3, 5e-3, log=True)\n",
    "    weight_decay = trial.suggest_float(\"weight_decay\", 1e-5, 1e-2, log=True)\n",
    "    \n",
    "    # Loss function hyperparameters\n",
    "    criterion_choice = trial.suggest_categorical(\"criterion\", [\"FocalLoss\"]) \n",
    "    # criterion_choice = trial.suggest_categorical(\"criterion\", [\"BCEWithLogitsLoss\"]) \n",
    "    \n",
    "    # Hyperparameter exploration optimization\n",
    "    if criterion_choice == \"BCEWithLogitsLoss\":\n",
    "        pos_weight = trial.suggest_int(\"pos_weight\", 1, 10)\n",
    "        alpha = None\n",
    "        gamma = None\n",
    "    elif criterion_choice == \"FocalLoss\":\n",
    "        pos_weight= None\n",
    "        alpha = trial.suggest_float(\"alpha\", .8, 2)\n",
    "        gamma = trial.suggest_float(\"gamma\", 0.1, 1.5)\n",
    "    else:\n",
    "        pos_weight = None\n",
    "    \n",
    "    # Initialize lists for metrics across folds\n",
    "    accuracy_list = []\n",
    "    precision_list = []\n",
    "    recall_list = []\n",
    "    f1_list = []\n",
    "    auc_list = []\n",
    "\n",
    "    # Cross-validation loop\n",
    "    for fold, (train_x, test_x, train_y, test_y) in enumerate(kFolds, start=1):\n",
    "        print(f\"Fold {fold}:\")\n",
    "        # Create DataLoader for current fold\n",
    "        train_loader, val_loader = fold_to_dataloader_tensor(train_x, test_x, train_y, test_y, batch_size=64, device=device)\n",
    "        # Instantiate and initialize the model\n",
    "        model = MyModel(input_dim=get_feature_count(train_loader), hidden_dim=hidden_dim, output_dim=hidden_dim, dropout=dropout)\n",
    "        model.to(device)\n",
    "        model.apply(init_weights)\n",
    "        \n",
    "        # Map the choice to the actual loss function\n",
    "        criterion = criterion_mapping(criterion_choice, pos_weight, alpha, gamma)\n",
    "        optimiser = optim.Adam(model.parameters(), lr=initial_lr, weight_decay=weight_decay)\n",
    "        scheduler = torch.optim.lr_scheduler.CyclicLR(optimiser, base_lr=1e-5, max_lr=5e-4)\n",
    "        \n",
    "        # Train and evaluate the model on the current fold\n",
    "        model, accuracy, precision, recall, f1, auc = train_and_evaluate(\n",
    "            model, criterion, optimiser, scheduler, train_loader, val_loader, epochs=epochs, patience=10, device=device, threshold = threshold\n",
    "        )\n",
    "        print(f\"Accuracy: {accuracy:.4f}, precision: {precision:.4f}, recall: {recall:.4f}, f1: {f1:.4f}, auc: {auc:.4f}\")\n",
    "        del model\n",
    "        del train_loader\n",
    "        del val_loader\n",
    "    \n",
    "        # Append the metrics from the current fold\n",
    "        accuracy_list.append(accuracy)\n",
    "        precision_list.append(precision)\n",
    "        recall_list.append(recall)\n",
    "        f1_list.append(f1)\n",
    "        auc_list.append(auc)\n",
    "\n",
    "    # Calculate the average metrics across all folds\n",
    "    avg_accuracy = np.sum(accuracy_list) / len(accuracy_list)\n",
    "    avg_precision = np.sum(precision_list) / len(precision_list)\n",
    "    avg_recall = np.sum(recall_list) / len(recall_list)\n",
    "    avg_f1 = np.sum(f1_list) / len(f1_list)\n",
    "    avg_auc = np.sum(auc_list) / len(auc_list)\n",
    "\n",
    "    # Combine metrics into a single \"score\"\n",
    "    # combined_score = (avg_f1 + avg_precision + avg_recall + avg_accuracy + avg_auc) / 5\n",
    "    combined_score = avg_f1\n",
    "\n",
    "    return combined_score\n"
   ]
  },
  {
   "cell_type": "code",
   "execution_count": 51,
   "id": "437925bd",
   "metadata": {},
   "outputs": [],
   "source": [
    "# import threading\n",
    "# import optuna\n",
    "# from optuna_dashboard import run_server\n",
    "\n",
    "# def start_dashboard():\n",
    "#     run_server(storage)\n",
    "\n",
    "# storage = optuna.storages.InMemoryStorage()\n",
    "# study = optuna.create_study(direction=\"maximize\", storage=storage, study_name=\"Basic\")\n",
    "\n",
    "# # Start dashboard in a separate thread\n",
    "# dashboard_thread = threading.Thread(target=start_dashboard, daemon=True)\n",
    "# dashboard_thread.start()\n",
    "\n",
    "# # Run optimization\n",
    "# study.optimize(maximise_combined_score, n_trials=30)\n",
    "\n",
    "# # After optimization, print results\n",
    "# print(\"Best trial:\")\n",
    "# trial = study.best_trial\n",
    "# print(f\"  Combined score: {trial.value}\")\n",
    "# print(\"  Best hyperparameters:\")\n",
    "# for key, value in trial.params.items():\n",
    "#     print(f\"    {key}: {value}\")\n"
   ]
  },
  {
   "cell_type": "code",
   "execution_count": 52,
   "id": "58fbf56b",
   "metadata": {},
   "outputs": [
    {
     "name": "stdout",
     "output_type": "stream",
     "text": [
      "Using device: cuda\n"
     ]
    },
    {
     "name": "stderr",
     "output_type": "stream",
     "text": [
      "Bottle v0.13.2 server starting up (using WSGIRefServer())...\n",
      "Listening on http://localhost:8080/\n",
      "Hit Ctrl-C to quit.\n",
      "\n"
     ]
    },
    {
     "name": "stdout",
     "output_type": "stream",
     "text": [
      "Fold: 1, Train: (6004, 28), Test: (1149, 28)\n",
      "Fold: 2, Train: (5849, 28), Test: (1149, 28)\n",
      "Fold: 3, Train: (6005, 28), Test: (1148, 28)\n",
      "Fold: 4, Train: (6030, 28), Test: (1148, 28)\n",
      "Fold: 5, Train: (6015, 28), Test: (1148, 28)\n",
      "Fold 1:\n",
      "Early stopping triggered at epoch 38, best val loss: 0.7317ss: 0.922 Scheduler lr: [0.00014695500000000005]\n",
      "Accuracy: 0.7137, precision: 0.1858, recall: 0.5431, f1: 0.2769, auc: 0.6380\n",
      "Fold 2:\n",
      "Early stopping triggered at epoch 37, best val loss: 0.7510ss: 1.063 Scheduler lr: [0.00018738000000000004]\n",
      "Accuracy: 0.7415, precision: 0.1953, recall: 0.5000, f1: 0.2809, auc: 0.6343\n",
      "Fold 3:\n",
      "Early stopping triggered at epoch 12, best val loss: 0.6210ss: 0.896 Scheduler lr: [0.00026063499999999995]\n",
      "Accuracy: 0.7317, precision: 0.2055, recall: 0.5776, f1: 0.3032, auc: 0.6633\n",
      "Fold 4:\n",
      "Early stopping triggered at epoch 26, best val loss: 0.7499ss: 1.055 Scheduler lr: [0.0004142500000000001]]\n",
      "Accuracy: 0.6812, precision: 0.1827, recall: 0.6207, f1: 0.2824, auc: 0.6543\n",
      "Fold 5:\n",
      "Epoch: 23    training loss:0.556 best_val_loss:0.788 Val Loss: 0.990 Scheduler lr: [0.00046594500000000016]\r"
     ]
    },
    {
     "name": "stderr",
     "output_type": "stream",
     "text": [
      "[I 2025-04-15 16:22:59,154] Trial 6 finished with value: 0.2875099404123068 and parameters: {'n_neighbours': 6, 'normalisation_method': 'MinMaxScaler', 'contamination': 0.2689168150496098, 'hidden_dim': 77, 'output_dim': 59, 'dropout': 0.0, 'threshold': 0.5169466057355765, 'initial_lr': 0.0003188097133591157, 'max_lr': 0.005, 'weight_decay': 4.3770671509337525e-05, 'criterion': 'FocalLoss', 'alpha': 1.9294705181109608, 'gamma': 0.37194642919416054}. Best is trial 3 with value: 0.2881741376825723.\n"
     ]
    },
    {
     "name": "stdout",
     "output_type": "stream",
     "text": [
      "Early stopping triggered at epoch 24, best val loss: 0.7884\n",
      "Accuracy: 0.6908, precision: 0.1912, recall: 0.6379, f1: 0.2942, auc: 0.6673\n",
      "Using device: cuda\n",
      "Fold: 1, Train: (5589, 28), Test: (1149, 28)\n",
      "Fold: 2, Train: (5594, 28), Test: (1149, 28)\n",
      "Fold: 3, Train: (5613, 28), Test: (1148, 28)\n",
      "Fold: 4, Train: (5605, 28), Test: (1148, 28)\n",
      "Fold: 5, Train: (5623, 28), Test: (1148, 28)\n",
      "Fold 1:\n",
      "Early stopping triggered at epoch 40, best val loss: 0.3499ss: 0.489 Scheduler lr: [0.00015871500000000006]\n",
      "Accuracy: 0.5361, precision: 0.1508, recall: 0.7759, f1: 0.2525, auc: 0.6425\n",
      "Fold 2:\n",
      "Early stopping triggered at epoch 26, best val loss: 0.4032ss: 0.471 Scheduler lr: [0.00045712500000000007]\n",
      "Accuracy: 0.4552, precision: 0.1429, recall: 0.8793, f1: 0.2458, auc: 0.6434\n",
      "Fold 3:\n",
      "Early stopping triggered at epoch 33, best val loss: 0.3163ss: 0.700 Scheduler lr: [0.00030792000000000005]\n",
      "Accuracy: 0.5627, precision: 0.1541, recall: 0.7414, f1: 0.2552, auc: 0.6420\n",
      "Fold 4:\n",
      "Early stopping triggered at epoch 29, best val loss: 0.3783ss: 0.587 Scheduler lr: [0.00039318]99999999997]\n",
      "Accuracy: 0.4216, precision: 0.1356, recall: 0.8793, f1: 0.2350, auc: 0.6247\n",
      "Fold 5:\n",
      "Epoch: 37    training loss:0.174 best_val_loss:0.391 Val Loss: 0.501 Scheduler lr: [0.00020134500000000013]\r"
     ]
    },
    {
     "name": "stderr",
     "output_type": "stream",
     "text": [
      "[I 2025-04-15 16:23:40,171] Trial 7 finished with value: 0.24449920469737146 and parameters: {'n_neighbours': 7, 'normalisation_method': 'MinMaxScaler', 'contamination': 0.3098161210752295, 'hidden_dim': 113, 'output_dim': 25, 'dropout': 0.0, 'threshold': 0.305467093927448, 'initial_lr': 0.00012778619623520009, 'max_lr': 0.005, 'weight_decay': 0.00014389467451557598, 'criterion': 'FocalLoss', 'alpha': 1.9474655008217867, 'gamma': 1.4544010338027842}. Best is trial 3 with value: 0.2881741376825723.\n"
     ]
    },
    {
     "name": "stdout",
     "output_type": "stream",
     "text": [
      "Early stopping triggered at epoch 38, best val loss: 0.3905\n",
      "Accuracy: 0.4355, precision: 0.1356, recall: 0.8534, f1: 0.2340, auc: 0.6210\n",
      "Using device: cuda\n",
      "Fold: 1, Train: (6454, 28), Test: (1149, 28)\n",
      "Fold: 2, Train: (6433, 28), Test: (1149, 28)\n",
      "Fold: 3, Train: (6461, 28), Test: (1148, 28)\n",
      "Fold: 4, Train: (6451, 28), Test: (1148, 28)\n",
      "Fold: 5, Train: (6445, 28), Test: (1148, 28)\n",
      "Fold 1:\n",
      "Early stopping triggered at epoch 31, best val loss: 0.2585ss: 0.399 Scheduler lr: [0.000255]999999999999]]\n",
      "Accuracy: 0.8538, precision: 0.2347, recall: 0.1983, f1: 0.2150, auc: 0.5628\n",
      "Fold 2:\n",
      "Early stopping triggered at epoch 32, best val loss: 0.2599ss: 0.309 Scheduler lr: [0.00023050000000000007]\n",
      "Accuracy: 0.8686, precision: 0.2222, recall: 0.1207, f1: 0.1564, auc: 0.5366\n",
      "Fold 3:\n",
      "Early stopping triggered at epoch 33, best val loss: 0.2529ss: 0.294 Scheduler lr: [0.00020599999999999994]\n",
      "Accuracy: 0.8563, precision: 0.2752, recall: 0.2586, f1: 0.2667, auc: 0.5910\n",
      "Fold 4:\n",
      "Early stopping triggered at epoch 37, best val loss: 0.2452ss: 0.334 Scheduler lr: [0.00010800000000000008]\n",
      "Accuracy: 0.8632, precision: 0.2697, recall: 0.2069, f1: 0.2341, auc: 0.5720\n",
      "Fold 5:\n",
      "Epoch: 29    training loss:0.162 best_val_loss:0.254 Val Loss: 0.336 Scheduler lr: [0.0002794999999999999]]\r"
     ]
    },
    {
     "name": "stderr",
     "output_type": "stream",
     "text": [
      "[I 2025-04-15 16:24:25,217] Trial 8 finished with value: 0.2302940278885969 and parameters: {'n_neighbours': 4, 'normalisation_method': 'MinMaxScaler', 'contamination': 0.21459395737196063, 'hidden_dim': 76, 'output_dim': 73, 'dropout': 0.0, 'threshold': 0.7285061856217802, 'initial_lr': 0.0004937073741815437, 'max_lr': 0.005, 'weight_decay': 1.1424963542321471e-05, 'criterion': 'FocalLoss', 'alpha': 1.256271794852681, 'gamma': 1.3085051495919697}. Best is trial 3 with value: 0.2881741376825723.\n"
     ]
    },
    {
     "name": "stdout",
     "output_type": "stream",
     "text": [
      "Early stopping triggered at epoch 30, best val loss: 0.2537\n",
      "Accuracy: 0.8606, precision: 0.2925, recall: 0.2672, f1: 0.2793, auc: 0.5973\n",
      "Using device: cuda\n",
      "Fold: 1, Train: (6293, 28), Test: (1149, 28)\n",
      "Fold: 2, Train: (6292, 28), Test: (1149, 28)\n",
      "Fold: 3, Train: (6302, 28), Test: (1148, 28)\n",
      "Fold: 4, Train: (6332, 28), Test: (1148, 28)\n",
      "Fold: 5, Train: (6282, 28), Test: (1148, 28)\n",
      "Fold 1:\n",
      "Early stopping triggered at epoch 29, best val loss: 0.3665ss: 0.804 Scheduler lr: [0.00031772000000000007]\n",
      "Accuracy: 0.6406, precision: 0.1648, recall: 0.6293, f1: 0.2612, auc: 0.6356\n",
      "Fold 2:\n",
      "Early stopping triggered at epoch 29, best val loss: 0.3929ss: 0.445 Scheduler lr: [0.00031772000000000007]\n",
      "Accuracy: 0.6963, precision: 0.1910, recall: 0.6207, f1: 0.2921, auc: 0.6627\n",
      "Fold 3:\n",
      "Early stopping triggered at epoch 27, best val loss: 0.3719ss: 0.642 Scheduler lr: [0.00036574]99999999996]\n",
      "Accuracy: 0.7587, precision: 0.1962, recall: 0.4483, f1: 0.2730, auc: 0.6209\n",
      "Fold 4:\n",
      "Early stopping triggered at epoch 30, best val loss: 0.4755ss: 0.564 Scheduler lr: [0.00029370999999999987]\n",
      "Accuracy: 0.7247, precision: 0.2024, recall: 0.5862, f1: 0.3009, auc: 0.6633\n",
      "Fold 5:\n",
      "Epoch: 11    training loss:0.398 best_val_loss:0.343 Val Loss: 0.461 Scheduler lr: [0.0002741100000000001]]\r"
     ]
    },
    {
     "name": "stderr",
     "output_type": "stream",
     "text": [
      "[I 2025-04-15 16:25:02,165] Trial 9 finished with value: 0.2810610489059593 and parameters: {'n_neighbours': 2, 'normalisation_method': 'MinMaxScaler', 'contamination': 0.23978137139898673, 'hidden_dim': 109, 'output_dim': 28, 'dropout': 0.0, 'threshold': 0.43599240202849515, 'initial_lr': 0.0006749182652760562, 'max_lr': 0.005, 'weight_decay': 0.0008282566969356223, 'criterion': 'FocalLoss', 'alpha': 1.144609008408906, 'gamma': 0.4311960640885757}. Best is trial 3 with value: 0.2881741376825723.\n"
     ]
    },
    {
     "name": "stdout",
     "output_type": "stream",
     "text": [
      "Early stopping triggered at epoch 12, best val loss: 0.3435\n",
      "Accuracy: 0.5706, precision: 0.1675, recall: 0.8190, f1: 0.2782, auc: 0.6808\n",
      "Using device: cuda\n",
      "Fold: 1, Train: (5075, 28), Test: (1149, 28)\n",
      "Fold: 2, Train: (5076, 28), Test: (1149, 28)\n",
      "Fold: 3, Train: (5147, 28), Test: (1148, 28)\n",
      "Fold: 4, Train: (5063, 28), Test: (1148, 28)\n",
      "Fold: 5, Train: (5158, 28), Test: (1148, 28)\n",
      "Fold 1:\n",
      "Early stopping triggered at epoch 42, best val loss: 0.3065ss: 0.518 Scheduler lr: [0.00019644500000000003]\n",
      "Accuracy: 0.8581, precision: 0.2762, recall: 0.2500, f1: 0.2624, auc: 0.5882\n",
      "Fold 2:\n",
      "Early stopping triggered at epoch 28, best val loss: 0.3601ss: 0.432 Scheduler lr: [0.000467415]999999999]]\n",
      "Accuracy: 0.8407, precision: 0.1748, recall: 0.1552, f1: 0.1644, auc: 0.5364\n",
      "Fold 3:\n",
      "Early stopping triggered at epoch 14, best val loss: 0.3825ss: 0.453 Scheduler lr: [0.00026480000000000004]\n",
      "Accuracy: 0.8345, precision: 0.2154, recall: 0.2414, f1: 0.2276, auc: 0.5713\n",
      "Fold 4:\n",
      "Early stopping triggered at epoch 45, best val loss: 0.3449ss: 0.493 Scheduler lr: [0.00013838]99999999994]\n",
      "Accuracy: 0.8319, precision: 0.2484, recall: 0.3276, f1: 0.2825, auc: 0.6081\n",
      "Fold 5:\n",
      "Epoch: 39    training loss:0.174 best_val_loss:0.372 Val Loss: 0.450 Scheduler lr: [0.00022559999999999995]\r"
     ]
    },
    {
     "name": "stderr",
     "output_type": "stream",
     "text": [
      "[I 2025-04-15 16:25:40,621] Trial 10 finished with value: 0.2496510872334429 and parameters: {'n_neighbours': 9, 'normalisation_method': 'MinMaxScaler', 'contamination': 0.3819244473966116, 'hidden_dim': 96, 'output_dim': 82, 'dropout': 0.0, 'threshold': 0.7603134080586808, 'initial_lr': 0.0007139825772193226, 'max_lr': 0.005, 'weight_decay': 0.002614783295755123, 'criterion': 'FocalLoss', 'alpha': 1.2194030521192154, 'gamma': 0.9331281193482837}. Best is trial 3 with value: 0.2881741376825723.\n"
     ]
    },
    {
     "name": "stdout",
     "output_type": "stream",
     "text": [
      "Early stopping triggered at epoch 40, best val loss: 0.3718\n",
      "Accuracy: 0.8188, precision: 0.2527, recall: 0.4052, f1: 0.3113, auc: 0.6352\n",
      "Using device: cuda\n",
      "Fold: 1, Train: (4956, 28), Test: (1149, 28)\n",
      "Fold: 2, Train: (4959, 28), Test: (1149, 28)\n",
      "Fold: 3, Train: (4928, 28), Test: (1148, 28)\n",
      "Fold: 4, Train: (4947, 28), Test: (1148, 28)\n",
      "Fold: 5, Train: (4918, 28), Test: (1148, 28)\n",
      "Fold 1:\n",
      "Early stopping triggered at epoch 40, best val loss: 0.2046ss: 0.792 Scheduler lr: [0.000254265]9999999995]\n",
      "Accuracy: 0.8634, precision: 0.3217, recall: 0.3190, f1: 0.3203, auc: 0.6217\n",
      "Fold 2:\n",
      "Early stopping triggered at epoch 43, best val loss: 0.2429ss: 0.349 Scheduler lr: [0.00019767]99999999999]\n",
      "Accuracy: 0.8233, precision: 0.2542, recall: 0.3879, f1: 0.3072, auc: 0.6301\n",
      "Fold 3:\n",
      "Early stopping triggered at epoch 26, best val loss: 0.2585ss: 0.279 Scheduler lr: [0.00048162499999999996]\n",
      "Accuracy: 0.8066, precision: 0.2211, recall: 0.3621, f1: 0.2745, auc: 0.6093\n",
      "Fold 4:\n",
      "Early stopping triggered at epoch 28, best val loss: 0.2551ss: 0.439 Scheduler lr: [0.00048064499999999987]\n",
      "Accuracy: 0.8223, precision: 0.2317, recall: 0.3276, f1: 0.2714, auc: 0.6027\n",
      "Fold 5:\n",
      "Early stopping triggered at epoch 39, best val loss: 0.2142ss: 0.629 Scheduler lr: [0.00028244000000000007]\n",
      "Accuracy: 0.7038, precision: 0.1854, recall: 0.5690, f1: 0.2797, auc: 0.6440\n"
     ]
    },
    {
     "name": "stderr",
     "output_type": "stream",
     "text": [
      "[I 2025-04-15 16:26:20,074] Trial 11 finished with value: 0.29062258962809867 and parameters: {'n_neighbours': 3, 'normalisation_method': 'MinMaxScaler', 'contamination': 0.3989103131315699, 'hidden_dim': 127, 'output_dim': 116, 'dropout': 0.0, 'threshold': 0.6506511308289264, 'initial_lr': 0.0002436705223132959, 'max_lr': 0.005, 'weight_decay': 0.008205022562938822, 'criterion': 'FocalLoss', 'alpha': 0.8324921984316629, 'gamma': 0.747980939194632}. Best is trial 11 with value: 0.29062258962809867.\n"
     ]
    },
    {
     "name": "stdout",
     "output_type": "stream",
     "text": [
      "Using device: cuda\n",
      "Fold: 1, Train: (4980, 28), Test: (1149, 28)\n",
      "Fold: 2, Train: (4967, 28), Test: (1149, 28)\n",
      "Fold: 3, Train: (4958, 28), Test: (1148, 28)\n",
      "Fold: 4, Train: (4973, 28), Test: (1148, 28)\n",
      "Fold: 5, Train: (4960, 28), Test: (1148, 28)\n",
      "Fold 1:\n",
      "Early stopping triggered at epoch 12, best val loss: 0.1970ss: 0.357 Scheduler lr: [0.00021751499999999989]\n",
      "Accuracy: 0.8442, precision: 0.2968, recall: 0.3966, f1: 0.3395, auc: 0.6455\n",
      "Fold 2:\n",
      "Early stopping triggered at epoch 24, best val loss: 0.2374ss: 0.606 Scheduler lr: [0.000443895]0000000004]\n",
      "Accuracy: 0.7859, precision: 0.2098, recall: 0.4052, f1: 0.2765, auc: 0.6169\n",
      "Fold 3:\n",
      "Early stopping triggered at epoch 46, best val loss: 0.2142ss: 0.319 Scheduler lr: [0.00014107500000000003]\n",
      "Accuracy: 0.7204, precision: 0.1884, recall: 0.5345, f1: 0.2787, auc: 0.6379\n",
      "Fold 4:\n",
      "Early stopping triggered at epoch 41, best val loss: 0.2344ss: 0.366 Scheduler lr: [0.00023539999999999998]\n",
      "Accuracy: 0.8084, precision: 0.2292, recall: 0.3793, f1: 0.2857, auc: 0.6179\n",
      "Fold 5:\n",
      "Early stopping triggered at epoch 43, best val loss: 0.1997ss: 0.296 Scheduler lr: [0.00019767]99999999999]\n"
     ]
    },
    {
     "name": "stderr",
     "output_type": "stream",
     "text": [
      "[I 2025-04-15 16:26:56,784] Trial 12 finished with value: 0.2926376960146401 and parameters: {'n_neighbours': 3, 'normalisation_method': 'MinMaxScaler', 'contamination': 0.3933990778924868, 'hidden_dim': 127, 'output_dim': 120, 'dropout': 0.0, 'threshold': 0.6644584139198197, 'initial_lr': 0.00019867823310058873, 'max_lr': 0.005, 'weight_decay': 0.009133079103388985, 'criterion': 'FocalLoss', 'alpha': 0.8319599713685812, 'gamma': 0.8024538234995696}. Best is trial 12 with value: 0.2926376960146401.\n"
     ]
    },
    {
     "name": "stdout",
     "output_type": "stream",
     "text": [
      "Accuracy: 0.6864, precision: 0.1839, recall: 0.6121, f1: 0.2829, auc: 0.6534\n",
      "Using device: cuda\n",
      "Fold: 1, Train: (5741, 28), Test: (1149, 28)\n",
      "Fold: 2, Train: (5720, 28), Test: (1149, 28)\n",
      "Fold: 3, Train: (5708, 28), Test: (1148, 28)\n",
      "Fold: 4, Train: (5727, 28), Test: (1148, 28)\n",
      "Fold: 5, Train: (5711, 28), Test: (1148, 28)\n",
      "Fold 1:\n",
      "Early stopping triggered at epoch 35, best val loss: 0.2252ss: 0.286 Scheduler lr: [0.00024863000000000006]\n",
      "Accuracy: 0.8312, precision: 0.2292, recall: 0.2845, f1: 0.2538, auc: 0.5885\n",
      "Fold 2:\n",
      "Early stopping triggered at epoch 44, best val loss: 0.2304ss: 0.327 Scheduler lr: [5.238500000000001e-05]]\n",
      "Accuracy: 0.8320, precision: 0.2230, recall: 0.2672, f1: 0.2431, auc: 0.5813\n",
      "Fold 3:\n",
      "Early stopping triggered at epoch 36, best val loss: 0.2099ss: 0.332 Scheduler lr: [0.00022682499999999994]\n",
      "Accuracy: 0.8537, precision: 0.2797, recall: 0.2845, f1: 0.2821, auc: 0.6011\n",
      "Fold 4:\n",
      "Early stopping triggered at epoch 12, best val loss: 0.2514ss: 0.305 Scheduler lr: [0.00024985500000000005]\n",
      "Accuracy: 0.8423, precision: 0.2876, recall: 0.3793, f1: 0.3271, auc: 0.6368\n",
      "Fold 5:\n",
      "Epoch: 10    training loss:0.222 best_val_loss:0.220 Val Loss: 0.283 Scheduler lr: [0.0002280499999999999]]\r"
     ]
    },
    {
     "name": "stderr",
     "output_type": "stream",
     "text": [
      "[I 2025-04-15 16:27:32,534] Trial 13 finished with value: 0.28480033892642787 and parameters: {'n_neighbours': 4, 'normalisation_method': 'MinMaxScaler', 'contamination': 0.3101927610338293, 'hidden_dim': 128, 'output_dim': 124, 'dropout': 0.0, 'threshold': 0.6800724577606564, 'initial_lr': 0.0002005228369737761, 'max_lr': 0.005, 'weight_decay': 0.00897475775333641, 'criterion': 'FocalLoss', 'alpha': 0.819033959899269, 'gamma': 0.7948312083501858}. Best is trial 12 with value: 0.2926376960146401.\n"
     ]
    },
    {
     "name": "stdout",
     "output_type": "stream",
     "text": [
      "Early stopping triggered at epoch 11, best val loss: 0.2202\n",
      "Accuracy: 0.8467, precision: 0.2887, recall: 0.3534, f1: 0.3178, auc: 0.6278\n",
      "Using device: cuda\n",
      "Fold: 1, Train: (4914, 28), Test: (1149, 28)\n",
      "Fold: 2, Train: (4894, 28), Test: (1149, 28)\n",
      "Fold: 3, Train: (4869, 28), Test: (1148, 28)\n",
      "Fold: 4, Train: (4880, 28), Test: (1148, 28)\n",
      "Fold: 5, Train: (4858, 28), Test: (1148, 28)\n",
      "Fold 1:\n",
      "Early stopping triggered at epoch 11, best val loss: 0.2953ss: 0.330 Scheduler lr: [0.00019619999999999994]\n",
      "Accuracy: 0.8225, precision: 0.2500, recall: 0.3793, f1: 0.3014, auc: 0.6258\n",
      "Fold 2:\n",
      "Early stopping triggered at epoch 12, best val loss: 0.2105ss: 0.385 Scheduler lr: [0.00021482000000000006]\n",
      "Accuracy: 0.7598, precision: 0.1970, recall: 0.4483, f1: 0.2737, auc: 0.6215\n",
      "Fold 3:\n",
      "Early stopping triggered at epoch 38, best val loss: 0.2964ss: 0.396 Scheduler lr: [0.0003010600000000002]]\n",
      "Accuracy: 0.8232, precision: 0.2597, recall: 0.4052, f1: 0.3165, auc: 0.6377\n",
      "Fold 4:\n",
      "Early stopping triggered at epoch 45, best val loss: 0.3458ss: 0.489 Scheduler lr: [0.00017072000000000013]\n",
      "Accuracy: 0.7709, precision: 0.2140, recall: 0.4741, f1: 0.2949, auc: 0.6392\n",
      "Fold 5:\n",
      "Epoch: 11    training loss:0.293 best_val_loss:0.350 Val Loss: 0.461 Scheduler lr: [0.00021212500000000005]\r"
     ]
    },
    {
     "name": "stderr",
     "output_type": "stream",
     "text": [
      "[I 2025-04-15 16:27:59,192] Trial 14 finished with value: 0.30328497724490006 and parameters: {'n_neighbours': 4, 'normalisation_method': 'MinMaxScaler', 'contamination': 0.3999772041469822, 'hidden_dim': 127, 'output_dim': 127, 'dropout': 0.0, 'threshold': 0.663744418583943, 'initial_lr': 0.00021692849660447805, 'max_lr': 0.005, 'weight_decay': 0.0020470905116767614, 'criterion': 'FocalLoss', 'alpha': 1.035501795252712, 'gamma': 0.7534167255913519}. Best is trial 14 with value: 0.30328497724490006.\n"
     ]
    },
    {
     "name": "stdout",
     "output_type": "stream",
     "text": [
      "Early stopping triggered at epoch 12, best val loss: 0.3504\n",
      "Accuracy: 0.8267, precision: 0.2707, recall: 0.4224, f1: 0.3300, auc: 0.6473\n",
      "Using device: cuda\n",
      "Fold: 1, Train: (5415, 28), Test: (1149, 28)\n",
      "Fold: 2, Train: (5409, 28), Test: (1149, 28)\n",
      "Fold: 3, Train: (5366, 28), Test: (1148, 28)\n",
      "Fold: 4, Train: (5415, 28), Test: (1148, 28)\n",
      "Fold: 5, Train: (5398, 28), Test: (1148, 28)\n",
      "Fold 1:\n",
      "Early stopping triggered at epoch 44, best val loss: 0.2473ss: 0.317 Scheduler lr: [0.00010505999999999997]\n",
      "Accuracy: 0.8634, precision: 0.2338, recall: 0.1552, f1: 0.1865, auc: 0.5490\n",
      "Fold 2:\n",
      "Early stopping triggered at epoch 28, best val loss: 0.2862ss: 0.607 Scheduler lr: [0.0004343400000000001]]\n",
      "Accuracy: 0.8259, precision: 0.1866, recall: 0.2155, f1: 0.2000, auc: 0.5550\n",
      "Fold 3:\n",
      "Early stopping triggered at epoch 44, best val loss: 0.2527ss: 0.378 Scheduler lr: [0.00011559500000000001]\n",
      "Accuracy: 0.8301, precision: 0.2484, recall: 0.3362, f1: 0.2857, auc: 0.6109\n",
      "Fold 4:\n",
      "Early stopping triggered at epoch 39, best val loss: 0.2461ss: 0.410 Scheduler lr: [0.00020795999999999995]\n",
      "Accuracy: 0.8336, precision: 0.2302, recall: 0.2759, f1: 0.2510, auc: 0.5861\n",
      "Fold 5:\n",
      "Early stopping triggered at epoch 36, best val loss: 0.2399ss: 0.342 Scheduler lr: [0.00026970000000000016]\n"
     ]
    },
    {
     "name": "stderr",
     "output_type": "stream",
     "text": [
      "[I 2025-04-15 16:28:45,902] Trial 15 finished with value: 0.2422321836942273 and parameters: {'n_neighbours': 4, 'normalisation_method': 'MinMaxScaler', 'contamination': 0.3412820876432772, 'hidden_dim': 119, 'output_dim': 100, 'dropout': 0.0, 'threshold': 0.7930542575026666, 'initial_lr': 0.00020796168932666673, 'max_lr': 0.005, 'weight_decay': 0.001583294580148402, 'criterion': 'FocalLoss', 'alpha': 1.0286623758545275, 'gamma': 1.0463650249456626}. Best is trial 14 with value: 0.30328497724490006.\n"
     ]
    },
    {
     "name": "stdout",
     "output_type": "stream",
     "text": [
      "Accuracy: 0.8406, precision: 0.2624, recall: 0.3190, f1: 0.2879, auc: 0.6091\n",
      "Using device: cuda\n",
      "Fold: 1, Train: (5451, 28), Test: (1149, 28)\n",
      "Fold: 2, Train: (5502, 28), Test: (1149, 28)\n",
      "Fold: 3, Train: (5527, 28), Test: (1148, 28)\n",
      "Fold: 4, Train: (5482, 28), Test: (1148, 28)\n",
      "Fold: 5, Train: (5475, 28), Test: (1148, 28)\n",
      "Fold 1:\n",
      "Early stopping triggered at epoch 27, best val loss: 0.2667ss: 0.546 Scheduler lr: [0.00044855000000000003]\n",
      "Accuracy: 0.8285, precision: 0.2453, recall: 0.3362, f1: 0.2836, auc: 0.6100\n",
      "Fold 2:\n",
      "Early stopping triggered at epoch 22, best val loss: 0.2619ss: 0.419 Scheduler lr: [0.00044732500000000004]\n",
      "Accuracy: 0.8285, precision: 0.2000, recall: 0.2328, f1: 0.2151, auc: 0.5641\n",
      "Fold 3:\n",
      "Early stopping triggered at epoch 37, best val loss: 0.2713ss: 0.302 Scheduler lr: [0.00023147999999999997]\n",
      "Accuracy: 0.8005, precision: 0.2132, recall: 0.3621, f1: 0.2684, auc: 0.6059\n",
      "Fold 4:\n",
      "Early stopping triggered at epoch 12, best val loss: 0.2061ss: 0.286 Scheduler lr: [0.0002390750000000001]]\n",
      "Accuracy: 0.8702, precision: 0.3103, recall: 0.2328, f1: 0.2660, auc: 0.5873\n",
      "Fold 5:\n",
      "Epoch: 11    training loss:0.225 best_val_loss:0.279 Val Loss: 0.375 Scheduler lr: [0.0002390750000000001]]\r"
     ]
    },
    {
     "name": "stderr",
     "output_type": "stream",
     "text": [
      "[I 2025-04-15 16:29:14,102] Trial 16 finished with value: 0.2715435337243428 and parameters: {'n_neighbours': 8, 'normalisation_method': 'MinMaxScaler', 'contamination': 0.33211735810537507, 'hidden_dim': 119, 'output_dim': 100, 'dropout': 0.0, 'threshold': 0.7034573224471613, 'initial_lr': 0.00016596280088912048, 'max_lr': 0.005, 'weight_decay': 0.0001571240193165449, 'criterion': 'FocalLoss', 'alpha': 1.0269391255040032, 'gamma': 1.0972053331323823}. Best is trial 14 with value: 0.30328497724490006.\n"
     ]
    },
    {
     "name": "stdout",
     "output_type": "stream",
     "text": [
      "Early stopping triggered at epoch 12, best val loss: 0.2793\n",
      "Accuracy: 0.8659, precision: 0.3304, recall: 0.3190, f1: 0.3246, auc: 0.6231\n",
      "Using device: cuda\n",
      "Fold: 1, Train: (5889, 28), Test: (1149, 28)\n",
      "Fold: 2, Train: (5878, 28), Test: (1149, 28)\n",
      "Fold: 3, Train: (5865, 28), Test: (1148, 28)\n",
      "Fold: 4, Train: (6045, 28), Test: (1148, 28)\n",
      "Fold: 5, Train: (5868, 28), Test: (1148, 28)\n",
      "Fold 1:\n",
      "Early stopping triggered at epoch 36, best val loss: 0.4794ss: 0.561 Scheduler lr: [0.00020109999999999985]\n",
      "Accuracy: 0.7833, precision: 0.2170, recall: 0.4397, f1: 0.2906, auc: 0.6308\n",
      "Fold 2:\n",
      "Early stopping triggered at epoch 13, best val loss: 0.5617ss: 0.601 Scheduler lr: [0.00027754000000000017]\n",
      "Accuracy: 0.7154, precision: 0.1924, recall: 0.5690, f1: 0.2876, auc: 0.6504\n",
      "Fold 3:\n",
      "Early stopping triggered at epoch 19, best val loss: 0.5491ss: 0.640 Scheduler lr: [0.00041130999999999996]\n",
      "Accuracy: 0.7483, precision: 0.2068, recall: 0.5259, f1: 0.2968, auc: 0.6496\n",
      "Fold 4:\n",
      "Early stopping triggered at epoch 12, best val loss: 0.4503ss: 0.763 Scheduler lr: [0.00026333]99999999988]\n",
      "Accuracy: 0.7160, precision: 0.1965, recall: 0.5862, f1: 0.2944, auc: 0.6584\n",
      "Fold 5:\n",
      "Epoch: 39    training loss:0.230 best_val_loss:0.424 Val Loss: 0.670 Scheduler lr: [0.00012049500000000013]\r"
     ]
    },
    {
     "name": "stderr",
     "output_type": "stream",
     "text": [
      "[I 2025-04-15 16:29:45,969] Trial 17 finished with value: 0.28721118679040536 and parameters: {'n_neighbours': 5, 'normalisation_method': 'MinMaxScaler', 'contamination': 0.27769030304191267, 'hidden_dim': 120, 'output_dim': 106, 'dropout': 0.0, 'threshold': 0.5846674278358894, 'initial_lr': 0.00010093982802219987, 'max_lr': 0.005, 'weight_decay': 0.0025104446466793643, 'criterion': 'FocalLoss', 'alpha': 1.5486239923401883, 'gamma': 0.6300068047310499}. Best is trial 14 with value: 0.30328497724490006.\n"
     ]
    },
    {
     "name": "stdout",
     "output_type": "stream",
     "text": [
      "Early stopping triggered at epoch 40, best val loss: 0.4241\n",
      "Accuracy: 0.7413, precision: 0.1869, recall: 0.4655, f1: 0.2667, auc: 0.6189\n",
      "Using device: cuda\n",
      "Fold: 1, Train: (5295, 28), Test: (1149, 28)\n",
      "Fold: 2, Train: (5043, 28), Test: (1149, 28)\n",
      "Fold: 3, Train: (5275, 28), Test: (1148, 28)\n",
      "Fold: 4, Train: (5277, 28), Test: (1148, 28)\n",
      "Fold: 5, Train: (5039, 28), Test: (1148, 28)\n",
      "Fold 1:\n",
      "Early stopping triggered at epoch 31, best val loss: 0.2951ss: 0.364 Scheduler lr: [0.00038730000000000004]\n",
      "Accuracy: 0.8138, precision: 0.2394, recall: 0.3879, f1: 0.2961, auc: 0.6247\n",
      "Fold 2:\n",
      "Early stopping triggered at epoch 23, best val loss: 0.4381ss: 0.507 Scheduler lr: [0.00043042000000000004]\n",
      "Accuracy: 0.7554, precision: 0.1978, recall: 0.4655, f1: 0.2776, auc: 0.6268\n",
      "Fold 3:\n",
      "Early stopping triggered at epoch 11, best val loss: 0.3095ss: 0.480 Scheduler lr: [0.00021090000000000006]\n",
      "Accuracy: 0.7944, precision: 0.2143, recall: 0.3879, f1: 0.2761, auc: 0.6140\n",
      "Fold 4:\n",
      "Early stopping triggered at epoch 11, best val loss: 0.3901ss: 0.526 Scheduler lr: [0.00021090000000000006]\n",
      "Accuracy: 0.8171, precision: 0.2673, recall: 0.4655, f1: 0.3396, auc: 0.6611\n",
      "Fold 5:\n",
      "Early stopping triggered at epoch 24, best val loss: 0.3793ss: 0.508 Scheduler lr: [0.0004495300000000001]]\n"
     ]
    },
    {
     "name": "stderr",
     "output_type": "stream",
     "text": [
      "[I 2025-04-15 16:30:10,416] Trial 18 finished with value: 0.29411259849637345 and parameters: {'n_neighbours': 3, 'normalisation_method': 'MinMaxScaler', 'contamination': 0.3817497611582401, 'hidden_dim': 128, 'output_dim': 126, 'dropout': 0.0, 'threshold': 0.6595321757706268, 'initial_lr': 0.00027528693622346303, 'max_lr': 0.005, 'weight_decay': 0.0010492560384304838, 'criterion': 'FocalLoss', 'alpha': 1.0226151644029957, 'gamma': 0.6057484255028913}. Best is trial 14 with value: 0.30328497724490006.\n"
     ]
    },
    {
     "name": "stdout",
     "output_type": "stream",
     "text": [
      "Accuracy: 0.7239, precision: 0.1908, recall: 0.5345, f1: 0.2812, auc: 0.6398\n",
      "Using device: cuda\n",
      "Fold: 1, Train: (5367, 28), Test: (1149, 28)\n",
      "Fold: 2, Train: (5309, 28), Test: (1149, 28)\n",
      "Fold: 3, Train: (5338, 28), Test: (1148, 28)\n",
      "Fold: 4, Train: (5328, 28), Test: (1148, 28)\n",
      "Fold: 5, Train: (5304, 28), Test: (1148, 28)\n",
      "Fold 1:\n",
      "Early stopping triggered at epoch 11, best val loss: 0.3368ss: 0.424 Scheduler lr: [0.00021335]99999999997]\n",
      "Accuracy: 0.6641, precision: 0.1860, recall: 0.6897, f1: 0.2930, auc: 0.6754\n",
      "Fold 2:\n",
      "Early stopping triggered at epoch 32, best val loss: 0.3920ss: 0.658 Scheduler lr: [0.0003672100000000001]]\n",
      "Accuracy: 0.7363, precision: 0.1934, recall: 0.5086, f1: 0.2803, auc: 0.6352\n",
      "Fold 3:\n",
      "Early stopping triggered at epoch 23, best val loss: 0.4087ss: 0.641 Scheduler lr: [0.00045737000000000013]\n",
      "Accuracy: 0.7056, precision: 0.1934, recall: 0.6034, f1: 0.2929, auc: 0.6603\n",
      "Fold 4:\n",
      "Early stopping triggered at epoch 31, best val loss: 0.3422ss: 0.580 Scheduler lr: [0.00037994999999999994]\n",
      "Accuracy: 0.7613, precision: 0.2096, recall: 0.4914, f1: 0.2938, auc: 0.6415\n",
      "Fold 5:\n",
      "Epoch: 11    training loss:0.312 best_val_loss:0.430 Val Loss: 0.517 Scheduler lr: [0.00023099000000000004]\r"
     ]
    },
    {
     "name": "stderr",
     "output_type": "stream",
     "text": [
      "[I 2025-04-15 16:30:37,318] Trial 19 finished with value: 0.28902841898627374 and parameters: {'n_neighbours': 3, 'normalisation_method': 'MinMaxScaler', 'contamination': 0.3700306389712793, 'hidden_dim': 112, 'output_dim': 86, 'dropout': 0.0, 'threshold': 0.5682051808241426, 'initial_lr': 0.0002933476560337376, 'max_lr': 0.005, 'weight_decay': 0.00036848248710612936, 'criterion': 'FocalLoss', 'alpha': 1.0492373967930326, 'gamma': 0.6158225534802104}. Best is trial 14 with value: 0.30328497724490006.\n"
     ]
    },
    {
     "name": "stdout",
     "output_type": "stream",
     "text": [
      "Early stopping triggered at epoch 12, best val loss: 0.4298\n",
      "Accuracy: 0.7030, precision: 0.1884, recall: 0.5862, f1: 0.2851, auc: 0.6511\n",
      "Using device: cuda\n",
      "Fold: 1, Train: (5634, 28), Test: (1149, 28)\n",
      "Fold: 2, Train: (5629, 28), Test: (1149, 28)\n",
      "Fold: 3, Train: (5587, 28), Test: (1148, 28)\n",
      "Fold: 4, Train: (5590, 28), Test: (1148, 28)\n",
      "Fold: 5, Train: (5618, 28), Test: (1148, 28)\n",
      "Fold 1:\n",
      "Early stopping triggered at epoch 33, best val loss: 0.5793ss: 0.940 Scheduler lr: [0.00030008000000000004]\n",
      "Accuracy: 0.8077, precision: 0.2308, recall: 0.3879, f1: 0.2894, auc: 0.6214\n",
      "Fold 2:\n",
      "Early stopping triggered at epoch 23, best val loss: 0.6046ss: 0.665 Scheduler lr: [0.0004789299999999999]]\n",
      "Accuracy: 0.8138, precision: 0.1975, recall: 0.2759, f1: 0.2302, auc: 0.5750\n",
      "Fold 3:\n",
      "Early stopping triggered at epoch 13, best val loss: 0.5261ss: 0.684 Scheduler lr: [0.00026578000000000013]\n",
      "Accuracy: 0.8449, precision: 0.2459, recall: 0.2586, f1: 0.2521, auc: 0.5847\n",
      "Fold 4:\n",
      "Early stopping triggered at epoch 39, best val loss: 0.5650ss: 0.706 Scheduler lr: [0.00018002999999999997]\n",
      "Accuracy: 0.8301, precision: 0.2452, recall: 0.3276, f1: 0.2804, auc: 0.6071\n",
      "Fold 5:\n",
      "Epoch: 12    training loss:0.475 best_val_loss:0.458 Val Loss: 0.650 Scheduler lr: [0.00026578000000000013]\r"
     ]
    },
    {
     "name": "stderr",
     "output_type": "stream",
     "text": [
      "[I 2025-04-15 16:31:08,856] Trial 20 finished with value: 0.2798636701894357 and parameters: {'n_neighbours': 5, 'normalisation_method': 'MinMaxScaler', 'contamination': 0.3254804424732215, 'hidden_dim': 87, 'output_dim': 63, 'dropout': 0.0, 'threshold': 0.7176314478394378, 'initial_lr': 0.00026432434292151006, 'max_lr': 0.005, 'weight_decay': 0.0010380683196703894, 'criterion': 'FocalLoss', 'alpha': 1.4970368842126187, 'gamma': 0.5702888828541303}. Best is trial 14 with value: 0.30328497724490006.\n"
     ]
    },
    {
     "name": "stdout",
     "output_type": "stream",
     "text": [
      "Early stopping triggered at epoch 13, best val loss: 0.4581\n",
      "Accuracy: 0.8493, precision: 0.3087, recall: 0.3966, f1: 0.3472, auc: 0.6484\n",
      "Using device: cuda\n",
      "Fold: 1, Train: (5362, 28), Test: (1149, 28)\n",
      "Fold: 2, Train: (5350, 28), Test: (1149, 28)\n",
      "Fold: 3, Train: (5324, 28), Test: (1148, 28)\n",
      "Fold: 4, Train: (5304, 28), Test: (1148, 28)\n",
      "Fold: 5, Train: (5342, 28), Test: (1148, 28)\n",
      "Fold 1:\n",
      "Early stopping triggered at epoch 12, best val loss: 0.3762ss: 0.624 Scheduler lr: [0.00023368500000000005]\n",
      "Accuracy: 0.8442, precision: 0.2734, recall: 0.3276, f1: 0.2980, auc: 0.6149\n",
      "Fold 2:\n",
      "Early stopping triggered at epoch 32, best val loss: 0.5192ss: 0.602 Scheduler lr: [0.0003596149999999999]]\n",
      "Accuracy: 0.7720, precision: 0.2033, recall: 0.4310, f1: 0.2762, auc: 0.6206\n",
      "Fold 3:\n",
      "Early stopping triggered at epoch 31, best val loss: 0.5335ss: 0.578 Scheduler lr: [0.00037994999999999994]\n",
      "Accuracy: 0.8188, precision: 0.2262, recall: 0.3276, f1: 0.2676, auc: 0.6008\n",
      "Fold 4:\n",
      "Early stopping triggered at epoch 35, best val loss: 0.4571ss: 0.708 Scheduler lr: [0.00030693999999999996]\n",
      "Accuracy: 0.8415, precision: 0.2500, recall: 0.2845, f1: 0.2661, auc: 0.5943\n",
      "Fold 5:\n",
      "Epoch: 24    training loss:0.293 best_val_loss:0.415 Val Loss: 0.912 Scheduler lr: [0.0004980399999999999]]\r"
     ]
    },
    {
     "name": "stderr",
     "output_type": "stream",
     "text": [
      "[I 2025-04-15 16:31:41,941] Trial 21 finished with value: 0.28674625227681866 and parameters: {'n_neighbours': 6, 'normalisation_method': 'MinMaxScaler', 'contamination': 0.3733268885124107, 'hidden_dim': 120, 'output_dim': 93, 'dropout': 0.0, 'threshold': 0.797170893979724, 'initial_lr': 0.0009732431388256694, 'max_lr': 0.005, 'weight_decay': 0.0001994579615637445, 'criterion': 'FocalLoss', 'alpha': 0.9519687701991946, 'gamma': 0.12251158773291115}. Best is trial 14 with value: 0.30328497724490006.\n"
     ]
    },
    {
     "name": "stdout",
     "output_type": "stream",
     "text": [
      "Early stopping triggered at epoch 25, best val loss: 0.4148\n",
      "Accuracy: 0.7944, precision: 0.2436, recall: 0.4914, f1: 0.3257, auc: 0.6599\n",
      "Using device: cuda\n",
      "Fold: 1, Train: (4966, 28), Test: (1149, 28)\n",
      "Fold: 2, Train: (4931, 28), Test: (1149, 28)\n",
      "Fold: 3, Train: (4935, 28), Test: (1148, 28)\n",
      "Fold: 4, Train: (4963, 28), Test: (1148, 28)\n",
      "Fold: 5, Train: (4925, 28), Test: (1148, 28)\n",
      "Fold 1:\n",
      "Early stopping triggered at epoch 43, best val loss: 0.2714ss: 0.377 Scheduler lr: [0.00019767]99999999999]\n",
      "Accuracy: 0.7972, precision: 0.2174, recall: 0.3879, f1: 0.2786, auc: 0.6156\n",
      "Fold 2:\n",
      "Early stopping triggered at epoch 12, best val loss: 0.2955ss: 0.453 Scheduler lr: [0.00021751499999999989]\n",
      "Accuracy: 0.7850, precision: 0.2009, recall: 0.3793, f1: 0.2627, auc: 0.6050\n",
      "Fold 3:\n",
      "Early stopping triggered at epoch 12, best val loss: 0.3133ss: 0.421 Scheduler lr: [0.00021751499999999989]\n",
      "Accuracy: 0.8319, precision: 0.2609, recall: 0.3621, f1: 0.3032, auc: 0.6234\n",
      "Fold 4:\n",
      "Early stopping triggered at epoch 12, best val loss: 0.3433ss: 0.422 Scheduler lr: [0.00021751499999999989]\n",
      "Accuracy: 0.8301, precision: 0.2577, recall: 0.3621, f1: 0.3011, auc: 0.6224\n",
      "Fold 5:\n",
      "Early stopping triggered at epoch 12, best val loss: 0.3424ss: 0.368 Scheduler lr: [0.00021482000000000006]\n",
      "Accuracy: 0.7613, precision: 0.2218, recall: 0.5431, f1: 0.3150, auc: 0.6645\n"
     ]
    },
    {
     "name": "stderr",
     "output_type": "stream",
     "text": [
      "[I 2025-04-15 16:32:04,015] Trial 22 finished with value: 0.2921297408704281 and parameters: {'n_neighbours': 3, 'normalisation_method': 'MinMaxScaler', 'contamination': 0.3963548292469548, 'hidden_dim': 127, 'output_dim': 127, 'dropout': 0.0, 'threshold': 0.6607705325783892, 'initial_lr': 0.00018620972479224093, 'max_lr': 0.005, 'weight_decay': 0.004762311875946234, 'criterion': 'FocalLoss', 'alpha': 1.1114218508741842, 'gamma': 0.9088170255357658}. Best is trial 14 with value: 0.30328497724490006.\n"
     ]
    },
    {
     "name": "stdout",
     "output_type": "stream",
     "text": [
      "Using device: cuda\n",
      "Fold: 1, Train: (5029, 28), Test: (1149, 28)\n",
      "Fold: 2, Train: (5248, 28), Test: (1149, 28)\n",
      "Fold: 3, Train: (5233, 28), Test: (1148, 28)\n",
      "Fold: 4, Train: (5056, 28), Test: (1148, 28)\n",
      "Fold: 5, Train: (5279, 28), Test: (1148, 28)\n",
      "Fold 1:\n",
      "Early stopping triggered at epoch 12, best val loss: 0.2500ss: 0.434 Scheduler lr: [0.0002202099999999999]]\n",
      "Accuracy: 0.7372, precision: 0.2075, recall: 0.5690, f1: 0.3041, auc: 0.6625\n",
      "Fold 2:\n",
      "Early stopping triggered at epoch 22, best val loss: 0.4013ss: 0.686 Scheduler lr: [0.0004318899999999999]]\n",
      "Accuracy: 0.7119, precision: 0.1587, recall: 0.4310, f1: 0.2320, auc: 0.5873\n",
      "Fold 3:\n",
      "Early stopping triggered at epoch 36, best val loss: 0.3159ss: 0.418 Scheduler lr: [0.00029542500000000004]\n",
      "Accuracy: 0.7413, precision: 0.1847, recall: 0.4569, f1: 0.2630, auc: 0.6151\n",
      "Fold 4:\n",
      "Early stopping triggered at epoch 11, best val loss: 0.2592ss: 0.425 Scheduler lr: [0.00020355000000000001]\n",
      "Accuracy: 0.7657, precision: 0.2046, recall: 0.4569, f1: 0.2827, auc: 0.6286\n",
      "Fold 5:\n",
      "Early stopping triggered at epoch 38, best val loss: 0.2880ss: 0.465 Scheduler lr: [0.00024667000000000005]\n"
     ]
    },
    {
     "name": "stderr",
     "output_type": "stream",
     "text": [
      "[I 2025-04-15 16:32:33,755] Trial 23 finished with value: 0.2735148549178038 and parameters: {'n_neighbours': 3, 'normalisation_method': 'MinMaxScaler', 'contamination': 0.38282455029451545, 'hidden_dim': 123, 'output_dim': 112, 'dropout': 0.0, 'threshold': 0.6381645192082103, 'initial_lr': 0.00024920715001513507, 'max_lr': 0.005, 'weight_decay': 0.0017615481545884828, 'criterion': 'FocalLoss', 'alpha': 0.9659012796549139, 'gamma': 0.7082562492401349}. Best is trial 14 with value: 0.30328497724490006.\n"
     ]
    },
    {
     "name": "stdout",
     "output_type": "stream",
     "text": [
      "Accuracy: 0.8171, precision: 0.2360, recall: 0.3621, f1: 0.2857, auc: 0.6151\n",
      "Using device: cuda\n",
      "Fold: 1, Train: (5402, 28), Test: (1149, 28)\n",
      "Fold: 2, Train: (5362, 28), Test: (1149, 28)\n",
      "Fold: 3, Train: (5319, 28), Test: (1148, 28)\n",
      "Fold: 4, Train: (5305, 28), Test: (1148, 28)\n",
      "Fold: 5, Train: (5367, 28), Test: (1148, 28)\n",
      "Fold 1:\n",
      "Early stopping triggered at epoch 46, best val loss: 0.1955ss: 0.330 Scheduler lr: [6.390000000000016e-05]]\n",
      "Accuracy: 0.8268, precision: 0.2357, recall: 0.3190, f1: 0.2711, auc: 0.6014\n",
      "Fold 2:\n",
      "Early stopping triggered at epoch 39, best val loss: 0.1982ss: 0.310 Scheduler lr: [0.00021727]00000000005]\n",
      "Accuracy: 0.8242, precision: 0.2171, recall: 0.2845, f1: 0.2463, auc: 0.5846\n",
      "Fold 3:\n",
      "Early stopping triggered at epoch 41, best val loss: 0.2319ss: 0.331 Scheduler lr: [0.00017659999999999993]\n",
      "Accuracy: 0.8423, precision: 0.2628, recall: 0.3103, f1: 0.2846, auc: 0.6062\n",
      "Fold 4:\n",
      "Early stopping triggered at epoch 36, best val loss: 0.1917ss: 0.220 Scheduler lr: [0.00028685]99999999996]\n",
      "Accuracy: 0.8667, precision: 0.2716, recall: 0.1897, f1: 0.2234, auc: 0.5662\n",
      "Fold 5:\n",
      "Early stopping triggered at epoch 43, best val loss: 0.1929ss: 0.250 Scheduler lr: [0.00013592999999999985]\n",
      "Accuracy: 0.8397, precision: 0.2671, recall: 0.3362, f1: 0.2977, auc: 0.6163\n"
     ]
    },
    {
     "name": "stderr",
     "output_type": "stream",
     "text": [
      "[I 2025-04-15 16:33:22,267] Trial 24 finished with value: 0.26459521709741435 and parameters: {'n_neighbours': 4, 'normalisation_method': 'MinMaxScaler', 'contamination': 0.34763446802032144, 'hidden_dim': 115, 'output_dim': 104, 'dropout': 0.0, 'threshold': 0.7432885740981537, 'initial_lr': 0.00014176321676944378, 'max_lr': 0.005, 'weight_decay': 0.004731887374277534, 'criterion': 'FocalLoss', 'alpha': 0.806934552072359, 'gamma': 0.9446934572566743}. Best is trial 14 with value: 0.30328497724490006.\n"
     ]
    },
    {
     "name": "stdout",
     "output_type": "stream",
     "text": [
      "Using device: cuda\n",
      "Fold: 1, Train: (5069, 28), Test: (1149, 28)\n",
      "Fold: 2, Train: (5294, 28), Test: (1149, 28)\n",
      "Fold: 3, Train: (5280, 28), Test: (1148, 28)\n",
      "Fold: 4, Train: (5314, 28), Test: (1148, 28)\n",
      "Fold: 5, Train: (5276, 28), Test: (1148, 28)\n",
      "Fold 1:\n",
      "Early stopping triggered at epoch 12, best val loss: 0.2010ss: 0.446 Scheduler lr: [0.00022290499999999994]\n",
      "Accuracy: 0.8503, precision: 0.2742, recall: 0.2931, f1: 0.2833, auc: 0.6030\n",
      "Fold 2:\n",
      "Early stopping triggered at epoch 26, best val loss: 0.3129ss: 0.369 Scheduler lr: [0.00048775000000000007]\n",
      "Accuracy: 0.7990, precision: 0.1925, recall: 0.3103, f1: 0.2376, auc: 0.5821\n",
      "Fold 3:\n",
      "Early stopping triggered at epoch 13, best val loss: 0.3407ss: 0.372 Scheduler lr: [0.00025108]00000000004]\n",
      "Accuracy: 0.8319, precision: 0.2579, recall: 0.3534, f1: 0.2982, auc: 0.6196\n",
      "Fold 4:\n",
      "Early stopping triggered at epoch 22, best val loss: 0.2712ss: 0.323 Scheduler lr: [0.0004370350000000001]]\n",
      "Accuracy: 0.8214, precision: 0.2541, recall: 0.3966, f1: 0.3098, auc: 0.6329\n",
      "Fold 5:\n",
      "Epoch: 38    training loss:0.114 best_val_loss:0.250 Val Loss: 0.476 Scheduler lr: [0.00022658000000000007]\r"
     ]
    },
    {
     "name": "stderr",
     "output_type": "stream",
     "text": [
      "[I 2025-04-15 16:33:50,655] Trial 25 finished with value: 0.2860546173338795 and parameters: {'n_neighbours': 3, 'normalisation_method': 'MinMaxScaler', 'contamination': 0.37764491726044713, 'hidden_dim': 123, 'output_dim': 115, 'dropout': 0.0, 'threshold': 0.6843339569761714, 'initial_lr': 0.0002183093406378509, 'max_lr': 0.005, 'weight_decay': 0.00048266758118740337, 'criterion': 'FocalLoss', 'alpha': 1.1715655604156647, 'gamma': 1.1773382979625913}. Best is trial 14 with value: 0.30328497724490006.\n"
     ]
    },
    {
     "name": "stdout",
     "output_type": "stream",
     "text": [
      "Early stopping triggered at epoch 39, best val loss: 0.2496\n",
      "Accuracy: 0.7779, precision: 0.2209, recall: 0.4741, f1: 0.3014, auc: 0.6431\n",
      "Using device: cuda\n",
      "Fold: 1, Train: (5000, 28), Test: (1149, 28)\n",
      "Fold: 2, Train: (5253, 28), Test: (1149, 28)\n",
      "Fold: 3, Train: (5265, 28), Test: (1148, 28)\n",
      "Fold: 4, Train: (5244, 28), Test: (1148, 28)\n",
      "Fold: 5, Train: (5274, 28), Test: (1148, 28)\n",
      "Fold 1:\n",
      "Early stopping triggered at epoch 46, best val loss: 0.3411ss: 0.504 Scheduler lr: [0.00013005000000000004]\n",
      "Accuracy: 0.7702, precision: 0.2218, recall: 0.5086, f1: 0.3089, auc: 0.6541\n",
      "Fold 2:\n",
      "Early stopping triggered at epoch 31, best val loss: 0.3682ss: 0.528 Scheduler lr: [0.00038730000000000004]\n",
      "Accuracy: 0.7815, precision: 0.1801, recall: 0.3276, f1: 0.2324, auc: 0.5801\n",
      "Fold 3:\n",
      "Early stopping triggered at epoch 12, best val loss: 0.3308ss: 0.435 Scheduler lr: [0.00023099000000000004]\n",
      "Accuracy: 0.7317, precision: 0.2000, recall: 0.5517, f1: 0.2936, auc: 0.6518\n",
      "Fold 4:\n",
      "Early stopping triggered at epoch 41, best val loss: 0.3198ss: 0.574 Scheduler lr: [0.00019619999999999994]\n",
      "Accuracy: 0.7631, precision: 0.1977, recall: 0.4397, f1: 0.2727, auc: 0.6195\n",
      "Fold 5:\n",
      "Epoch: 36    training loss:0.145 best_val_loss:0.268 Val Loss: 0.583 Scheduler lr: [0.00026676000000000005]\r"
     ]
    },
    {
     "name": "stderr",
     "output_type": "stream",
     "text": [
      "[I 2025-04-15 16:34:29,507] Trial 26 finished with value: 0.27354992236985076 and parameters: {'n_neighbours': 2, 'normalisation_method': 'MinMaxScaler', 'contamination': 0.38364538151270977, 'hidden_dim': 107, 'output_dim': 93, 'dropout': 0.0, 'threshold': 0.6174551233905283, 'initial_lr': 0.00010817132750711819, 'max_lr': 0.005, 'weight_decay': 0.0012052535116861417, 'criterion': 'FocalLoss', 'alpha': 0.9305784344605961, 'gamma': 0.5301856213686741}. Best is trial 14 with value: 0.30328497724490006.\n"
     ]
    },
    {
     "name": "stdout",
     "output_type": "stream",
     "text": [
      "Early stopping triggered at epoch 37, best val loss: 0.2679\n",
      "Accuracy: 0.6977, precision: 0.1728, recall: 0.5259, f1: 0.2601, auc: 0.6215\n",
      "Using device: cuda\n",
      "Fold: 1, Train: (4843, 28), Test: (1149, 28)\n",
      "Fold: 2, Train: (4847, 28), Test: (1149, 28)\n",
      "Fold: 3, Train: (4828, 28), Test: (1148, 28)\n",
      "Fold: 4, Train: (4828, 28), Test: (1148, 28)\n",
      "Fold: 5, Train: (4817, 28), Test: (1148, 28)\n",
      "Fold 1:\n",
      "Early stopping triggered at epoch 34, best val loss: 0.3829ss: 0.572 Scheduler lr: [0.0003836250000000001]]\n",
      "Accuracy: 0.7450, precision: 0.2079, recall: 0.5431, f1: 0.3007, auc: 0.6554\n",
      "Fold 2:\n",
      "Early stopping triggered at epoch 39, best val loss: 0.3855ss: 0.729 Scheduler lr: [0.0002917500000000001]]\n",
      "Accuracy: 0.6832, precision: 0.1737, recall: 0.5690, f1: 0.2661, auc: 0.6325\n",
      "Fold 3:\n",
      "Early stopping triggered at epoch 47, best val loss: 0.3753ss: 0.571 Scheduler lr: [0.00014474999999999994]\n",
      "Accuracy: 0.7213, precision: 0.1812, recall: 0.5000, f1: 0.2661, auc: 0.6231\n",
      "Fold 4:\n",
      "Early stopping triggered at epoch 37, best val loss: 0.3942ss: 0.652 Scheduler lr: [0.00032849999999999996]\n",
      "Accuracy: 0.6882, precision: 0.1765, recall: 0.5690, f1: 0.2694, auc: 0.6353\n",
      "Fold 5:\n",
      "Epoch: 28    training loss:0.240 best_val_loss:0.405 Val Loss: 0.580 Scheduler lr: [0.0004755000000000001]]\r"
     ]
    },
    {
     "name": "stderr",
     "output_type": "stream",
     "text": [
      "[I 2025-04-15 16:35:09,175] Trial 27 finished with value: 0.27079313520682374 and parameters: {'n_neighbours': 5, 'normalisation_method': 'MinMaxScaler', 'contamination': 0.39989440033997853, 'hidden_dim': 128, 'output_dim': 126, 'dropout': 0.0, 'threshold': 0.5004013768268388, 'initial_lr': 0.0003227021385472426, 'max_lr': 0.005, 'weight_decay': 0.0032731970928643515, 'criterion': 'FocalLoss', 'alpha': 1.3059834226268565, 'gamma': 0.8509754784080119}. Best is trial 14 with value: 0.30328497724490006.\n"
     ]
    },
    {
     "name": "stdout",
     "output_type": "stream",
     "text": [
      "Early stopping triggered at epoch 29, best val loss: 0.4050\n",
      "Accuracy: 0.6115, precision: 0.1562, recall: 0.6466, f1: 0.2517, auc: 0.6271\n",
      "Using device: cuda\n",
      "Fold: 1, Train: (5319, 28), Test: (1149, 28)\n",
      "Fold: 2, Train: (5295, 28), Test: (1149, 28)\n",
      "Fold: 3, Train: (5286, 28), Test: (1148, 28)\n",
      "Fold: 4, Train: (5255, 28), Test: (1148, 28)\n",
      "Fold: 5, Train: (5281, 28), Test: (1148, 28)\n",
      "Fold 1:\n",
      "Early stopping triggered at epoch 13, best val loss: 0.3952ss: 0.427 Scheduler lr: [0.0002540200000000001]]\n",
      "Accuracy: 0.5457, precision: 0.1617, recall: 0.8362, f1: 0.2709, auc: 0.6746\n",
      "Fold 2:\n",
      "Early stopping triggered at epoch 34, best val loss: 0.3313ss: 0.429 Scheduler lr: [0.0003270300000000001]]\n",
      "Accuracy: 0.6223, precision: 0.1573, recall: 0.6293, f1: 0.2517, auc: 0.6254\n",
      "Fold 3:\n",
      "Early stopping triggered at epoch 30, best val loss: 0.3628ss: 0.497 Scheduler lr: [0.00040739]00000000016]\n",
      "Accuracy: 0.5601, precision: 0.1558, recall: 0.7586, f1: 0.2584, auc: 0.6482\n",
      "Fold 4:\n",
      "Early stopping triggered at epoch 35, best val loss: 0.4005ss: 0.425 Scheduler lr: [0.00030693999999999996]\n",
      "Accuracy: 0.6481, precision: 0.1667, recall: 0.6207, f1: 0.2628, auc: 0.6359\n",
      "Fold 5:\n",
      "Epoch: 12    training loss:0.311 best_val_loss:0.325 Val Loss: 0.480 Scheduler lr: [0.00025108]00000000004]\r"
     ]
    },
    {
     "name": "stderr",
     "output_type": "stream",
     "text": [
      "[I 2025-04-15 16:35:40,548] Trial 28 finished with value: 0.2607837418476751 and parameters: {'n_neighbours': 4, 'normalisation_method': 'MinMaxScaler', 'contamination': 0.3636912177384087, 'hidden_dim': 114, 'output_dim': 107, 'dropout': 0.0, 'threshold': 0.38827267171729557, 'initial_lr': 0.00017701993503194339, 'max_lr': 0.005, 'weight_decay': 0.0006938121348903236, 'criterion': 'FocalLoss', 'alpha': 1.096709029398674, 'gamma': 0.6931059673054468}. Best is trial 14 with value: 0.30328497724490006.\n"
     ]
    },
    {
     "name": "stdout",
     "output_type": "stream",
     "text": [
      "Early stopping triggered at epoch 13, best val loss: 0.3249\n",
      "Accuracy: 0.5340, precision: 0.1549, recall: 0.8103, f1: 0.2600, auc: 0.6566\n",
      "Using device: cuda\n",
      "Fold: 1, Train: (5752, 28), Test: (1149, 28)\n",
      "Fold: 2, Train: (5760, 28), Test: (1149, 28)\n",
      "Fold: 3, Train: (5727, 28), Test: (1148, 28)\n",
      "Fold: 4, Train: (5719, 28), Test: (1148, 28)\n",
      "Fold: 5, Train: (5769, 28), Test: (1148, 28)\n",
      "Fold 1:\n",
      "Early stopping triggered at epoch 40, best val loss: 0.2316ss: 0.379 Scheduler lr: [0.00013960499999999998]\n",
      "Accuracy: 0.7781, precision: 0.2068, recall: 0.4224, f1: 0.2776, auc: 0.6202\n",
      "Fold 2:\n",
      "Early stopping triggered at epoch 12, best val loss: 0.1961ss: 0.286 Scheduler lr: [0.00025255000000000004]\n",
      "Accuracy: 0.7807, precision: 0.2258, recall: 0.4828, f1: 0.3077, auc: 0.6484\n",
      "Fold 3:\n",
      "Early stopping triggered at epoch 42, best val loss: 0.2101ss: 0.315 Scheduler lr: [9.599499999999999e-05]]\n",
      "Accuracy: 0.7639, precision: 0.2008, recall: 0.4483, f1: 0.2773, auc: 0.6238\n",
      "Fold 4:\n",
      "Early stopping triggered at epoch 34, best val loss: 0.2213ss: 0.357 Scheduler lr: [0.0002704350000000002]]\n",
      "Accuracy: 0.7483, precision: 0.1855, recall: 0.4397, f1: 0.2609, auc: 0.6113\n",
      "Fold 5:\n",
      "Epoch: 38    training loss:0.093 best_val_loss:0.214 Val Loss: 0.273 Scheduler lr: [0.0001521]999999999998]\r"
     ]
    },
    {
     "name": "stderr",
     "output_type": "stream",
     "text": [
      "[I 2025-04-15 16:36:23,463] Trial 29 finished with value: 0.28384290551495633 and parameters: {'n_neighbours': 3, 'normalisation_method': 'MinMaxScaler', 'contamination': 0.2855182656945117, 'hidden_dim': 123, 'output_dim': 117, 'dropout': 0.0, 'threshold': 0.5876893995942671, 'initial_lr': 0.0005175924893403226, 'max_lr': 0.005, 'weight_decay': 0.0018241182787422342, 'criterion': 'FocalLoss', 'alpha': 0.904851905946827, 'gamma': 0.9994780291487071}. Best is trial 14 with value: 0.30328497724490006.\n"
     ]
    },
    {
     "name": "stdout",
     "output_type": "stream",
     "text": [
      "Early stopping triggered at epoch 39, best val loss: 0.2144\n",
      "Accuracy: 0.7718, precision: 0.2148, recall: 0.4741, f1: 0.2957, auc: 0.6397\n",
      "Using device: cuda\n",
      "Fold: 1, Train: (6270, 28), Test: (1149, 28)\n",
      "Fold: 2, Train: (6248, 28), Test: (1149, 28)\n",
      "Fold: 3, Train: (6218, 28), Test: (1148, 28)\n",
      "Fold: 4, Train: (6244, 28), Test: (1148, 28)\n",
      "Fold: 5, Train: (6315, 28), Test: (1148, 28)\n",
      "Fold 1:\n",
      "Early stopping triggered at epoch 34, best val loss: 0.2712ss: 0.365 Scheduler lr: [0.00020575499999999988]\n",
      "Accuracy: 0.8103, precision: 0.2069, recall: 0.3103, f1: 0.2483, auc: 0.5884\n",
      "Fold 2:\n",
      "Early stopping triggered at epoch 35, best val loss: 0.2927ss: 0.449 Scheduler lr: [0.00018198999999999998]\n",
      "Accuracy: 0.8390, precision: 0.2482, recall: 0.2931, f1: 0.2688, auc: 0.5967\n",
      "Fold 3:\n",
      "Early stopping triggered at epoch 32, best val loss: 0.2626ss: 0.423 Scheduler lr: [0.00025328500000000007]\n",
      "Accuracy: 0.8267, precision: 0.2138, recall: 0.2672, f1: 0.2375, auc: 0.5784\n",
      "Fold 4:\n",
      "Early stopping triggered at epoch 28, best val loss: 0.2449ss: 0.335 Scheduler lr: [0.00034834500000000007]\n",
      "Accuracy: 0.8484, precision: 0.2698, recall: 0.2931, f1: 0.2810, auc: 0.6020\n",
      "Fold 5:\n",
      "Epoch: 11    training loss:0.260 best_val_loss:0.312 Val Loss: 0.376 Scheduler lr: [0.0002741100000000001]]\r"
     ]
    },
    {
     "name": "stderr",
     "output_type": "stream",
     "text": [
      "[I 2025-04-15 16:37:03,117] Trial 30 finished with value: 0.27881615198430204 and parameters: {'n_neighbours': 2, 'normalisation_method': 'MinMaxScaler', 'contamination': 0.2482165555847027, 'hidden_dim': 105, 'output_dim': 94, 'dropout': 0.0, 'threshold': 0.6722143572778022, 'initial_lr': 0.0003712805989686603, 'max_lr': 0.005, 'weight_decay': 8.482747352986902e-05, 'criterion': 'FocalLoss', 'alpha': 1.0440400953592452, 'gamma': 0.8472470340064675}. Best is trial 14 with value: 0.30328497724490006.\n"
     ]
    },
    {
     "name": "stdout",
     "output_type": "stream",
     "text": [
      "Early stopping triggered at epoch 12, best val loss: 0.3119\n",
      "Accuracy: 0.8223, precision: 0.2822, recall: 0.4914, f1: 0.3585, auc: 0.6754\n",
      "Using device: cuda\n",
      "Fold: 1, Train: (5357, 28), Test: (1149, 28)\n",
      "Fold: 2, Train: (5325, 28), Test: (1149, 28)\n",
      "Fold: 3, Train: (5308, 28), Test: (1148, 28)\n",
      "Fold: 4, Train: (5321, 28), Test: (1148, 28)\n",
      "Fold: 5, Train: (5315, 28), Test: (1148, 28)\n",
      "Fold 1:\n",
      "Early stopping triggered at epoch 12, best val loss: 0.2035ss: 0.304 Scheduler lr: [0.00023368500000000005]\n",
      "Accuracy: 0.5248, precision: 0.1576, recall: 0.8534, f1: 0.2661, auc: 0.6707\n",
      "Fold 2:\n",
      "Early stopping triggered at epoch 12, best val loss: 0.2140ss: 0.261 Scheduler lr: [0.00023368500000000005]\n",
      "Accuracy: 0.4343, precision: 0.1411, recall: 0.9052, f1: 0.2442, auc: 0.6433\n",
      "Fold 3:\n",
      "Early stopping triggered at epoch 43, best val loss: 0.1998ss: 0.296 Scheduler lr: [0.00014622000000000002]\n",
      "Accuracy: 0.5035, precision: 0.1453, recall: 0.8017, f1: 0.2460, auc: 0.6358\n",
      "Fold 4:\n",
      "Early stopping triggered at epoch 13, best val loss: 0.2116ss: 0.273 Scheduler lr: [0.0002540200000000001]]\n",
      "Accuracy: 0.4843, precision: 0.1416, recall: 0.8103, f1: 0.2410, auc: 0.6290\n",
      "Fold 5:\n",
      "Epoch: 28    training loss:0.145 best_val_loss:0.226 Val Loss: 0.252 Scheduler lr: [0.0004206200000000001]]\r"
     ]
    },
    {
     "name": "stderr",
     "output_type": "stream",
     "text": [
      "[I 2025-04-15 16:37:29,805] Trial 31 finished with value: 0.25003004872097145 and parameters: {'n_neighbours': 7, 'normalisation_method': 'MinMaxScaler', 'contamination': 0.36244865759613243, 'hidden_dim': 99, 'output_dim': 87, 'dropout': 0.0, 'threshold': 0.3582940480272666, 'initial_lr': 0.00022731150855657682, 'max_lr': 0.005, 'weight_decay': 0.0067032006016866695, 'criterion': 'FocalLoss', 'alpha': 0.8705421635967623, 'gamma': 1.1242275746283594}. Best is trial 14 with value: 0.30328497724490006.\n"
     ]
    },
    {
     "name": "stdout",
     "output_type": "stream",
     "text": [
      "Early stopping triggered at epoch 29, best val loss: 0.2261\n",
      "Accuracy: 0.5314, precision: 0.1507, recall: 0.7845, f1: 0.2528, auc: 0.6437\n",
      "Using device: cuda\n",
      "Fold: 1, Train: (5009, 28), Test: (1149, 28)\n",
      "Fold: 2, Train: (4996, 28), Test: (1149, 28)\n",
      "Fold: 3, Train: (5240, 28), Test: (1148, 28)\n",
      "Fold: 4, Train: (5009, 28), Test: (1148, 28)\n",
      "Fold: 5, Train: (5204, 28), Test: (1148, 28)\n",
      "Fold 1:\n",
      "Early stopping triggered at epoch 38, best val loss: 0.3099ss: 0.636 Scheduler lr: [0.00028293]00000000006]\n",
      "Accuracy: 0.7911, precision: 0.2156, recall: 0.4052, f1: 0.2814, auc: 0.6198\n",
      "Fold 2:\n",
      "Early stopping triggered at epoch 12, best val loss: 0.3218ss: 0.472 Scheduler lr: [0.0002202099999999999]]\n",
      "Accuracy: 0.7685, precision: 0.2000, recall: 0.4310, f1: 0.2732, auc: 0.6187\n",
      "Fold 3:\n",
      "Early stopping triggered at epoch 45, best val loss: 0.2993ss: 0.430 Scheduler lr: [0.00011681999999999998]\n",
      "Accuracy: 0.7683, precision: 0.1926, recall: 0.4052, f1: 0.2611, auc: 0.6071\n",
      "Fold 4:\n",
      "Early stopping triggered at epoch 41, best val loss: 0.2830ss: 0.371 Scheduler lr: [0.00022559999999999995]\n",
      "Accuracy: 0.7805, precision: 0.2119, recall: 0.4310, f1: 0.2841, auc: 0.6254\n",
      "Fold 5:\n",
      "Epoch: 46    training loss:0.121 best_val_loss:0.346 Val Loss: 0.481 Scheduler lr: [7.713e-05]0000011e-05]]\r"
     ]
    },
    {
     "name": "stderr",
     "output_type": "stream",
     "text": [
      "[I 2025-04-15 16:38:11,711] Trial 32 finished with value: 0.2777630062052287 and parameters: {'n_neighbours': 3, 'normalisation_method': 'MinMaxScaler', 'contamination': 0.3872796848068925, 'hidden_dim': 125, 'output_dim': 121, 'dropout': 0.0, 'threshold': 0.6486459212204867, 'initial_lr': 0.00018328684308277341, 'max_lr': 0.005, 'weight_decay': 0.004833356119161935, 'criterion': 'FocalLoss', 'alpha': 1.1327362597741593, 'gamma': 0.9154242774027941}. Best is trial 14 with value: 0.30328497724490006.\n"
     ]
    },
    {
     "name": "stdout",
     "output_type": "stream",
     "text": [
      "Early stopping triggered at epoch 47, best val loss: 0.3463\n",
      "Accuracy: 0.7814, precision: 0.2152, recall: 0.4397, f1: 0.2890, auc: 0.6297\n",
      "Using device: cuda\n",
      "Fold: 1, Train: (4923, 28), Test: (1149, 28)\n",
      "Fold: 2, Train: (4900, 28), Test: (1149, 28)\n",
      "Fold: 3, Train: (4889, 28), Test: (1148, 28)\n",
      "Fold: 4, Train: (4889, 28), Test: (1148, 28)\n",
      "Fold: 5, Train: (4903, 28), Test: (1148, 28)\n",
      "Fold 1:\n",
      "Early stopping triggered at epoch 14, best val loss: 0.2993ss: 0.379 Scheduler lr: [0.0002520599999999999]]\n",
      "Accuracy: 0.7763, precision: 0.2418, recall: 0.5690, f1: 0.3393, auc: 0.6843\n",
      "Fold 2:\n",
      "Early stopping triggered at epoch 42, best val loss: 0.2959ss: 0.484 Scheduler lr: [0.00022658000000000007]\n",
      "Accuracy: 0.7737, precision: 0.2120, recall: 0.4569, f1: 0.2896, auc: 0.6331\n",
      "Fold 3:\n",
      "Early stopping triggered at epoch 12, best val loss: 0.2745ss: 0.335 Scheduler lr: [0.00021482000000000006]\n",
      "Accuracy: 0.7578, precision: 0.2207, recall: 0.5517, f1: 0.3153, auc: 0.6664\n",
      "Fold 4:\n",
      "Early stopping triggered at epoch 34, best val loss: 0.2771ss: 0.317 Scheduler lr: [0.00037554]9999999999]]\n",
      "Accuracy: 0.6237, precision: 0.1708, recall: 0.7069, f1: 0.2752, auc: 0.6606\n",
      "Fold 5:\n",
      "Epoch: 11    training loss:0.262 best_val_loss:0.257 Val Loss: 0.377 Scheduler lr: [0.00021482000000000006]\r"
     ]
    },
    {
     "name": "stderr",
     "output_type": "stream",
     "text": [
      "[I 2025-04-15 16:38:37,159] Trial 33 finished with value: 0.30643680712047383 and parameters: {'n_neighbours': 4, 'normalisation_method': 'MinMaxScaler', 'contamination': 0.39782531073529703, 'hidden_dim': 116, 'output_dim': 109, 'dropout': 0.0, 'threshold': 0.5641496678568549, 'initial_lr': 0.00015404205404243306, 'max_lr': 0.005, 'weight_decay': 0.00503934771301173, 'criterion': 'FocalLoss', 'alpha': 0.9654899579656897, 'gamma': 0.7775390832944852}. Best is trial 33 with value: 0.30643680712047383.\n"
     ]
    },
    {
     "name": "stdout",
     "output_type": "stream",
     "text": [
      "Early stopping triggered at epoch 12, best val loss: 0.2568\n",
      "Accuracy: 0.7474, precision: 0.2157, recall: 0.5690, f1: 0.3128, auc: 0.6682\n",
      "Using device: cuda\n",
      "Fold: 1, Train: (5154, 28), Test: (1149, 28)\n",
      "Fold: 2, Train: (5138, 28), Test: (1149, 28)\n",
      "Fold: 3, Train: (5281, 28), Test: (1148, 28)\n",
      "Fold: 4, Train: (5282, 28), Test: (1148, 28)\n",
      "Fold: 5, Train: (5287, 28), Test: (1148, 28)\n",
      "Fold 1:\n",
      "Early stopping triggered at epoch 20, best val loss: 0.4004ss: 0.506 Scheduler lr: [0.0003823999999999999]]\n",
      "Accuracy: 0.6458, precision: 0.1802, recall: 0.7069, f1: 0.2872, auc: 0.6729\n",
      "Fold 2:\n",
      "Early stopping triggered at epoch 37, best val loss: 0.3639ss: 0.592 Scheduler lr: [0.00028440000000000003]\n",
      "Accuracy: 0.7728, precision: 0.2041, recall: 0.4310, f1: 0.2770, auc: 0.6211\n",
      "Fold 3:\n",
      "Early stopping triggered at epoch 12, best val loss: 0.3643ss: 0.467 Scheduler lr: [0.00023099000000000004]\n",
      "Accuracy: 0.7700, precision: 0.2197, recall: 0.5000, f1: 0.3053, auc: 0.6502\n",
      "Fold 4:\n",
      "Early stopping triggered at epoch 12, best val loss: 0.2570ss: 0.443 Scheduler lr: [0.00023099000000000004]\n",
      "Accuracy: 0.7291, precision: 0.2124, recall: 0.6207, f1: 0.3165, auc: 0.6810\n",
      "Fold 5:\n",
      "Epoch: 33    training loss:0.187 best_val_loss:0.343 Val Loss: 0.583 Scheduler lr: [0.0003270300000000001]]\r"
     ]
    },
    {
     "name": "stderr",
     "output_type": "stream",
     "text": [
      "[I 2025-04-15 16:39:05,370] Trial 34 finished with value: 0.2907057849228647 and parameters: {'n_neighbours': 5, 'normalisation_method': 'MinMaxScaler', 'contamination': 0.3728643474105425, 'hidden_dim': 117, 'output_dim': 107, 'dropout': 0.0, 'threshold': 0.6288825106024414, 'initial_lr': 0.00013918413443461076, 'max_lr': 0.005, 'weight_decay': 0.002428974174784548, 'criterion': 'FocalLoss', 'alpha': 0.9748381292199525, 'gamma': 0.5297586524855348}. Best is trial 33 with value: 0.30643680712047383.\n"
     ]
    },
    {
     "name": "stdout",
     "output_type": "stream",
     "text": [
      "Early stopping triggered at epoch 34, best val loss: 0.3431\n",
      "Accuracy: 0.8092, precision: 0.2186, recall: 0.3448, f1: 0.2676, auc: 0.6031\n",
      "Using device: cuda\n",
      "Fold: 1, Train: (5366, 28), Test: (1149, 28)\n",
      "Fold: 2, Train: (5307, 28), Test: (1149, 28)\n",
      "Fold: 3, Train: (5290, 28), Test: (1148, 28)\n",
      "Fold: 4, Train: (5323, 28), Test: (1148, 28)\n",
      "Fold: 5, Train: (5328, 28), Test: (1148, 28)\n",
      "Fold 1:\n",
      "Early stopping triggered at epoch 15, best val loss: 0.3387ss: 0.370 Scheduler lr: [0.00029469]99999999994]\n",
      "Accuracy: 0.7450, precision: 0.2098, recall: 0.5517, f1: 0.3040, auc: 0.6592\n",
      "Fold 2:\n",
      "Early stopping triggered at epoch 21, best val loss: 0.3328ss: 0.502 Scheduler lr: [0.0004117999999999999]]\n",
      "Accuracy: 0.7302, precision: 0.2025, recall: 0.5690, f1: 0.2986, auc: 0.6586\n",
      "Fold 3:\n",
      "Early stopping triggered at epoch 12, best val loss: 0.2699ss: 0.377 Scheduler lr: [0.00023099000000000004]\n",
      "Accuracy: 0.7030, precision: 0.1758, recall: 0.5259, f1: 0.2635, auc: 0.6244\n",
      "Fold 4:\n",
      "Early stopping triggered at epoch 44, best val loss: 0.2407ss: 0.368 Scheduler lr: [0.00011559500000000001]\n",
      "Accuracy: 0.7587, precision: 0.2115, recall: 0.5086, f1: 0.2987, auc: 0.6477\n",
      "Fold 5:\n",
      "Epoch: 11    training loss:0.242 best_val_loss:0.305 Val Loss: 0.344 Scheduler lr: [0.00023368500000000005]\r"
     ]
    },
    {
     "name": "stderr",
     "output_type": "stream",
     "text": [
      "[I 2025-04-15 16:39:31,261] Trial 35 finished with value: 0.29452118873622724 and parameters: {'n_neighbours': 4, 'normalisation_method': 'MinMaxScaler', 'contamination': 0.354941384161714, 'hidden_dim': 123, 'output_dim': 112, 'dropout': 0.0, 'threshold': 0.5700303691263605, 'initial_lr': 0.0001588586360015267, 'max_lr': 0.005, 'weight_decay': 0.006287251676972043, 'criterion': 'FocalLoss', 'alpha': 0.8923062099891748, 'gamma': 0.7599775913523008}. Best is trial 33 with value: 0.30643680712047383.\n"
     ]
    },
    {
     "name": "stdout",
     "output_type": "stream",
     "text": [
      "Early stopping triggered at epoch 12, best val loss: 0.3051\n",
      "Accuracy: 0.7334, precision: 0.2086, recall: 0.5862, f1: 0.3077, auc: 0.6681\n",
      "Using device: cuda\n",
      "Fold: 1, Train: (5346, 28), Test: (1149, 28)\n",
      "Fold: 2, Train: (5348, 28), Test: (1149, 28)\n",
      "Fold: 3, Train: (5320, 28), Test: (1148, 28)\n",
      "Fold: 4, Train: (5313, 28), Test: (1148, 28)\n",
      "Fold: 5, Train: (5333, 28), Test: (1148, 28)\n",
      "Fold 1:\n",
      "Early stopping triggered at epoch 28, best val loss: 0.4389ss: 0.650 Scheduler lr: [0.0004409550000000001]]\n",
      "Accuracy: 0.7911, precision: 0.2328, recall: 0.4655, f1: 0.3103, auc: 0.6466\n",
      "Fold 2:\n",
      "Early stopping triggered at epoch 35, best val loss: 0.4946ss: 0.887 Scheduler lr: [0.00029861]00000000006]\n",
      "Accuracy: 0.7119, precision: 0.1713, recall: 0.4828, f1: 0.2528, auc: 0.6102\n",
      "Fold 3:\n",
      "Early stopping triggered at epoch 42, best val loss: 0.4289ss: 0.628 Scheduler lr: [0.0001562649999999999]]\n",
      "Accuracy: 0.7509, precision: 0.1942, recall: 0.4655, f1: 0.2741, auc: 0.6242\n",
      "Fold 4:\n",
      "Early stopping triggered at epoch 48, best val loss: 0.4540ss: 0.648 Scheduler lr: [3.425500000000005e-05]]\n",
      "Accuracy: 0.7413, precision: 0.1953, recall: 0.5000, f1: 0.2809, auc: 0.6342\n",
      "Fold 5:\n",
      "Epoch: 11    training loss:0.422 best_val_loss:0.495 Val Loss: 0.525 Scheduler lr: [0.00023368500000000005]\r"
     ]
    },
    {
     "name": "stderr",
     "output_type": "stream",
     "text": [
      "[I 2025-04-15 16:40:10,537] Trial 36 finished with value: 0.28176950365255765 and parameters: {'n_neighbours': 4, 'normalisation_method': 'MinMaxScaler', 'contamination': 0.35420277717079596, 'hidden_dim': 122, 'output_dim': 112, 'dropout': 0.0, 'threshold': 0.5648762234716206, 'initial_lr': 0.00015599140407202304, 'max_lr': 0.005, 'weight_decay': 0.005630843405660656, 'criterion': 'FocalLoss', 'alpha': 1.3884040387219638, 'gamma': 0.6528126702548426}. Best is trial 33 with value: 0.30643680712047383.\n"
     ]
    },
    {
     "name": "stdout",
     "output_type": "stream",
     "text": [
      "Early stopping triggered at epoch 12, best val loss: 0.4946\n",
      "Accuracy: 0.6812, precision: 0.1875, recall: 0.6466, f1: 0.2907, auc: 0.6658\n",
      "Using device: cuda\n",
      "Fold: 1, Train: (5486, 28), Test: (1149, 28)\n",
      "Fold: 2, Train: (5497, 28), Test: (1149, 28)\n",
      "Fold: 3, Train: (5485, 28), Test: (1148, 28)\n",
      "Fold: 4, Train: (5498, 28), Test: (1148, 28)\n",
      "Fold: 5, Train: (5502, 28), Test: (1148, 28)\n",
      "Fold 1:\n",
      "Early stopping triggered at epoch 40, best val loss: 0.4441ss: 0.958 Scheduler lr: [0.0001778250000000001]]\n",
      "Accuracy: 0.7363, precision: 0.2032, recall: 0.5517, f1: 0.2970, auc: 0.6544\n",
      "Fold 2:\n",
      "Early stopping triggered at epoch 25, best val loss: 0.5862ss: 0.699 Scheduler lr: [0.0004902]5]0000000004]\n",
      "Accuracy: 0.6823, precision: 0.1799, recall: 0.6034, f1: 0.2772, auc: 0.6473\n",
      "Fold 3:\n",
      "Early stopping triggered at epoch 35, best val loss: 0.5023ss: 0.955 Scheduler lr: [0.0002819499999999999]]\n",
      "Accuracy: 0.7064, precision: 0.1760, recall: 0.5172, f1: 0.2626, auc: 0.6225\n",
      "Fold 4:\n",
      "Early stopping triggered at epoch 11, best val loss: 0.5108ss: 0.669 Scheduler lr: [0.0002182499999999999]]\n",
      "Accuracy: 0.7012, precision: 0.1973, recall: 0.6379, f1: 0.3014, auc: 0.6731\n",
      "Fold 5:\n",
      "Epoch: 33    training loss:0.273 best_val_loss:0.500 Val Loss: 0.636 Scheduler lr: [0.0003027750000000001]]\r"
     ]
    },
    {
     "name": "stderr",
     "output_type": "stream",
     "text": [
      "[I 2025-04-15 16:40:47,255] Trial 37 finished with value: 0.2860989548785895 and parameters: {'n_neighbours': 6, 'normalisation_method': 'MinMaxScaler', 'contamination': 0.3423483543661286, 'hidden_dim': 110, 'output_dim': 99, 'dropout': 0.0, 'threshold': 0.5298980312646882, 'initial_lr': 0.00012404024912422956, 'max_lr': 0.005, 'weight_decay': 0.0012989175735445817, 'criterion': 'FocalLoss', 'alpha': 1.2322091939102657, 'gamma': 0.27256160591721185}. Best is trial 33 with value: 0.30643680712047383.\n"
     ]
    },
    {
     "name": "stdout",
     "output_type": "stream",
     "text": [
      "Early stopping triggered at epoch 34, best val loss: 0.5000\n",
      "Accuracy: 0.7047, precision: 0.1928, recall: 0.6034, f1: 0.2923, auc: 0.6598\n",
      "Using device: cuda\n",
      "Fold: 1, Train: (5633, 28), Test: (1149, 28)\n",
      "Fold: 2, Train: (5615, 28), Test: (1149, 28)\n",
      "Fold: 3, Train: (5580, 28), Test: (1148, 28)\n",
      "Fold: 4, Train: (5591, 28), Test: (1148, 28)\n",
      "Fold: 5, Train: (5616, 28), Test: (1148, 28)\n",
      "Fold 1:\n",
      "Early stopping triggered at epoch 29, best val loss: 0.3767ss: 0.507 Scheduler lr: [0.0003863199999999999]]\n",
      "Accuracy: 0.6971, precision: 0.1898, recall: 0.6121, f1: 0.2898, auc: 0.6594\n",
      "Fold 2:\n",
      "Early stopping triggered at epoch 18, best val loss: 0.4202ss: 0.486 Scheduler lr: [0.00037235500000000005]\n",
      "Accuracy: 0.6327, precision: 0.1674, recall: 0.6638, f1: 0.2674, auc: 0.6465\n",
      "Fold 3:\n",
      "Early stopping triggered at epoch 43, best val loss: 0.3336ss: 0.464 Scheduler lr: [9.477000000000002e-05]]\n",
      "Accuracy: 0.6864, precision: 0.1738, recall: 0.5603, f1: 0.2653, auc: 0.6305\n",
      "Fold 4:\n",
      "Early stopping triggered at epoch 38, best val loss: 0.3280ss: 0.390 Scheduler lr: [0.00020134500000000013]\n",
      "Accuracy: 0.6899, precision: 0.1721, recall: 0.5431, f1: 0.2614, auc: 0.6247\n",
      "Fold 5:\n",
      "Epoch: 36    training loss:0.155 best_val_loss:0.278 Val Loss: 0.549 Scheduler lr: [0.00022266000000000007]\r"
     ]
    },
    {
     "name": "stderr",
     "output_type": "stream",
     "text": [
      "[I 2025-04-15 16:41:29,040] Trial 38 finished with value: 0.2760340473210953 and parameters: {'n_neighbours': 5, 'normalisation_method': 'MinMaxScaler', 'contamination': 0.32633701376187574, 'hidden_dim': 116, 'output_dim': 108, 'dropout': 0.0, 'threshold': 0.4816190957117429, 'initial_lr': 0.0002871065417418435, 'max_lr': 0.005, 'weight_decay': 0.0033546363734099026, 'criterion': 'FocalLoss', 'alpha': 0.8971968742221433, 'gamma': 0.46951775471004387}. Best is trial 33 with value: 0.30643680712047383.\n"
     ]
    },
    {
     "name": "stdout",
     "output_type": "stream",
     "text": [
      "Early stopping triggered at epoch 37, best val loss: 0.2780\n",
      "Accuracy: 0.7186, precision: 0.1983, recall: 0.5862, f1: 0.2963, auc: 0.6599\n",
      "Using device: cuda\n",
      "Fold: 1, Train: (5352, 28), Test: (1149, 28)\n",
      "Fold: 2, Train: (5334, 28), Test: (1149, 28)\n",
      "Fold: 3, Train: (5296, 28), Test: (1148, 28)\n",
      "Fold: 4, Train: (5333, 28), Test: (1148, 28)\n",
      "Fold: 5, Train: (5312, 28), Test: (1148, 28)\n",
      "Fold 1:\n",
      "Early stopping triggered at epoch 35, best val loss: 0.2816ss: 0.517 Scheduler lr: [0.00029861]00000000006]\n",
      "Accuracy: 0.7084, precision: 0.2049, recall: 0.6552, f1: 0.3121, auc: 0.6848\n",
      "Fold 2:\n",
      "Early stopping triggered at epoch 40, best val loss: 0.3340ss: 0.522 Scheduler lr: [0.00019693499999999997]\n",
      "Accuracy: 0.7111, precision: 0.1879, recall: 0.5603, f1: 0.2814, auc: 0.6442\n",
      "Fold 3:\n",
      "Early stopping triggered at epoch 36, best val loss: 0.3070ss: 0.334 Scheduler lr: [0.00028685]99999999996]\n",
      "Accuracy: 0.7334, precision: 0.1875, recall: 0.4914, f1: 0.2714, auc: 0.6260\n",
      "Fold 4:\n",
      "Early stopping triggered at epoch 32, best val loss: 0.3357ss: 0.388 Scheduler lr: [0.0003596149999999999]]\n",
      "Accuracy: 0.7152, precision: 0.2045, recall: 0.6293, f1: 0.3087, auc: 0.6771\n",
      "Fold 5:\n",
      "Early stopping triggered at epoch 36, best val loss: 0.2732ss: 0.417 Scheduler lr: [0.0002782750000000002]]\n"
     ]
    },
    {
     "name": "stderr",
     "output_type": "stream",
     "text": [
      "[I 2025-04-15 16:42:12,408] Trial 39 finished with value: 0.29223572360065087 and parameters: {'n_neighbours': 7, 'normalisation_method': 'MinMaxScaler', 'contamination': 0.36268930349644374, 'hidden_dim': 85, 'output_dim': 77, 'dropout': 0.0, 'threshold': 0.5458136937794112, 'initial_lr': 0.0003667308757267222, 'max_lr': 0.005, 'weight_decay': 2.5759232356601853e-05, 'criterion': 'FocalLoss', 'alpha': 0.9993248639190511, 'gamma': 0.796646846123941}. Best is trial 33 with value: 0.30643680712047383.\n"
     ]
    },
    {
     "name": "stdout",
     "output_type": "stream",
     "text": [
      "Accuracy: 0.7152, precision: 0.1924, recall: 0.5690, f1: 0.2876, auc: 0.6503\n",
      "Using device: cuda\n",
      "Fold: 1, Train: (5740, 28), Test: (1149, 28)\n",
      "Fold: 2, Train: (5705, 28), Test: (1149, 28)\n",
      "Fold: 3, Train: (5684, 28), Test: (1148, 28)\n",
      "Fold: 4, Train: (5707, 28), Test: (1148, 28)\n",
      "Fold: 5, Train: (5706, 28), Test: (1148, 28)\n",
      "Fold 1:\n",
      "Early stopping triggered at epoch 21, best val loss: 0.5792ss: 0.710 Scheduler lr: [0.00044610000000000006]\n",
      "Accuracy: 0.7937, precision: 0.2335, recall: 0.4569, f1: 0.3090, auc: 0.6442\n",
      "Fold 2:\n",
      "Early stopping triggered at epoch 29, best val loss: 0.6027ss: 1.075 Scheduler lr: [0.00037946000000000003]\n",
      "Accuracy: 0.7267, precision: 0.1906, recall: 0.5259, f1: 0.2798, auc: 0.6376\n",
      "Fold 3:\n",
      "Early stopping triggered at epoch 33, best val loss: 0.5233ss: 0.842 Scheduler lr: [0.00030008000000000004]\n",
      "Accuracy: 0.8031, precision: 0.2074, recall: 0.3362, f1: 0.2566, auc: 0.5959\n",
      "Fold 4:\n",
      "Early stopping triggered at epoch 31, best val loss: 0.5539ss: 1.036 Scheduler lr: [0.00033585000000000006]\n",
      "Accuracy: 0.8084, precision: 0.2204, recall: 0.3534, f1: 0.2715, auc: 0.6065\n",
      "Fold 5:\n",
      "Epoch: 38    training loss:0.217 best_val_loss:0.519 Val Loss: 0.649 Scheduler lr: [0.00016141000000000007]\r"
     ]
    },
    {
     "name": "stderr",
     "output_type": "stream",
     "text": [
      "[I 2025-04-15 16:42:52,455] Trial 40 finished with value: 0.2852469782655871 and parameters: {'n_neighbours': 4, 'normalisation_method': 'MinMaxScaler', 'contamination': 0.3131327434213771, 'hidden_dim': 124, 'output_dim': 55, 'dropout': 0.0, 'threshold': 0.6014661771699592, 'initial_lr': 0.00012244076385689085, 'max_lr': 0.005, 'weight_decay': 0.0005575500697342483, 'criterion': 'FocalLoss', 'alpha': 1.8244075210923336, 'gamma': 0.7305287495212226}. Best is trial 33 with value: 0.30643680712047383.\n"
     ]
    },
    {
     "name": "stdout",
     "output_type": "stream",
     "text": [
      "Early stopping triggered at epoch 39, best val loss: 0.5194\n",
      "Accuracy: 0.7666, precision: 0.2206, recall: 0.5172, f1: 0.3093, auc: 0.6559\n",
      "Using device: cuda\n",
      "Fold: 1, Train: (4943, 28), Test: (1149, 28)\n",
      "Fold: 2, Train: (5088, 28), Test: (1149, 28)\n",
      "Fold: 3, Train: (5085, 28), Test: (1148, 28)\n",
      "Fold: 4, Train: (5093, 28), Test: (1148, 28)\n",
      "Fold: 5, Train: (5073, 28), Test: (1148, 28)\n",
      "Fold 1:\n",
      "Early stopping triggered at epoch 30, best val loss: 0.5968ss: 0.631 Scheduler lr: [0.0004429149999999999]]\n",
      "Accuracy: 0.7111, precision: 0.2000, recall: 0.6207, f1: 0.3025, auc: 0.6709\n",
      "Fold 2:\n",
      "Early stopping triggered at epoch 32, best val loss: 0.6920ss: 0.736 Scheduler lr: [0.0003899950000000001]]\n",
      "Accuracy: 0.5988, precision: 0.1624, recall: 0.7155, f1: 0.2648, auc: 0.6506\n",
      "Fold 3:\n",
      "Early stopping triggered at epoch 13, best val loss: 0.5101ss: 0.682 Scheduler lr: [0.00024226000000000008]\n",
      "Accuracy: 0.6115, precision: 0.1765, recall: 0.7759, f1: 0.2875, auc: 0.6844\n",
      "Fold 4:\n",
      "Early stopping triggered at epoch 13, best val loss: 0.7011ss: 0.832 Scheduler lr: [0.00024226000000000008]\n",
      "Accuracy: 0.5444, precision: 0.1580, recall: 0.8103, f1: 0.2644, auc: 0.6624\n",
      "Fold 5:\n",
      "Early stopping triggered at epoch 12, best val loss: 0.7453ss: 0.785 Scheduler lr: [0.00022290499999999994]\n",
      "Accuracy: 0.5070, precision: 0.1506, recall: 0.8362, f1: 0.2553, auc: 0.6531\n"
     ]
    },
    {
     "name": "stderr",
     "output_type": "stream",
     "text": [
      "[I 2025-04-15 16:43:16,799] Trial 41 finished with value: 0.2748986417036283 and parameters: {'n_neighbours': 6, 'normalisation_method': 'MinMaxScaler', 'contamination': 0.39031115398207034, 'hidden_dim': 92, 'output_dim': 87, 'dropout': 0.0, 'threshold': 0.4401888278070636, 'initial_lr': 0.00014847937878025358, 'max_lr': 0.005, 'weight_decay': 0.0008577726264726549, 'criterion': 'FocalLoss', 'alpha': 1.5164098355167568, 'gamma': 0.3227373770835245}. Best is trial 33 with value: 0.30643680712047383.\n"
     ]
    },
    {
     "name": "stdout",
     "output_type": "stream",
     "text": [
      "Using device: cuda\n",
      "Fold: 1, Train: (6638, 28), Test: (1149, 28)\n",
      "Fold: 2, Train: (6572, 28), Test: (1149, 28)\n",
      "Fold: 3, Train: (6574, 28), Test: (1148, 28)\n",
      "Fold: 4, Train: (6530, 28), Test: (1148, 28)\n",
      "Fold: 5, Train: (6514, 28), Test: (1148, 28)\n",
      "Fold 1:\n",
      "Early stopping triggered at epoch 37, best val loss: 0.2145ss: 0.284 Scheduler lr: [8.153999999999995e-05]]\n",
      "Accuracy: 0.8094, precision: 0.2359, recall: 0.3966, f1: 0.2958, auc: 0.6262\n",
      "Fold 2:\n",
      "Early stopping triggered at epoch 33, best val loss: 0.1782ss: 0.314 Scheduler lr: [0.00019032000000000014]\n",
      "Accuracy: 0.8381, precision: 0.2222, recall: 0.2414, f1: 0.2314, auc: 0.5733\n",
      "Fold 3:\n",
      "Early stopping triggered at epoch 38, best val loss: 0.2097ss: 0.322 Scheduler lr: [6.536999999999999e-05]]\n",
      "Accuracy: 0.7848, precision: 0.2089, recall: 0.4052, f1: 0.2757, auc: 0.6163\n",
      "Fold 4:\n",
      "Early stopping triggered at epoch 33, best val loss: 0.2133ss: 0.432 Scheduler lr: [0.00019032000000000014]\n",
      "Accuracy: 0.8476, precision: 0.2562, recall: 0.2672, f1: 0.2616, auc: 0.5900\n",
      "Fold 5:\n",
      "Epoch: 37    training loss:0.113 best_val_loss:0.186 Val Loss: 0.276 Scheduler lr: [7.443499999999997e-05]]\r"
     ]
    },
    {
     "name": "stderr",
     "output_type": "stream",
     "text": [
      "[I 2025-04-15 16:44:07,874] Trial 42 finished with value: 0.27179332431014264 and parameters: {'n_neighbours': 2, 'normalisation_method': 'MinMaxScaler', 'contamination': 0.20041332711118087, 'hidden_dim': 128, 'output_dim': 120, 'dropout': 0.0, 'threshold': 0.613288798653996, 'initial_lr': 0.00020135068974499288, 'max_lr': 0.005, 'weight_decay': 0.006731839126135818, 'criterion': 'FocalLoss', 'alpha': 0.8639156296781744, 'gamma': 0.8484925908183188}. Best is trial 33 with value: 0.30643680712047383.\n"
     ]
    },
    {
     "name": "stdout",
     "output_type": "stream",
     "text": [
      "Early stopping triggered at epoch 38, best val loss: 0.1856\n",
      "Accuracy: 0.7997, precision: 0.2286, recall: 0.4138, f1: 0.2945, auc: 0.6284\n",
      "Using device: cuda\n",
      "Fold: 1, Train: (5005, 28), Test: (1149, 28)\n",
      "Fold: 2, Train: (5003, 28), Test: (1149, 28)\n",
      "Fold: 3, Train: (4973, 28), Test: (1148, 28)\n",
      "Fold: 4, Train: (5003, 28), Test: (1148, 28)\n",
      "Fold: 5, Train: (5000, 28), Test: (1148, 28)\n",
      "Fold 1:\n",
      "Early stopping triggered at epoch 26, best val loss: 0.3409ss: 0.681 Scheduler lr: [0.00048775000000000007]\n",
      "Accuracy: 0.8085, precision: 0.2451, recall: 0.4310, f1: 0.3125, auc: 0.6410\n",
      "Fold 2:\n",
      "Early stopping triggered at epoch 16, best val loss: 0.4138ss: 0.539 Scheduler lr: [0.00029665]00000000017]\n",
      "Accuracy: 0.8216, precision: 0.2486, recall: 0.3793, f1: 0.3003, auc: 0.6253\n",
      "Fold 3:\n",
      "Early stopping triggered at epoch 13, best val loss: 0.3519ss: 0.461 Scheduler lr: [0.0002363800000000001]]\n",
      "Accuracy: 0.8084, precision: 0.2263, recall: 0.3707, f1: 0.2810, auc: 0.6141\n",
      "Fold 4:\n",
      "Early stopping triggered at epoch 37, best val loss: 0.3021ss: 0.389 Scheduler lr: [0.00030204000000000006]\n",
      "Accuracy: 0.8040, precision: 0.2022, recall: 0.3190, f1: 0.2475, auc: 0.5887\n",
      "Fold 5:\n",
      "Early stopping triggered at epoch 47, best val loss: 0.3076ss: 0.502 Scheduler lr: [0.00011093999999999998]\n"
     ]
    },
    {
     "name": "stderr",
     "output_type": "stream",
     "text": [
      "[I 2025-04-15 16:44:39,972] Trial 43 finished with value: 0.2886266146646427 and parameters: {'n_neighbours': 10, 'normalisation_method': 'MinMaxScaler', 'contamination': 0.3905779995562152, 'hidden_dim': 125, 'output_dim': 119, 'dropout': 0.0, 'threshold': 0.7049994499367999, 'initial_lr': 0.00016010317343551796, 'max_lr': 0.005, 'weight_decay': 0.0035757233821035665, 'criterion': 'FocalLoss', 'alpha': 1.0774651037525484, 'gamma': 0.7537407072552069}. Best is trial 33 with value: 0.30643680712047383.\n"
     ]
    },
    {
     "name": "stdout",
     "output_type": "stream",
     "text": [
      "Accuracy: 0.8267, precision: 0.2544, recall: 0.3707, f1: 0.3018, auc: 0.6243\n",
      "Using device: cuda\n",
      "Fold: 1, Train: (5029, 28), Test: (1149, 28)\n",
      "Fold: 2, Train: (5247, 28), Test: (1149, 28)\n",
      "Fold: 3, Train: (5174, 28), Test: (1148, 28)\n",
      "Fold: 4, Train: (5236, 28), Test: (1148, 28)\n",
      "Fold: 5, Train: (5200, 28), Test: (1148, 28)\n",
      "Fold 1:\n",
      "Early stopping triggered at epoch 34, best val loss: 0.2365ss: 0.284 Scheduler lr: [0.0003593700000000001]]\n",
      "Accuracy: 0.6858, precision: 0.1960, recall: 0.6810, f1: 0.3044, auc: 0.6837\n",
      "Fold 2:\n",
      "Early stopping triggered at epoch 12, best val loss: 0.2367ss: 0.364 Scheduler lr: [0.000228295]000000001]]\n",
      "Accuracy: 0.6936, precision: 0.1776, recall: 0.5603, f1: 0.2697, auc: 0.6345\n",
      "Fold 3:\n",
      "Early stopping triggered at epoch 23, best val loss: 0.3126ss: 0.333 Scheduler lr: [0.00044119999999999994]\n",
      "Accuracy: 0.7500, precision: 0.2082, recall: 0.5259, f1: 0.2983, auc: 0.6505\n",
      "Fold 4:\n",
      "Early stopping triggered at epoch 36, best val loss: 0.2430ss: 0.291 Scheduler lr: [0.00029542500000000004]\n",
      "Accuracy: 0.5932, precision: 0.1592, recall: 0.7069, f1: 0.2599, auc: 0.6437\n",
      "Fold 5:\n",
      "Epoch: 36    training loss:0.158 best_val_loss:0.238 Val Loss: 0.590 Scheduler lr: [0.00027557999999999993]\r"
     ]
    },
    {
     "name": "stderr",
     "output_type": "stream",
     "text": [
      "[I 2025-04-15 16:45:13,167] Trial 44 finished with value: 0.27704162548207334 and parameters: {'n_neighbours': 4, 'normalisation_method': 'MinMaxScaler', 'contamination': 0.37616885731844374, 'hidden_dim': 117, 'output_dim': 112, 'dropout': 0.0, 'threshold': 0.5551419959123527, 'initial_lr': 0.00023585419231589148, 'max_lr': 0.005, 'weight_decay': 0.009987003912463814, 'criterion': 'FocalLoss', 'alpha': 0.800151724437065, 'gamma': 0.5898729427537962}. Best is trial 33 with value: 0.30643680712047383.\n"
     ]
    },
    {
     "name": "stdout",
     "output_type": "stream",
     "text": [
      "Early stopping triggered at epoch 37, best val loss: 0.2377\n",
      "Accuracy: 0.6037, precision: 0.1562, recall: 0.6638, f1: 0.2529, auc: 0.6303\n",
      "Using device: cuda\n",
      "Fold: 1, Train: (4960, 28), Test: (1149, 28)\n",
      "Fold: 2, Train: (4926, 28), Test: (1149, 28)\n",
      "Fold: 3, Train: (4934, 28), Test: (1148, 28)\n",
      "Fold: 4, Train: (4930, 28), Test: (1148, 28)\n",
      "Fold: 5, Train: (4924, 28), Test: (1148, 28)\n",
      "Fold 1:\n",
      "Early stopping triggered at epoch 47, best val loss: 0.3480ss: 0.453 Scheduler lr: [0.00012221000000000004]\n",
      "Accuracy: 0.8425, precision: 0.2695, recall: 0.3276, f1: 0.2957, auc: 0.6139\n",
      "Fold 2:\n",
      "Early stopping triggered at epoch 50, best val loss: 0.2992ss: 0.523 Scheduler lr: [7.761999999999995e-05]]\n",
      "Accuracy: 0.8251, precision: 0.2185, recall: 0.2845, f1: 0.2472, auc: 0.5851\n",
      "Fold 3:\n",
      "Early stopping triggered at epoch 30, best val loss: 0.3316ss: 0.370 Scheduler lr: [0.0004429149999999999]]\n",
      "Accuracy: 0.8441, precision: 0.2766, recall: 0.3362, f1: 0.3035, auc: 0.6187\n",
      "Fold 4:\n",
      "Early stopping triggered at epoch 13, best val loss: 0.2179ss: 0.450 Scheduler lr: [0.0002363800000000001]]\n",
      "Accuracy: 0.8676, precision: 0.3200, recall: 0.2759, f1: 0.2963, auc: 0.6050\n",
      "Fold 5:\n",
      "Epoch: 39    training loss:0.164 best_val_loss:0.320 Val Loss: 0.391 Scheduler lr: [0.0002638199999999999]]\r"
     ]
    },
    {
     "name": "stderr",
     "output_type": "stream",
     "text": [
      "[I 2025-04-15 16:45:53,096] Trial 45 finished with value: 0.292909635575058 and parameters: {'n_neighbours': 3, 'normalisation_method': 'MinMaxScaler', 'contamination': 0.39975406426022414, 'hidden_dim': 71, 'output_dim': 68, 'dropout': 0.0, 'threshold': 0.7621994143636083, 'initial_lr': 0.00027208524424443916, 'max_lr': 0.005, 'weight_decay': 0.0022755651993366863, 'criterion': 'FocalLoss', 'alpha': 0.9283666559419704, 'gamma': 0.679141639865479}. Best is trial 33 with value: 0.30643680712047383.\n"
     ]
    },
    {
     "name": "stdout",
     "output_type": "stream",
     "text": [
      "Early stopping triggered at epoch 40, best val loss: 0.3203\n",
      "Accuracy: 0.8458, precision: 0.2897, recall: 0.3621, f1: 0.3218, auc: 0.6311\n",
      "Using device: cuda\n",
      "Fold: 1, Train: (4925, 28), Test: (1149, 28)\n",
      "Fold: 2, Train: (5124, 28), Test: (1149, 28)\n",
      "Fold: 3, Train: (4866, 28), Test: (1148, 28)\n",
      "Fold: 4, Train: (4905, 28), Test: (1148, 28)\n",
      "Fold: 5, Train: (4882, 28), Test: (1148, 28)\n",
      "Fold 1:\n",
      "Early stopping triggered at epoch 44, best val loss: 0.4151ss: 0.697 Scheduler lr: [0.00018934000000000005]\n",
      "Accuracy: 0.8381, precision: 0.2535, recall: 0.3103, f1: 0.2791, auc: 0.6039\n",
      "Fold 2:\n",
      "Early stopping triggered at epoch 39, best val loss: 0.4901ss: 0.586 Scheduler lr: [0.0002452]000000000004]\n",
      "Accuracy: 0.8050, precision: 0.2097, recall: 0.3362, f1: 0.2583, auc: 0.5970\n",
      "Fold 3:\n",
      "Early stopping triggered at epoch 43, best val loss: 0.4224ss: 0.526 Scheduler lr: [0.00020795999999999995]\n",
      "Accuracy: 0.8258, precision: 0.2237, recall: 0.2931, f1: 0.2537, auc: 0.5894\n",
      "Fold 4:\n",
      "Early stopping triggered at epoch 41, best val loss: 0.4256ss: 0.645 Scheduler lr: [0.0002452]99999999999]]\n",
      "Accuracy: 0.8458, precision: 0.2598, recall: 0.2845, f1: 0.2716, auc: 0.5967\n",
      "Fold 5:\n",
      "Epoch: 48    training loss:0.196 best_val_loss:0.411 Val Loss: 0.612 Scheduler lr: [9.624000000000007e-05]]\r"
     ]
    },
    {
     "name": "stderr",
     "output_type": "stream",
     "text": [
      "[I 2025-04-15 16:46:42,178] Trial 46 finished with value: 0.2762103083262375 and parameters: {'n_neighbours': 2, 'normalisation_method': 'MinMaxScaler', 'contamination': 0.3989177947613075, 'hidden_dim': 69, 'output_dim': 64, 'dropout': 0.0, 'threshold': 0.7616900848692714, 'initial_lr': 0.00033471624370395723, 'max_lr': 0.005, 'weight_decay': 0.002218883557117214, 'criterion': 'FocalLoss', 'alpha': 1.1772424529126113, 'gamma': 0.6773703050683317}. Best is trial 33 with value: 0.30643680712047383.\n"
     ]
    },
    {
     "name": "stdout",
     "output_type": "stream",
     "text": [
      "Early stopping triggered at epoch 49, best val loss: 0.4112\n",
      "Accuracy: 0.8545, precision: 0.3023, recall: 0.3362, f1: 0.3184, auc: 0.6245\n",
      "Using device: cuda\n",
      "Fold: 1, Train: (5057, 28), Test: (1149, 28)\n",
      "Fold: 2, Train: (5256, 28), Test: (1149, 28)\n",
      "Fold: 3, Train: (5242, 28), Test: (1148, 28)\n",
      "Fold: 4, Train: (5266, 28), Test: (1148, 28)\n",
      "Fold: 5, Train: (5254, 28), Test: (1148, 28)\n",
      "Fold 1:\n",
      "Early stopping triggered at epoch 34, best val loss: 0.3463ss: 0.471 Scheduler lr: [0.00035128499999999995]\n",
      "Accuracy: 0.8381, precision: 0.2500, recall: 0.3017, f1: 0.2734, auc: 0.6000\n",
      "Fold 2:\n",
      "Early stopping triggered at epoch 12, best val loss: 0.4007ss: 0.462 Scheduler lr: [0.00023099000000000004]\n",
      "Accuracy: 0.8190, precision: 0.2262, recall: 0.3276, f1: 0.2676, auc: 0.6009\n",
      "Fold 3:\n",
      "Early stopping triggered at epoch 41, best val loss: 0.3941ss: 0.503 Scheduler lr: [0.00019619999999999994]\n",
      "Accuracy: 0.8197, precision: 0.2275, recall: 0.3276, f1: 0.2686, auc: 0.6013\n",
      "Fold 4:\n",
      "Early stopping triggered at epoch 44, best val loss: 0.3499ss: 0.446 Scheduler lr: [0.00012613000000000004]\n",
      "Accuracy: 0.8362, precision: 0.2632, recall: 0.3448, f1: 0.2985, auc: 0.6182\n",
      "Fold 5:\n",
      "Epoch: 41    training loss:0.178 best_val_loss:0.359 Val Loss: 0.671 Scheduler lr: [0.00016630999999999997]\r"
     ]
    },
    {
     "name": "stderr",
     "output_type": "stream",
     "text": [
      "[I 2025-04-15 16:47:21,723] Trial 47 finished with value: 0.27953282456015804 and parameters: {'n_neighbours': 3, 'normalisation_method': 'MinMaxScaler', 'contamination': 0.38491696797582675, 'hidden_dim': 82, 'output_dim': 38, 'dropout': 0.0, 'threshold': 0.7670116683004347, 'initial_lr': 0.0002769499403352439, 'max_lr': 0.005, 'weight_decay': 0.001521162109113097, 'criterion': 'FocalLoss', 'alpha': 0.9263515231743779, 'gamma': 0.46467951353928316}. Best is trial 33 with value: 0.30643680712047383.\n"
     ]
    },
    {
     "name": "stdout",
     "output_type": "stream",
     "text": [
      "Early stopping triggered at epoch 42, best val loss: 0.3592\n",
      "Accuracy: 0.8162, precision: 0.2376, recall: 0.3707, f1: 0.2896, auc: 0.6185\n",
      "Using device: cuda\n",
      "Fold: 1, Train: (5332, 28), Test: (1149, 28)\n",
      "Fold: 2, Train: (5309, 28), Test: (1149, 28)\n",
      "Fold: 3, Train: (5302, 28), Test: (1148, 28)\n",
      "Fold: 4, Train: (5322, 28), Test: (1148, 28)\n",
      "Fold: 5, Train: (5345, 28), Test: (1148, 28)\n",
      "Fold 1:\n",
      "Early stopping triggered at epoch 30, best val loss: 0.3201ss: 0.698 Scheduler lr: [0.000400285]000000001]]\n",
      "Accuracy: 0.6841, precision: 0.1889, recall: 0.6466, f1: 0.2924, auc: 0.6674\n",
      "Fold 2:\n",
      "Early stopping triggered at epoch 28, best val loss: 0.4246ss: 0.583 Scheduler lr: [0.0004475699999999999]]\n",
      "Accuracy: 0.6588, precision: 0.1878, recall: 0.7155, f1: 0.2975, auc: 0.6840\n",
      "Fold 3:\n",
      "Early stopping triggered at epoch 32, best val loss: 0.3814ss: 0.479 Scheduler lr: [0.0003672100000000001]]\n",
      "Accuracy: 0.7021, precision: 0.1861, recall: 0.5776, f1: 0.2815, auc: 0.6468\n",
      "Fold 4:\n",
      "Early stopping triggered at epoch 35, best val loss: 0.3651ss: 0.556 Scheduler lr: [0.00029861]00000000006]\n",
      "Accuracy: 0.7030, precision: 0.1831, recall: 0.5603, f1: 0.2760, auc: 0.6397\n",
      "Fold 5:\n",
      "Epoch: 23    training loss:0.290 best_val_loss:0.376 Val Loss: 0.480 Scheduler lr: [0.000477705]0000000013]\r"
     ]
    },
    {
     "name": "stderr",
     "output_type": "stream",
     "text": [
      "[I 2025-04-15 16:47:58,417] Trial 48 finished with value: 0.28425902963494537 and parameters: {'n_neighbours': 4, 'normalisation_method': 'MinMaxScaler', 'contamination': 0.3557147276761337, 'hidden_dim': 66, 'output_dim': 14, 'dropout': 0.0, 'threshold': 0.511394654136907, 'initial_lr': 0.00046233407931477074, 'max_lr': 0.005, 'weight_decay': 0.0030343087528068324, 'criterion': 'FocalLoss', 'alpha': 1.0064822053737745, 'gamma': 0.5512244407759563}. Best is trial 33 with value: 0.30643680712047383.\n"
     ]
    },
    {
     "name": "stdout",
     "output_type": "stream",
     "text": [
      "Early stopping triggered at epoch 24, best val loss: 0.3763\n",
      "Accuracy: 0.6028, precision: 0.1680, recall: 0.7414, f1: 0.2739, auc: 0.6643\n",
      "Using device: cuda\n",
      "Fold: 1, Train: (5270, 28), Test: (1149, 28)\n",
      "Fold: 2, Train: (5287, 28), Test: (1149, 28)\n",
      "Fold: 3, Train: (5235, 28), Test: (1148, 28)\n",
      "Fold: 4, Train: (5275, 28), Test: (1148, 28)\n",
      "Fold: 5, Train: (5263, 28), Test: (1148, 28)\n",
      "Fold 1:\n",
      "Early stopping triggered at epoch 37, best val loss: 0.5543ss: 0.802 Scheduler lr: [0.00026676000000000005]\n",
      "Accuracy: 0.8181, precision: 0.2459, recall: 0.3879, f1: 0.3010, auc: 0.6272\n",
      "Fold 2:\n",
      "Early stopping triggered at epoch 34, best val loss: 0.5557ss: 0.829 Scheduler lr: [0.0003270300000000001]]\n",
      "Accuracy: 0.7624, precision: 0.1847, recall: 0.3966, f1: 0.2521, auc: 0.6000\n",
      "Fold 3:\n",
      "Early stopping triggered at epoch 41, best val loss: 0.4939ss: 0.833 Scheduler lr: [0.00019619999999999994]\n",
      "Accuracy: 0.8084, precision: 0.2204, recall: 0.3534, f1: 0.2715, auc: 0.6065\n",
      "Fold 4:\n",
      "Early stopping triggered at epoch 49, best val loss: 0.5459ss: 0.787 Scheduler lr: [2.568000000000001e-05]]\n",
      "Accuracy: 0.8005, precision: 0.2271, recall: 0.4052, f1: 0.2910, auc: 0.6251\n",
      "Fold 5:\n",
      "Epoch: 36    training loss:0.310 best_val_loss:0.519 Val Loss: 0.684 Scheduler lr: [0.00026676000000000005]\r"
     ]
    },
    {
     "name": "stderr",
     "output_type": "stream",
     "text": [
      "[I 2025-04-15 16:48:44,652] Trial 49 finished with value: 0.2865766885789033 and parameters: {'n_neighbours': 4, 'normalisation_method': 'MinMaxScaler', 'contamination': 0.36699655012199706, 'hidden_dim': 72, 'output_dim': 68, 'dropout': 0.0, 'threshold': 0.7313762188850499, 'initial_lr': 0.00016994273023237448, 'max_lr': 0.005, 'weight_decay': 0.0021137238272402213, 'criterion': 'FocalLoss', 'alpha': 1.3030848350195505, 'gamma': 0.39084188154184074}. Best is trial 33 with value: 0.30643680712047383.\n"
     ]
    },
    {
     "name": "stdout",
     "output_type": "stream",
     "text": [
      "Early stopping triggered at epoch 37, best val loss: 0.5189\n",
      "Accuracy: 0.7901, precision: 0.2363, recall: 0.4828, f1: 0.3173, auc: 0.6537\n",
      "Using device: cuda\n",
      "Fold: 1, Train: (5693, 28), Test: (1149, 28)\n",
      "Fold: 2, Train: (5834, 28), Test: (1149, 28)\n",
      "Fold: 3, Train: (5822, 28), Test: (1148, 28)\n",
      "Fold: 4, Train: (5835, 28), Test: (1148, 28)\n",
      "Fold: 5, Train: (5834, 28), Test: (1148, 28)\n",
      "Fold 1:\n",
      "Early stopping triggered at epoch 28, best val loss: 0.2412ss: 0.335 Scheduler lr: [0.00040788000000000017]\n",
      "Accuracy: 0.7981, precision: 0.2315, recall: 0.4310, f1: 0.3012, auc: 0.6352\n",
      "Fold 2:\n",
      "Early stopping triggered at epoch 27, best val loss: 0.2847ss: 0.331 Scheduler lr: [0.0004103300000000001]]\n",
      "Accuracy: 0.8303, precision: 0.2276, recall: 0.2845, f1: 0.2529, auc: 0.5880\n",
      "Fold 3:\n",
      "Early stopping triggered at epoch 24, best val loss: 0.2691ss: 0.591 Scheduler lr: [0.00048284999999999995]\n",
      "Accuracy: 0.8441, precision: 0.2558, recall: 0.2845, f1: 0.2694, auc: 0.5957\n",
      "Fold 4:\n",
      "Early stopping triggered at epoch 35, best val loss: 0.2858ss: 0.415 Scheduler lr: [0.00023197000000000013]\n",
      "Accuracy: 0.8397, precision: 0.2536, recall: 0.3017, f1: 0.2756, auc: 0.6010\n",
      "Fold 5:\n",
      "Epoch: 36    training loss:0.135 best_val_loss:0.249 Val Loss: 0.425 Scheduler lr: [0.00018738000000000004]\r"
     ]
    },
    {
     "name": "stderr",
     "output_type": "stream",
     "text": [
      "[I 2025-04-15 16:49:23,503] Trial 50 finished with value: 0.28016221494871096 and parameters: {'n_neighbours': 9, 'normalisation_method': 'MinMaxScaler', 'contamination': 0.2999052348480656, 'hidden_dim': 100, 'output_dim': 96, 'dropout': 0.0, 'threshold': 0.6915946909082415, 'initial_lr': 0.0002625148129915461, 'max_lr': 0.005, 'weight_decay': 0.0009714530326793454, 'criterion': 'FocalLoss', 'alpha': 0.8684189927555032, 'gamma': 0.7577498266962277}. Best is trial 33 with value: 0.30643680712047383.\n"
     ]
    },
    {
     "name": "stdout",
     "output_type": "stream",
     "text": [
      "Early stopping triggered at epoch 37, best val loss: 0.2486\n",
      "Accuracy: 0.8267, precision: 0.2544, recall: 0.3707, f1: 0.3018, auc: 0.6243\n",
      "Using device: cuda\n",
      "Fold: 1, Train: (4878, 28), Test: (1149, 28)\n",
      "Fold: 2, Train: (4899, 28), Test: (1149, 28)\n",
      "Fold: 3, Train: (4850, 28), Test: (1148, 28)\n",
      "Fold: 4, Train: (4864, 28), Test: (1148, 28)\n",
      "Fold: 5, Train: (4862, 28), Test: (1148, 28)\n",
      "Fold 1:\n",
      "Early stopping triggered at epoch 43, best val loss: 0.4400ss: 0.799 Scheduler lr: [0.00020795999999999995]\n",
      "Accuracy: 0.7163, precision: 0.1759, recall: 0.4914, f1: 0.2591, auc: 0.6165\n",
      "Fold 2:\n",
      "Early stopping triggered at epoch 36, best val loss: 0.5077ss: 0.566 Scheduler lr: [0.0003383]00000000001]]\n",
      "Accuracy: 0.7563, precision: 0.1940, recall: 0.4483, f1: 0.2708, auc: 0.6196\n",
      "Fold 3:\n",
      "Early stopping triggered at epoch 32, best val loss: 0.4311ss: 0.592 Scheduler lr: [0.00042037499999999996]\n",
      "Accuracy: 0.6829, precision: 0.1754, recall: 0.5776, f1: 0.2691, auc: 0.6362\n",
      "Fold 4:\n",
      "Early stopping triggered at epoch 30, best val loss: 0.4309ss: 0.557 Scheduler lr: [0.00045001999999999987]\n",
      "Accuracy: 0.8127, precision: 0.2353, recall: 0.3793, f1: 0.2904, auc: 0.6204\n",
      "Fold 5:\n",
      "Epoch: 12    training loss:0.378 best_val_loss:0.451 Val Loss: 0.567 Scheduler lr: [0.00023050000000000007]\r"
     ]
    },
    {
     "name": "stderr",
     "output_type": "stream",
     "text": [
      "[I 2025-04-15 16:49:57,217] Trial 51 finished with value: 0.280563980787946 and parameters: {'n_neighbours': 5, 'normalisation_method': 'MinMaxScaler', 'contamination': 0.39058968662800314, 'hidden_dim': 111, 'output_dim': 103, 'dropout': 0.0, 'threshold': 0.5952569305188302, 'initial_lr': 0.0004162883229762417, 'max_lr': 0.005, 'weight_decay': 0.00032732684082454114, 'criterion': 'FocalLoss', 'alpha': 1.6077982725514621, 'gamma': 0.9937262531994783}. Best is trial 33 with value: 0.30643680712047383.\n"
     ]
    },
    {
     "name": "stdout",
     "output_type": "stream",
     "text": [
      "Early stopping triggered at epoch 13, best val loss: 0.4510\n",
      "Accuracy: 0.7901, precision: 0.2340, recall: 0.4741, f1: 0.3134, auc: 0.6499\n",
      "Using device: cuda\n",
      "Fold: 1, Train: (5333, 28), Test: (1149, 28)\n",
      "Fold: 2, Train: (5277, 28), Test: (1149, 28)\n",
      "Fold: 3, Train: (5284, 28), Test: (1148, 28)\n",
      "Fold: 4, Train: (5296, 28), Test: (1148, 28)\n",
      "Fold: 5, Train: (5286, 28), Test: (1148, 28)\n",
      "Fold 1:\n",
      "Early stopping triggered at epoch 20, best val loss: 0.3052ss: 0.398 Scheduler lr: [0.000396365]9999999996]\n",
      "Accuracy: 0.8120, precision: 0.2500, recall: 0.4310, f1: 0.3165, auc: 0.6429\n",
      "Fold 2:\n",
      "Early stopping triggered at epoch 32, best val loss: 0.2837ss: 0.565 Scheduler lr: [0.0003672100000000001]]\n",
      "Accuracy: 0.8120, precision: 0.2340, recall: 0.3793, f1: 0.2895, auc: 0.6200\n",
      "Fold 3:\n",
      "Early stopping triggered at epoch 11, best val loss: 0.2957ss: 0.425 Scheduler lr: [0.00021090000000000006]\n",
      "Accuracy: 0.8101, precision: 0.2287, recall: 0.3707, f1: 0.2829, auc: 0.6151\n",
      "Fold 4:\n",
      "Early stopping triggered at epoch 32, best val loss: 0.2691ss: 0.361 Scheduler lr: [0.0003672100000000001]]\n",
      "Accuracy: 0.8328, precision: 0.2286, recall: 0.2759, f1: 0.2500, auc: 0.5856\n",
      "Fold 5:\n",
      "Early stopping triggered at epoch 41, best val loss: 0.2800ss: 0.382 Scheduler lr: [0.00018640000000000014]\n"
     ]
    },
    {
     "name": "stderr",
     "output_type": "stream",
     "text": [
      "[I 2025-04-15 16:50:30,022] Trial 52 finished with value: 0.2890026084673193 and parameters: {'n_neighbours': 3, 'normalisation_method': 'MinMaxScaler', 'contamination': 0.37730848275474277, 'hidden_dim': 120, 'output_dim': 114, 'dropout': 0.0, 'threshold': 0.6607784416773338, 'initial_lr': 0.00019396377564875723, 'max_lr': 0.005, 'weight_decay': 0.007045106849262284, 'criterion': 'FocalLoss', 'alpha': 0.9637822695058729, 'gamma': 0.820398145477601}. Best is trial 33 with value: 0.30643680712047383.\n"
     ]
    },
    {
     "name": "stdout",
     "output_type": "stream",
     "text": [
      "Accuracy: 0.8145, precision: 0.2461, recall: 0.4052, f1: 0.3062, auc: 0.6328\n",
      "Using device: cuda\n",
      "Fold: 1, Train: (4904, 28), Test: (1149, 28)\n",
      "Fold: 2, Train: (4891, 28), Test: (1149, 28)\n",
      "Fold: 3, Train: (5129, 28), Test: (1148, 28)\n",
      "Fold: 4, Train: (4895, 28), Test: (1148, 28)\n",
      "Fold: 5, Train: (4884, 28), Test: (1148, 28)\n",
      "Fold 1:\n",
      "Early stopping triggered at epoch 38, best val loss: 0.2373ss: 0.391 Scheduler lr: [0.0003010600000000002]]\n",
      "Accuracy: 0.7824, precision: 0.2208, recall: 0.4569, f1: 0.2978, auc: 0.6379\n",
      "Fold 2:\n",
      "Early stopping triggered at epoch 39, best val loss: 0.2809ss: 0.537 Scheduler lr: [0.00028244000000000007]\n",
      "Accuracy: 0.6336, precision: 0.1619, recall: 0.6293, f1: 0.2575, auc: 0.6317\n",
      "Fold 3:\n",
      "Early stopping triggered at epoch 11, best val loss: 0.3112ss: 0.383 Scheduler lr: [0.00020599999999999994]\n",
      "Accuracy: 0.7456, precision: 0.1788, recall: 0.4224, f1: 0.2513, auc: 0.6022\n",
      "Fold 4:\n",
      "Early stopping triggered at epoch 36, best val loss: 0.2596ss: 0.445 Scheduler lr: [0.0003383]00000000001]]\n",
      "Accuracy: 0.7570, precision: 0.2015, recall: 0.4741, f1: 0.2828, auc: 0.6314\n",
      "Fold 5:\n",
      "Early stopping triggered at epoch 48, best val loss: 0.2647ss: 0.406 Scheduler lr: [0.00011485999999999998]\n",
      "Accuracy: 0.7430, precision: 0.2027, recall: 0.5259, f1: 0.2926, auc: 0.6467\n"
     ]
    },
    {
     "name": "stderr",
     "output_type": "stream",
     "text": [
      "[I 2025-04-15 16:51:07,215] Trial 53 finished with value: 0.27637454959126834 and parameters: {'n_neighbours': 2, 'normalisation_method': 'MinMaxScaler', 'contamination': 0.39995768127233644, 'hidden_dim': 126, 'output_dim': 121, 'dropout': 0.0, 'threshold': 0.5716276380223796, 'initial_lr': 0.0002137125974502488, 'max_lr': 0.005, 'weight_decay': 0.004017839228855606, 'criterion': 'FocalLoss', 'alpha': 0.8696395155943891, 'gamma': 0.6238918446376445}. Best is trial 33 with value: 0.30643680712047383.\n"
     ]
    },
    {
     "name": "stdout",
     "output_type": "stream",
     "text": [
      "Using device: cuda\n",
      "Fold: 1, Train: (4999, 28), Test: (1149, 28)\n",
      "Fold: 2, Train: (4969, 28), Test: (1149, 28)\n",
      "Fold: 3, Train: (4984, 28), Test: (1148, 28)\n",
      "Fold: 4, Train: (4984, 28), Test: (1148, 28)\n",
      "Fold: 5, Train: (4963, 28), Test: (1148, 28)\n",
      "Fold 1:\n",
      "Early stopping triggered at epoch 12, best val loss: 0.3171ss: 0.459 Scheduler lr: [0.0002202099999999999]]\n",
      "Accuracy: 0.8172, precision: 0.2740, recall: 0.4914, f1: 0.3519, auc: 0.6726\n",
      "Fold 2:\n",
      "Early stopping triggered at epoch 13, best val loss: 0.3651ss: 0.429 Scheduler lr: [0.0002363800000000001]]\n",
      "Accuracy: 0.7781, precision: 0.2017, recall: 0.4052, f1: 0.2693, auc: 0.6126\n",
      "Fold 3:\n",
      "Early stopping triggered at epoch 47, best val loss: 0.3165ss: 0.460 Scheduler lr: [0.00012221000000000004]\n",
      "Accuracy: 0.7944, precision: 0.2170, recall: 0.3966, f1: 0.2805, auc: 0.6178\n",
      "Fold 4:\n",
      "Early stopping triggered at epoch 33, best val loss: 0.2850ss: 0.368 Scheduler lr: [0.0003863199999999999]]\n",
      "Accuracy: 0.7848, precision: 0.2327, recall: 0.4914, f1: 0.3158, auc: 0.6546\n",
      "Fold 5:\n",
      "Early stopping triggered at epoch 34, best val loss: 0.3401ss: 0.450 Scheduler lr: [0.00036745499999999993]\n",
      "Accuracy: 0.8005, precision: 0.2322, recall: 0.4224, f1: 0.2997, auc: 0.6327\n"
     ]
    },
    {
     "name": "stderr",
     "output_type": "stream",
     "text": [
      "[I 2025-04-15 16:51:38,460] Trial 54 finished with value: 0.3034328588457184 and parameters: {'n_neighbours': 3, 'normalisation_method': 'MinMaxScaler', 'contamination': 0.3909667301568218, 'hidden_dim': 77, 'output_dim': 75, 'dropout': 0.0, 'threshold': 0.6326246458737295, 'initial_lr': 0.00023729588082259344, 'max_lr': 0.005, 'weight_decay': 0.006158550435149704, 'criterion': 'FocalLoss', 'alpha': 1.0642900089170872, 'gamma': 0.7809793409727275}. Best is trial 33 with value: 0.30643680712047383.\n"
     ]
    },
    {
     "name": "stdout",
     "output_type": "stream",
     "text": [
      "Using device: cuda\n",
      "Fold: 1, Train: (5019, 28), Test: (1149, 28)\n",
      "Fold: 2, Train: (5003, 28), Test: (1149, 28)\n",
      "Fold: 3, Train: (5246, 28), Test: (1148, 28)\n",
      "Fold: 4, Train: (5224, 28), Test: (1148, 28)\n",
      "Fold: 5, Train: (4995, 28), Test: (1148, 28)\n",
      "Fold 1:\n",
      "Early stopping triggered at epoch 13, best val loss: 0.3110ss: 0.399 Scheduler lr: [0.00023931999999999998]\n",
      "Accuracy: 0.7354, precision: 0.2117, recall: 0.5948, f1: 0.3122, auc: 0.6730\n",
      "Fold 2:\n",
      "Early stopping triggered at epoch 35, best val loss: 0.3215ss: 0.526 Scheduler lr: [0.00034026]0000000001]]\n",
      "Accuracy: 0.7572, precision: 0.2079, recall: 0.5000, f1: 0.2937, auc: 0.6430\n",
      "Fold 3:\n",
      "Early stopping triggered at epoch 32, best val loss: 0.3908ss: 0.444 Scheduler lr: [0.000374805]000000001]]\n",
      "Accuracy: 0.7404, precision: 0.1840, recall: 0.4569, f1: 0.2624, auc: 0.6146\n",
      "Fold 4:\n",
      "Early stopping triggered at epoch 37, best val loss: 0.3157ss: 0.550 Scheduler lr: [0.00027557999999999993]\n",
      "Accuracy: 0.6707, precision: 0.1741, recall: 0.6034, f1: 0.2703, auc: 0.6409\n",
      "Fold 5:\n",
      "Epoch: 12    training loss:0.327 best_val_loss:0.346 Val Loss: 0.417 Scheduler lr: [0.00023931999999999998]\r"
     ]
    },
    {
     "name": "stderr",
     "output_type": "stream",
     "text": [
      "[I 2025-04-15 16:52:08,726] Trial 55 finished with value: 0.29773659129852803 and parameters: {'n_neighbours': 3, 'normalisation_method': 'MinMaxScaler', 'contamination': 0.38680735190285764, 'hidden_dim': 77, 'output_dim': 72, 'dropout': 0.0, 'threshold': 0.6302124105120619, 'initial_lr': 0.0002510110783048367, 'max_lr': 0.005, 'weight_decay': 0.004891660509245604, 'criterion': 'FocalLoss', 'alpha': 1.0752085958663569, 'gamma': 0.6824334317149482}. Best is trial 33 with value: 0.30643680712047383.\n"
     ]
    },
    {
     "name": "stdout",
     "output_type": "stream",
     "text": [
      "Early stopping triggered at epoch 13, best val loss: 0.3463\n",
      "Accuracy: 0.8092, precision: 0.2670, recall: 0.5086, f1: 0.3501, auc: 0.6758\n",
      "Using device: cuda\n",
      "Fold: 1, Train: (5453, 28), Test: (1149, 28)\n",
      "Fold: 2, Train: (5435, 28), Test: (1149, 28)\n",
      "Fold: 3, Train: (5398, 28), Test: (1148, 28)\n",
      "Fold: 4, Train: (5420, 28), Test: (1148, 28)\n",
      "Fold: 5, Train: (5440, 28), Test: (1148, 28)\n",
      "Fold 1:\n",
      "Early stopping triggered at epoch 12, best val loss: 0.3157ss: 0.423 Scheduler lr: [0.0002390750000000001]]\n",
      "Accuracy: 0.7833, precision: 0.2218, recall: 0.4569, f1: 0.2986, auc: 0.6384\n",
      "Fold 2:\n",
      "Early stopping triggered at epoch 34, best val loss: 0.2935ss: 0.438 Scheduler lr: [0.00031085999999999993]\n",
      "Accuracy: 0.7676, precision: 0.2214, recall: 0.5172, f1: 0.3101, auc: 0.6565\n",
      "Fold 3:\n",
      "Early stopping triggered at epoch 13, best val loss: 0.3561ss: 0.403 Scheduler lr: [0.00025696000000000003]\n",
      "Accuracy: 0.7761, precision: 0.2075, recall: 0.4310, f1: 0.2801, auc: 0.6230\n",
      "Fold 4:\n",
      "Early stopping triggered at epoch 14, best val loss: 0.3486ss: 0.477 Scheduler lr: [0.00027754000000000017]\n",
      "Accuracy: 0.7988, precision: 0.2139, recall: 0.3707, f1: 0.2713, auc: 0.6088\n",
      "Fold 5:\n",
      "Epoch: 47    training loss:0.174 best_val_loss:0.310 Val Loss: 0.460 Scheduler lr: [1.1224999999999975e-05]\r"
     ]
    },
    {
     "name": "stderr",
     "output_type": "stream",
     "text": [
      "[I 2025-04-15 16:52:38,701] Trial 56 finished with value: 0.29176173322061166 and parameters: {'n_neighbours': 3, 'normalisation_method': 'MinMaxScaler', 'contamination': 0.35152208364947596, 'hidden_dim': 79, 'output_dim': 76, 'dropout': 0.0, 'threshold': 0.6289975455089412, 'initial_lr': 0.0003031172684957872, 'max_lr': 0.005, 'weight_decay': 0.005912632088853707, 'criterion': 'FocalLoss', 'alpha': 1.0592649047027385, 'gamma': 0.752977428553396}. Best is trial 33 with value: 0.30643680712047383.\n"
     ]
    },
    {
     "name": "stdout",
     "output_type": "stream",
     "text": [
      "Early stopping triggered at epoch 48, best val loss: 0.3097\n",
      "Accuracy: 0.7587, precision: 0.2115, recall: 0.5086, f1: 0.2987, auc: 0.6477\n",
      "Using device: cuda\n",
      "Fold: 1, Train: (5278, 28), Test: (1149, 28)\n",
      "Fold: 2, Train: (5259, 28), Test: (1149, 28)\n",
      "Fold: 3, Train: (5233, 28), Test: (1148, 28)\n",
      "Fold: 4, Train: (5242, 28), Test: (1148, 28)\n",
      "Fold: 5, Train: (5230, 28), Test: (1148, 28)\n",
      "Fold 1:\n",
      "Early stopping triggered at epoch 33, best val loss: 0.3543ss: 0.501 Scheduler lr: [0.00034711999999999986]\n",
      "Accuracy: 0.7607, precision: 0.2305, recall: 0.5862, f1: 0.3309, auc: 0.6832\n",
      "Fold 2:\n",
      "Early stopping triggered at epoch 42, best val loss: 0.3781ss: 0.481 Scheduler lr: [0.00016630999999999997]\n",
      "Accuracy: 0.7876, precision: 0.1952, recall: 0.3534, f1: 0.2515, auc: 0.5949\n",
      "Fold 3:\n",
      "Early stopping triggered at epoch 36, best val loss: 0.3517ss: 0.474 Scheduler lr: [0.00029542500000000004]\n",
      "Accuracy: 0.8057, precision: 0.2312, recall: 0.3966, f1: 0.2921, auc: 0.6241\n",
      "Fold 4:\n",
      "Early stopping triggered at epoch 44, best val loss: 0.3278ss: 0.425 Scheduler lr: [0.00013666499999999987]\n",
      "Accuracy: 0.7875, precision: 0.2217, recall: 0.4397, f1: 0.2948, auc: 0.6331\n",
      "Fold 5:\n",
      "Epoch: 38    training loss:0.185 best_val_loss:0.280 Val Loss: 0.403 Scheduler lr: [0.00023589000000000013]\r"
     ]
    },
    {
     "name": "stderr",
     "output_type": "stream",
     "text": [
      "[I 2025-04-15 16:53:24,066] Trial 57 finished with value: 0.29690251137388046 and parameters: {'n_neighbours': 4, 'normalisation_method': 'MinMaxScaler', 'contamination': 0.36927463940683036, 'hidden_dim': 75, 'output_dim': 49, 'dropout': 0.0, 'threshold': 0.6416215038653473, 'initial_lr': 0.00023753622565556674, 'max_lr': 0.005, 'weight_decay': 0.004222438517475809, 'criterion': 'FocalLoss', 'alpha': 1.1979331822839712, 'gamma': 0.8899159435070629}. Best is trial 33 with value: 0.30643680712047383.\n"
     ]
    },
    {
     "name": "stdout",
     "output_type": "stream",
     "text": [
      "Early stopping triggered at epoch 39, best val loss: 0.2802\n",
      "Accuracy: 0.7805, precision: 0.2302, recall: 0.5000, f1: 0.3152, auc: 0.6560\n",
      "Using device: cuda\n",
      "Fold: 1, Train: (5185, 28), Test: (1149, 28)\n",
      "Fold: 2, Train: (5180, 28), Test: (1149, 28)\n",
      "Fold: 3, Train: (5303, 28), Test: (1148, 28)\n",
      "Fold: 4, Train: (5168, 28), Test: (1148, 28)\n",
      "Fold: 5, Train: (5309, 28), Test: (1148, 28)\n",
      "Fold 1:\n",
      "Early stopping triggered at epoch 35, best val loss: 0.3438ss: 0.493 Scheduler lr: [0.00031527000000000014]\n",
      "Accuracy: 0.6510, precision: 0.1769, recall: 0.6724, f1: 0.2801, auc: 0.6605\n",
      "Fold 2:\n",
      "Early stopping triggered at epoch 34, best val loss: 0.3587ss: 0.402 Scheduler lr: [0.0003431999999999999]]\n",
      "Accuracy: 0.7032, precision: 0.1813, recall: 0.5517, f1: 0.2729, auc: 0.6360\n",
      "Fold 3:\n",
      "Early stopping triggered at epoch 36, best val loss: 0.3350ss: 0.442 Scheduler lr: [0.00028685]99999999996]\n",
      "Accuracy: 0.7143, precision: 0.1936, recall: 0.5776, f1: 0.2900, auc: 0.6536\n",
      "Fold 4:\n",
      "Early stopping triggered at epoch 33, best val loss: 0.3315ss: 0.478 Scheduler lr: [0.0003627999999999999]]\n",
      "Accuracy: 0.7204, precision: 0.1940, recall: 0.5603, f1: 0.2882, auc: 0.6494\n",
      "Fold 5:\n",
      "Epoch: 12    training loss:0.310 best_val_loss:0.340 Val Loss: 0.435 Scheduler lr: [0.00025108]00000000004]\r"
     ]
    },
    {
     "name": "stderr",
     "output_type": "stream",
     "text": [
      "[I 2025-04-15 16:53:59,243] Trial 58 finished with value: 0.2858313779050218 and parameters: {'n_neighbours': 5, 'normalisation_method': 'MinMaxScaler', 'contamination': 0.36959400367976114, 'hidden_dim': 76, 'output_dim': 52, 'dropout': 0.0, 'threshold': 0.5349427898027443, 'initial_lr': 0.0002453412148209928, 'max_lr': 0.005, 'weight_decay': 0.00428741987307169, 'criterion': 'FocalLoss', 'alpha': 1.1683397773868318, 'gamma': 0.8842619980097066}. Best is trial 33 with value: 0.30643680712047383.\n"
     ]
    },
    {
     "name": "stdout",
     "output_type": "stream",
     "text": [
      "Early stopping triggered at epoch 13, best val loss: 0.3395\n",
      "Accuracy: 0.6838, precision: 0.1920, recall: 0.6638, f1: 0.2979, auc: 0.6749\n",
      "Using device: cuda\n",
      "Fold: 1, Train: (5427, 28), Test: (1149, 28)\n",
      "Fold: 2, Train: (5419, 28), Test: (1149, 28)\n",
      "Fold: 3, Train: (5394, 28), Test: (1148, 28)\n",
      "Fold: 4, Train: (5410, 28), Test: (1148, 28)\n",
      "Fold: 5, Train: (5406, 28), Test: (1148, 28)\n",
      "Fold 1:\n",
      "Early stopping triggered at epoch 46, best val loss: 0.2911ss: 0.482 Scheduler lr: [6.390000000000016e-05]]\n",
      "Accuracy: 0.8085, precision: 0.2347, recall: 0.3966, f1: 0.2949, auc: 0.6257\n",
      "Fold 2:\n",
      "Early stopping triggered at epoch 15, best val loss: 0.3988ss: 0.429 Scheduler lr: [0.0002981200000000001]]\n",
      "Accuracy: 0.7850, precision: 0.2063, recall: 0.3966, f1: 0.2714, auc: 0.6126\n",
      "Fold 3:\n",
      "Early stopping triggered at epoch 33, best val loss: 0.3392ss: 0.690 Scheduler lr: [0.00033143999999999985]\n",
      "Accuracy: 0.7918, precision: 0.2166, recall: 0.4052, f1: 0.2823, auc: 0.6202\n",
      "Fold 4:\n",
      "Early stopping triggered at epoch 12, best val loss: 0.3471ss: 0.443 Scheduler lr: [0.0002363800000000001]]\n",
      "Accuracy: 0.8214, precision: 0.2457, recall: 0.3707, f1: 0.2955, auc: 0.6214\n",
      "Fold 5:\n",
      "Epoch: 26    training loss:0.243 best_val_loss:0.330 Val Loss: 0.452 Scheduler lr: [0.00045492]0000000001]]\r"
     ]
    },
    {
     "name": "stderr",
     "output_type": "stream",
     "text": [
      "[I 2025-04-15 16:54:32,096] Trial 59 finished with value: 0.2918970680521163 and parameters: {'n_neighbours': 4, 'normalisation_method': 'MinMaxScaler', 'contamination': 0.33784991049952995, 'hidden_dim': 91, 'output_dim': 39, 'dropout': 0.0, 'threshold': 0.6347541639740855, 'initial_lr': 0.00022679789100476418, 'max_lr': 0.005, 'weight_decay': 0.007570445508769101, 'criterion': 'FocalLoss', 'alpha': 1.20016363569638, 'gamma': 0.9621552166996493}. Best is trial 33 with value: 0.30643680712047383.\n"
     ]
    },
    {
     "name": "stdout",
     "output_type": "stream",
     "text": [
      "Early stopping triggered at epoch 27, best val loss: 0.3295\n",
      "Accuracy: 0.8336, precision: 0.2699, recall: 0.3793, f1: 0.3154, auc: 0.6320\n",
      "Using device: cuda\n",
      "Fold: 1, Train: (6224, 28), Test: (1149, 28)\n",
      "Fold: 2, Train: (6264, 28), Test: (1149, 28)\n",
      "Fold: 3, Train: (6199, 28), Test: (1148, 28)\n",
      "Fold: 4, Train: (6184, 28), Test: (1148, 28)\n",
      "Fold: 5, Train: (6239, 28), Test: (1148, 28)\n",
      "Fold 1:\n",
      "Early stopping triggered at epoch 35, best val loss: 0.2330ss: 0.368 Scheduler lr: [0.00018198999999999998]\n",
      "Accuracy: 0.7346, precision: 0.2092, recall: 0.5862, f1: 0.3084, auc: 0.6687\n",
      "Fold 2:\n",
      "Early stopping triggered at epoch 34, best val loss: 0.2451ss: 0.335 Scheduler lr: [0.00020575499999999988]\n",
      "Accuracy: 0.7929, precision: 0.2123, recall: 0.3879, f1: 0.2744, auc: 0.6131\n",
      "Fold 3:\n",
      "Early stopping triggered at epoch 42, best val loss: 0.2543ss: 0.325 Scheduler lr: [2.568000000000001e-05]]\n",
      "Accuracy: 0.7962, precision: 0.2190, recall: 0.3966, f1: 0.2822, auc: 0.6188\n",
      "Fold 4:\n",
      "Early stopping triggered at epoch 40, best val loss: 0.2610ss: 0.382 Scheduler lr: [7.272000000000005e-05]]\n",
      "Accuracy: 0.7657, precision: 0.2046, recall: 0.4569, f1: 0.2827, auc: 0.6286\n",
      "Fold 5:\n",
      "Epoch: 27    training loss:0.185 best_val_loss:0.259 Val Loss: 0.273 Scheduler lr: [0.00034834500000000007]\r"
     ]
    },
    {
     "name": "stderr",
     "output_type": "stream",
     "text": [
      "[I 2025-04-15 16:55:20,488] Trial 60 finished with value: 0.2866739615832367 and parameters: {'n_neighbours': 4, 'normalisation_method': 'MinMaxScaler', 'contamination': 0.25710709485369654, 'hidden_dim': 79, 'output_dim': 72, 'dropout': 0.0, 'threshold': 0.5796659161876507, 'initial_lr': 0.00011320365761302634, 'max_lr': 0.005, 'weight_decay': 0.00501398342056184, 'criterion': 'FocalLoss', 'alpha': 1.0967828171976586, 'gamma': 1.0451244788609846}. Best is trial 33 with value: 0.30643680712047383.\n"
     ]
    },
    {
     "name": "stdout",
     "output_type": "stream",
     "text": [
      "Early stopping triggered at epoch 28, best val loss: 0.2586\n",
      "Accuracy: 0.7387, precision: 0.1974, recall: 0.5172, f1: 0.2857, auc: 0.6404\n",
      "Using device: cuda\n",
      "Fold: 1, Train: (5015, 28), Test: (1149, 28)\n",
      "Fold: 2, Train: (5022, 28), Test: (1149, 28)\n",
      "Fold: 3, Train: (5190, 28), Test: (1148, 28)\n",
      "Fold: 4, Train: (5193, 28), Test: (1148, 28)\n",
      "Fold: 5, Train: (5212, 28), Test: (1148, 28)\n",
      "Fold 1:\n",
      "Early stopping triggered at epoch 28, best val loss: 0.3149ss: 0.543 Scheduler lr: [0.00047403000000000007]\n",
      "Accuracy: 0.8285, precision: 0.2787, recall: 0.4397, f1: 0.3411, auc: 0.6559\n",
      "Fold 2:\n",
      "Early stopping triggered at epoch 34, best val loss: 0.3094ss: 0.634 Scheduler lr: [0.0003593700000000001]]\n",
      "Accuracy: 0.7163, precision: 0.1965, recall: 0.5862, f1: 0.2944, auc: 0.6585\n",
      "Fold 3:\n",
      "Early stopping triggered at epoch 39, best val loss: 0.3318ss: 0.519 Scheduler lr: [0.00023589000000000013]\n",
      "Accuracy: 0.7753, precision: 0.2227, recall: 0.4914, f1: 0.3065, auc: 0.6493\n",
      "Fold 4:\n",
      "Early stopping triggered at epoch 42, best val loss: 0.3839ss: 0.458 Scheduler lr: [0.00017635500000000006]\n",
      "Accuracy: 0.7709, precision: 0.2095, recall: 0.4569, f1: 0.2873, auc: 0.6315\n",
      "Fold 5:\n",
      "Epoch: 27    training loss:0.239 best_val_loss:0.340 Val Loss: 0.555 Scheduler lr: [0.0004541850000000002]]\r"
     ]
    },
    {
     "name": "stderr",
     "output_type": "stream",
     "text": [
      "[I 2025-04-15 16:55:59,315] Trial 61 finished with value: 0.304271747022148 and parameters: {'n_neighbours': 4, 'normalisation_method': 'MinMaxScaler', 'contamination': 0.37805875443445947, 'hidden_dim': 84, 'output_dim': 80, 'dropout': 0.0, 'threshold': 0.6067929467729156, 'initial_lr': 0.00017299723006628662, 'max_lr': 0.005, 'weight_decay': 0.008650031737805009, 'criterion': 'FocalLoss', 'alpha': 1.1342151229331177, 'gamma': 0.786906432432876}. Best is trial 33 with value: 0.30643680712047383.\n"
     ]
    },
    {
     "name": "stdout",
     "output_type": "stream",
     "text": [
      "Early stopping triggered at epoch 28, best val loss: 0.3399\n",
      "Accuracy: 0.7805, precision: 0.2167, recall: 0.4483, f1: 0.2921, auc: 0.6331\n",
      "Using device: cuda\n",
      "Fold: 1, Train: (4969, 28), Test: (1149, 28)\n",
      "Fold: 2, Train: (4990, 28), Test: (1149, 28)\n",
      "Fold: 3, Train: (5180, 28), Test: (1148, 28)\n",
      "Fold: 4, Train: (4986, 28), Test: (1148, 28)\n",
      "Fold: 5, Train: (4969, 28), Test: (1148, 28)\n",
      "Fold 1:\n",
      "Early stopping triggered at epoch 14, best val loss: 0.3468ss: 0.454 Scheduler lr: [0.00025524499999999986]\n",
      "Accuracy: 0.7720, precision: 0.2256, recall: 0.5172, f1: 0.3141, auc: 0.6589\n",
      "Fold 2:\n",
      "Early stopping triggered at epoch 38, best val loss: 0.4265ss: 0.801 Scheduler lr: [0.00029199499999999997]\n",
      "Accuracy: 0.7267, precision: 0.1722, recall: 0.4483, f1: 0.2488, auc: 0.6031\n",
      "Fold 3:\n",
      "Early stopping triggered at epoch 36, best val loss: 0.3222ss: 0.771 Scheduler lr: [0.00030400000000000007]\n",
      "Accuracy: 0.8188, precision: 0.2262, recall: 0.3276, f1: 0.2676, auc: 0.6008\n",
      "Fold 4:\n",
      "Early stopping triggered at epoch 40, best val loss: 0.3531ss: 0.418 Scheduler lr: [0.000254265]9999999995]\n",
      "Accuracy: 0.7003, precision: 0.1851, recall: 0.5776, f1: 0.2803, auc: 0.6459\n",
      "Fold 5:\n",
      "Early stopping triggered at epoch 13, best val loss: 0.4003ss: 0.485 Scheduler lr: [0.0002363800000000001]]\n"
     ]
    },
    {
     "name": "stderr",
     "output_type": "stream",
     "text": [
      "[I 2025-04-15 16:56:31,204] Trial 62 finished with value: 0.28884272971505387 and parameters: {'n_neighbours': 4, 'normalisation_method': 'MinMaxScaler', 'contamination': 0.3832967527060246, 'hidden_dim': 74, 'output_dim': 45, 'dropout': 0.0, 'threshold': 0.609509887579476, 'initial_lr': 0.00013353305127231148, 'max_lr': 0.005, 'weight_decay': 0.0084960979651426, 'criterion': 'FocalLoss', 'alpha': 1.2611314351784833, 'gamma': 0.8148803537269829}. Best is trial 33 with value: 0.30643680712047383.\n"
     ]
    },
    {
     "name": "stdout",
     "output_type": "stream",
     "text": [
      "Accuracy: 0.7979, precision: 0.2500, recall: 0.5000, f1: 0.3333, auc: 0.6657\n",
      "Using device: cuda\n",
      "Fold: 1, Train: (4867, 28), Test: (1149, 28)\n",
      "Fold: 2, Train: (4877, 28), Test: (1149, 28)\n",
      "Fold: 3, Train: (4851, 28), Test: (1148, 28)\n",
      "Fold: 4, Train: (4848, 28), Test: (1148, 28)\n",
      "Fold: 5, Train: (4844, 28), Test: (1148, 28)\n",
      "Fold 1:\n",
      "Early stopping triggered at epoch 42, best val loss: 0.3618ss: 0.692 Scheduler lr: [0.00022658000000000007]\n",
      "Accuracy: 0.8085, precision: 0.2292, recall: 0.3793, f1: 0.2857, auc: 0.6180\n",
      "Fold 2:\n",
      "Early stopping triggered at epoch 36, best val loss: 0.4103ss: 0.589 Scheduler lr: [0.0003383]00000000001]]\n",
      "Accuracy: 0.8146, precision: 0.2130, recall: 0.3103, f1: 0.2526, auc: 0.5908\n",
      "Fold 3:\n",
      "Early stopping triggered at epoch 38, best val loss: 0.3655ss: 0.544 Scheduler lr: [0.0003101249999999999]]\n",
      "Accuracy: 0.7866, precision: 0.2081, recall: 0.3966, f1: 0.2730, auc: 0.6135\n",
      "Fold 4:\n",
      "Early stopping triggered at epoch 44, best val loss: 0.4116ss: 0.628 Scheduler lr: [0.00019987500000000007]\n",
      "Accuracy: 0.8171, precision: 0.2330, recall: 0.3534, f1: 0.2808, auc: 0.6113\n",
      "Fold 5:\n",
      "Epoch: 38    training loss:0.230 best_val_loss:0.366 Val Loss: 0.555 Scheduler lr: [0.0002917500000000001]]\r"
     ]
    },
    {
     "name": "stderr",
     "output_type": "stream",
     "text": [
      "[I 2025-04-15 16:57:14,466] Trial 63 finished with value: 0.2786210507964592 and parameters: {'n_neighbours': 5, 'normalisation_method': 'MinMaxScaler', 'contamination': 0.39236455387722957, 'hidden_dim': 83, 'output_dim': 80, 'dropout': 0.0, 'threshold': 0.6442501650497665, 'initial_lr': 0.0001745185836254369, 'max_lr': 0.005, 'weight_decay': 0.002894976531560858, 'criterion': 'FocalLoss', 'alpha': 1.369515842198933, 'gamma': 0.8913817323576386}. Best is trial 33 with value: 0.30643680712047383.\n"
     ]
    },
    {
     "name": "stdout",
     "output_type": "stream",
     "text": [
      "Early stopping triggered at epoch 39, best val loss: 0.3664\n",
      "Accuracy: 0.8057, precision: 0.2365, recall: 0.4138, f1: 0.3009, auc: 0.6318\n",
      "Using device: cuda\n",
      "Fold: 1, Train: (5016, 28), Test: (1149, 28)\n",
      "Fold: 2, Train: (5231, 28), Test: (1149, 28)\n",
      "Fold: 3, Train: (5193, 28), Test: (1148, 28)\n",
      "Fold: 4, Train: (5221, 28), Test: (1148, 28)\n",
      "Fold: 5, Train: (5218, 28), Test: (1148, 28)\n",
      "Fold 1:\n",
      "Early stopping triggered at epoch 42, best val loss: 0.3573ss: 0.397 Scheduler lr: [0.0002064899999999999]]\n",
      "Accuracy: 0.8129, precision: 0.2462, recall: 0.4138, f1: 0.3087, auc: 0.6357\n",
      "Fold 2:\n",
      "Early stopping triggered at epoch 39, best val loss: 0.3794ss: 0.499 Scheduler lr: [0.00023589000000000013]\n",
      "Accuracy: 0.7946, precision: 0.2143, recall: 0.3879, f1: 0.2761, auc: 0.6141\n",
      "Fold 3:\n",
      "Early stopping triggered at epoch 12, best val loss: 0.3417ss: 0.440 Scheduler lr: [0.000228295]000000001]]\n",
      "Accuracy: 0.7639, precision: 0.2008, recall: 0.4483, f1: 0.2773, auc: 0.6238\n",
      "Fold 4:\n",
      "Early stopping triggered at epoch 46, best val loss: 0.3532ss: 0.517 Scheduler lr: [9.697500000000011e-05]]\n",
      "Accuracy: 0.7613, precision: 0.2158, recall: 0.5172, f1: 0.3046, auc: 0.6530\n",
      "Fold 5:\n",
      "Epoch: 40    training loss:0.213 best_val_loss:0.316 Val Loss: 0.456 Scheduler lr: [0.00019619999999999994]\r"
     ]
    },
    {
     "name": "stderr",
     "output_type": "stream",
     "text": [
      "[I 2025-04-15 16:57:54,668] Trial 64 finished with value: 0.2907962193143424 and parameters: {'n_neighbours': 4, 'normalisation_method': 'MinMaxScaler', 'contamination': 0.37815699417646237, 'hidden_dim': 64, 'output_dim': 58, 'dropout': 0.0, 'threshold': 0.6136192355092192, 'initial_lr': 0.00020751365862135772, 'max_lr': 0.005, 'weight_decay': 0.005846683663806394, 'criterion': 'FocalLoss', 'alpha': 1.1166264634523417, 'gamma': 0.7795173177981458}. Best is trial 33 with value: 0.30643680712047383.\n"
     ]
    },
    {
     "name": "stdout",
     "output_type": "stream",
     "text": [
      "Early stopping triggered at epoch 41, best val loss: 0.3158\n",
      "Accuracy: 0.7796, precision: 0.2134, recall: 0.4397, f1: 0.2873, auc: 0.6287\n",
      "Using device: cuda\n",
      "Fold: 1, Train: (5355, 28), Test: (1149, 28)\n",
      "Fold: 2, Train: (5359, 28), Test: (1149, 28)\n",
      "Fold: 3, Train: (5330, 28), Test: (1148, 28)\n",
      "Fold: 4, Train: (5352, 28), Test: (1148, 28)\n",
      "Fold: 5, Train: (5290, 28), Test: (1148, 28)\n",
      "Fold 1:\n",
      "Early stopping triggered at epoch 44, best val loss: 0.3006ss: 0.437 Scheduler lr: [0.00011559500000000001]\n",
      "Accuracy: 0.7511, precision: 0.2128, recall: 0.5431, f1: 0.3058, auc: 0.6588\n",
      "Fold 2:\n",
      "Early stopping triggered at epoch 12, best val loss: 0.3228ss: 0.459 Scheduler lr: [0.00023368500000000005]\n",
      "Accuracy: 0.6832, precision: 0.1702, recall: 0.5517, f1: 0.2602, auc: 0.6248\n",
      "Fold 3:\n",
      "Early stopping triggered at epoch 32, best val loss: 0.3258ss: 0.359 Scheduler lr: [0.0003596149999999999]]\n",
      "Accuracy: 0.6646, precision: 0.1727, recall: 0.6121, f1: 0.2694, auc: 0.6413\n",
      "Fold 4:\n",
      "Early stopping triggered at epoch 33, best val loss: 0.2944ss: 0.410 Scheduler lr: [0.00033927999999999986]\n",
      "Accuracy: 0.7657, precision: 0.2069, recall: 0.4655, f1: 0.2865, auc: 0.6325\n",
      "Fold 5:\n",
      "Early stopping triggered at epoch 38, best val loss: 0.2879ss: 0.528 Scheduler lr: [0.00024667000000000005]\n"
     ]
    },
    {
     "name": "stderr",
     "output_type": "stream",
     "text": [
      "[I 2025-04-15 16:58:32,669] Trial 65 finished with value: 0.2861269080940722 and parameters: {'n_neighbours': 3, 'normalisation_method': 'MinMaxScaler', 'contamination': 0.3704975918334872, 'hidden_dim': 78, 'output_dim': 72, 'dropout': 0.0, 'threshold': 0.5851459653547217, 'initial_lr': 0.0001533569394932599, 'max_lr': 0.005, 'weight_decay': 0.00817660237864112, 'criterion': 'FocalLoss', 'alpha': 1.0731676410977626, 'gamma': 0.7090258181762487}. Best is trial 33 with value: 0.30643680712047383.\n"
     ]
    },
    {
     "name": "stdout",
     "output_type": "stream",
     "text": [
      "Accuracy: 0.7308, precision: 0.2085, recall: 0.5948, f1: 0.3087, auc: 0.6705\n",
      "Using device: cuda\n",
      "Fold: 1, Train: (5321, 28), Test: (1149, 28)\n",
      "Fold: 2, Train: (5305, 28), Test: (1149, 28)\n",
      "Fold: 3, Train: (5281, 28), Test: (1148, 28)\n",
      "Fold: 4, Train: (5316, 28), Test: (1148, 28)\n",
      "Fold: 5, Train: (5282, 28), Test: (1148, 28)\n",
      "Fold 1:\n",
      "Early stopping triggered at epoch 12, best val loss: 0.2788ss: 0.354 Scheduler lr: [0.00023368500000000005]\n",
      "Accuracy: 0.8059, precision: 0.2464, recall: 0.4483, f1: 0.3180, auc: 0.6472\n",
      "Fold 2:\n",
      "Early stopping triggered at epoch 31, best val loss: 0.3284ss: 0.689 Scheduler lr: [0.00038730000000000004]\n",
      "Accuracy: 0.8285, precision: 0.2575, recall: 0.3707, f1: 0.3039, auc: 0.6253\n",
      "Fold 3:\n",
      "Early stopping triggered at epoch 13, best val loss: 0.3418ss: 0.450 Scheduler lr: [0.00025108]00000000004]\n",
      "Accuracy: 0.8328, precision: 0.2500, recall: 0.3276, f1: 0.2836, auc: 0.6086\n",
      "Fold 4:\n",
      "Early stopping triggered at epoch 33, best val loss: 0.2950ss: 0.388 Scheduler lr: [0.00033927999999999986]\n",
      "Accuracy: 0.8275, precision: 0.2588, recall: 0.3793, f1: 0.3077, auc: 0.6286\n",
      "Fold 5:\n",
      "Epoch: 36    training loss:0.209 best_val_loss:0.306 Val Loss: 0.446 Scheduler lr: [0.00026676000000000005]\r"
     ]
    },
    {
     "name": "stderr",
     "output_type": "stream",
     "text": [
      "[I 2025-04-15 16:59:04,296] Trial 66 finished with value: 0.30393114987969655 and parameters: {'n_neighbours': 4, 'normalisation_method': 'MinMaxScaler', 'contamination': 0.35886111107492813, 'hidden_dim': 75, 'output_dim': 68, 'dropout': 0.0, 'threshold': 0.6734466097080275, 'initial_lr': 0.00018601126582614726, 'max_lr': 0.005, 'weight_decay': 0.0035989315504717833, 'criterion': 'FocalLoss', 'alpha': 0.9918228370748269, 'gamma': 0.6426168709118267}. Best is trial 33 with value: 0.30643680712047383.\n"
     ]
    },
    {
     "name": "stdout",
     "output_type": "stream",
     "text": [
      "Early stopping triggered at epoch 37, best val loss: 0.3062\n",
      "Accuracy: 0.8502, precision: 0.2879, recall: 0.3276, f1: 0.3065, auc: 0.6183\n",
      "Using device: cuda\n",
      "Fold: 1, Train: (4916, 28), Test: (1149, 28)\n",
      "Fold: 2, Train: (4887, 28), Test: (1149, 28)\n",
      "Fold: 3, Train: (4873, 28), Test: (1148, 28)\n",
      "Fold: 4, Train: (5043, 28), Test: (1148, 28)\n",
      "Fold: 5, Train: (5036, 28), Test: (1148, 28)\n",
      "Fold 1:\n",
      "Early stopping triggered at epoch 13, best val loss: 0.1752ss: 0.282 Scheduler lr: [0.00023343999999999996]\n",
      "Accuracy: 0.8660, precision: 0.3021, recall: 0.2500, f1: 0.2736, auc: 0.5926\n",
      "Fold 2:\n",
      "Early stopping triggered at epoch 25, best val loss: 0.2347ss: 0.334 Scheduler lr: [0.00045687999999999995]\n",
      "Accuracy: 0.7981, precision: 0.1813, recall: 0.2845, f1: 0.2215, auc: 0.5701\n",
      "Fold 3:\n",
      "Early stopping triggered at epoch 37, best val loss: 0.2148ss: 0.344 Scheduler lr: [0.00031967999999999987]\n",
      "Accuracy: 0.8310, precision: 0.2292, recall: 0.2845, f1: 0.2538, auc: 0.5885\n",
      "Fold 4:\n",
      "Early stopping triggered at epoch 34, best val loss: 0.2431ss: 0.280 Scheduler lr: [0.0003593700000000001]]\n",
      "Accuracy: 0.8066, precision: 0.2268, recall: 0.3793, f1: 0.2839, auc: 0.6170\n",
      "Fold 5:\n",
      "Epoch: 45    training loss:0.126 best_val_loss:0.213 Val Loss: 0.248 Scheduler lr: [0.00013005000000000004]\r"
     ]
    },
    {
     "name": "stderr",
     "output_type": "stream",
     "text": [
      "[I 2025-04-15 16:59:38,546] Trial 67 finished with value: 0.2657702089736902 and parameters: {'n_neighbours': 5, 'normalisation_method': 'MinMaxScaler', 'contamination': 0.3875750379712613, 'hidden_dim': 74, 'output_dim': 68, 'dropout': 0.0, 'threshold': 0.688664356916378, 'initial_lr': 0.0001918869664684235, 'max_lr': 0.005, 'weight_decay': 0.00413512457051966, 'criterion': 'FocalLoss', 'alpha': 0.9966048989569962, 'gamma': 1.2824169393586684}. Best is trial 33 with value: 0.30643680712047383.\n"
     ]
    },
    {
     "name": "stdout",
     "output_type": "stream",
     "text": [
      "Early stopping triggered at epoch 46, best val loss: 0.2131\n",
      "Accuracy: 0.7970, precision: 0.2279, recall: 0.4224, f1: 0.2961, auc: 0.6308\n",
      "Using device: cuda\n",
      "Fold: 1, Train: (5390, 28), Test: (1149, 28)\n",
      "Fold: 2, Train: (5374, 28), Test: (1149, 28)\n",
      "Fold: 3, Train: (5355, 28), Test: (1148, 28)\n",
      "Fold: 4, Train: (5411, 28), Test: (1148, 28)\n",
      "Fold: 5, Train: (5371, 28), Test: (1148, 28)\n",
      "Fold 1:\n",
      "Early stopping triggered at epoch 40, best val loss: 0.3498ss: 0.552 Scheduler lr: [0.00018738000000000004]\n",
      "Accuracy: 0.7833, precision: 0.2263, recall: 0.4741, f1: 0.3064, auc: 0.6461\n",
      "Fold 2:\n",
      "Early stopping triggered at epoch 13, best val loss: 0.2791ss: 0.465 Scheduler lr: [0.0002540200000000001]]\n",
      "Accuracy: 0.8312, precision: 0.2365, recall: 0.3017, f1: 0.2652, auc: 0.5962\n",
      "Fold 3:\n",
      "Early stopping triggered at epoch 13, best val loss: 0.3526ss: 0.467 Scheduler lr: [0.0002540200000000001]]\n",
      "Accuracy: 0.8284, precision: 0.2282, recall: 0.2931, f1: 0.2566, auc: 0.5908\n",
      "Fold 4:\n",
      "Early stopping triggered at epoch 42, best val loss: 0.3441ss: 0.475 Scheduler lr: [0.00014622000000000002]\n",
      "Accuracy: 0.7883, precision: 0.2203, recall: 0.4310, f1: 0.2915, auc: 0.6298\n",
      "Fold 5:\n",
      "Early stopping triggered at epoch 31, best val loss: 0.3452ss: 0.462 Scheduler lr: [0.00037994999999999994]\n"
     ]
    },
    {
     "name": "stderr",
     "output_type": "stream",
     "text": [
      "[I 2025-04-15 17:00:12,181] Trial 68 finished with value: 0.2877095486375415 and parameters: {'n_neighbours': 3, 'normalisation_method': 'MinMaxScaler', 'contamination': 0.3610728478898294, 'hidden_dim': 82, 'output_dim': 64, 'dropout': 0.0, 'threshold': 0.6716006122781417, 'initial_lr': 0.00025287745231421173, 'max_lr': 0.005, 'weight_decay': 0.00373193045152671, 'criterion': 'FocalLoss', 'alpha': 1.1425609085317063, 'gamma': 0.8767196694914027}. Best is trial 33 with value: 0.30643680712047383.\n"
     ]
    },
    {
     "name": "stdout",
     "output_type": "stream",
     "text": [
      "Accuracy: 0.8362, precision: 0.2750, recall: 0.3793, f1: 0.3188, auc: 0.6335\n",
      "Using device: cuda\n",
      "Fold: 1, Train: (5008, 28), Test: (1149, 28)\n",
      "Fold: 2, Train: (4996, 28), Test: (1149, 28)\n",
      "Fold: 3, Train: (5200, 28), Test: (1148, 28)\n",
      "Fold: 4, Train: (5179, 28), Test: (1148, 28)\n",
      "Fold: 5, Train: (5192, 28), Test: (1148, 28)\n",
      "Fold 1:\n",
      "Early stopping triggered at epoch 30, best val loss: 0.3355ss: 0.394 Scheduler lr: [0.0004358099999999999]]\n",
      "Accuracy: 0.8355, precision: 0.2704, recall: 0.3707, f1: 0.3127, auc: 0.6292\n",
      "Fold 2:\n",
      "Early stopping triggered at epoch 26, best val loss: 0.3866ss: 0.729 Scheduler lr: [0.00048775000000000007]\n",
      "Accuracy: 0.8181, precision: 0.2075, recall: 0.2845, f1: 0.2400, auc: 0.5813\n",
      "Fold 3:\n",
      "Early stopping triggered at epoch 40, best val loss: 0.3530ss: 0.408 Scheduler lr: [0.00021604500000000005]\n",
      "Accuracy: 0.8188, precision: 0.2356, recall: 0.3534, f1: 0.2828, auc: 0.6123\n",
      "Fold 4:\n",
      "Early stopping triggered at epoch 36, best val loss: 0.3088ss: 0.608 Scheduler lr: [0.00030400000000000007]\n",
      "Accuracy: 0.7779, precision: 0.2043, recall: 0.4138, f1: 0.2735, auc: 0.6163\n",
      "Fold 5:\n",
      "Epoch: 43    training loss:0.186 best_val_loss:0.313 Val Loss: 0.544 Scheduler lr: [0.00013666499999999987]\r"
     ]
    },
    {
     "name": "stderr",
     "output_type": "stream",
     "text": [
      "[I 2025-04-15 17:00:53,168] Trial 69 finished with value: 0.2761190210385613 and parameters: {'n_neighbours': 4, 'normalisation_method': 'MinMaxScaler', 'contamination': 0.38138737239845494, 'hidden_dim': 75, 'output_dim': 61, 'dropout': 0.0, 'threshold': 0.7115364454149353, 'initial_lr': 0.0002220015937491802, 'max_lr': 0.005, 'weight_decay': 0.00272294408143, 'criterion': 'FocalLoss', 'alpha': 1.0396204735421113, 'gamma': 0.708732864787953}. Best is trial 33 with value: 0.30643680712047383.\n"
     ]
    },
    {
     "name": "stdout",
     "output_type": "stream",
     "text": [
      "Early stopping triggered at epoch 44, best val loss: 0.3127\n",
      "Accuracy: 0.7944, precision: 0.2115, recall: 0.3793, f1: 0.2716, auc: 0.6102\n",
      "Using device: cuda\n",
      "Fold: 1, Train: (4930, 28), Test: (1149, 28)\n",
      "Fold: 2, Train: (4888, 28), Test: (1149, 28)\n",
      "Fold: 3, Train: (4891, 28), Test: (1148, 28)\n",
      "Fold: 4, Train: (4888, 28), Test: (1148, 28)\n",
      "Fold: 5, Train: (4888, 28), Test: (1148, 28)\n",
      "Fold 1:\n",
      "Early stopping triggered at epoch 44, best val loss: 0.6229ss: 0.817 Scheduler lr: [0.000178805]9999999999]\n",
      "Accuracy: 0.8181, precision: 0.2343, recall: 0.3534, f1: 0.2818, auc: 0.6119\n",
      "Fold 2:\n",
      "Early stopping triggered at epoch 13, best val loss: 0.5398ss: 0.881 Scheduler lr: [0.00023343999999999996]\n",
      "Accuracy: 0.7728, precision: 0.2016, recall: 0.4224, f1: 0.2730, auc: 0.6173\n",
      "Fold 3:\n",
      "Early stopping triggered at epoch 44, best val loss: 0.6712ss: 1.044 Scheduler lr: [0.00018934000000000005]\n",
      "Accuracy: 0.7918, precision: 0.2113, recall: 0.3879, f1: 0.2736, auc: 0.6126\n",
      "Fold 4:\n",
      "Early stopping triggered at epoch 39, best val loss: 0.6345ss: 1.060 Scheduler lr: [0.00028244000000000007]\n",
      "Accuracy: 0.8354, precision: 0.2614, recall: 0.3448, f1: 0.2974, auc: 0.6177\n",
      "Fold 5:\n",
      "Epoch: 13    training loss:0.591 best_val_loss:0.641 Val Loss: 0.912 Scheduler lr: [0.0002520599999999999]]\r"
     ]
    },
    {
     "name": "stderr",
     "output_type": "stream",
     "text": [
      "[I 2025-04-15 17:01:27,936] Trial 70 finished with value: 0.29181095536532303 and parameters: {'n_neighbours': 2, 'normalisation_method': 'MinMaxScaler', 'contamination': 0.3946306914317231, 'hidden_dim': 71, 'output_dim': 35, 'dropout': 0.0, 'threshold': 0.6468303318538309, 'initial_lr': 0.00017416250154405426, 'max_lr': 0.005, 'weight_decay': 0.005136889775701373, 'criterion': 'FocalLoss', 'alpha': 1.999980407320784, 'gamma': 0.6638673312677299}. Best is trial 33 with value: 0.30643680712047383.\n"
     ]
    },
    {
     "name": "stdout",
     "output_type": "stream",
     "text": [
      "Early stopping triggered at epoch 14, best val loss: 0.6415\n",
      "Accuracy: 0.7944, precision: 0.2479, recall: 0.5086, f1: 0.3333, auc: 0.6676\n",
      "Using device: cuda\n",
      "Fold: 1, Train: (5487, 28), Test: (1149, 28)\n",
      "Fold: 2, Train: (5445, 28), Test: (1149, 28)\n",
      "Fold: 3, Train: (5411, 28), Test: (1148, 28)\n",
      "Fold: 4, Train: (5497, 28), Test: (1148, 28)\n",
      "Fold: 5, Train: (5465, 28), Test: (1148, 28)\n",
      "Fold 1:\n",
      "Early stopping triggered at epoch 40, best val loss: 0.3775ss: 0.678 Scheduler lr: [0.0001778250000000001]]\n",
      "Accuracy: 0.7258, precision: 0.1994, recall: 0.5690, f1: 0.2953, auc: 0.6562\n",
      "Fold 2:\n",
      "Early stopping triggered at epoch 38, best val loss: 0.3722ss: 0.628 Scheduler lr: [0.0002194750000000001]]\n",
      "Accuracy: 0.7815, precision: 0.1707, recall: 0.3017, f1: 0.2181, auc: 0.5686\n",
      "Fold 3:\n",
      "Early stopping triggered at epoch 48, best val loss: 0.4256ss: 0.573 Scheduler lr: [2.27399999999999e-05]5]\n",
      "Accuracy: 0.7936, precision: 0.2212, recall: 0.4138, f1: 0.2883, auc: 0.6250\n",
      "Fold 4:\n",
      "Early stopping triggered at epoch 37, best val loss: 0.4190ss: 0.603 Scheduler lr: [0.00024029999999999988]\n",
      "Accuracy: 0.6969, precision: 0.1865, recall: 0.5948, f1: 0.2840, auc: 0.6516\n",
      "Fold 5:\n",
      "Early stopping triggered at epoch 37, best val loss: 0.3489ss: 0.835 Scheduler lr: [0.00024029999999999988]\n"
     ]
    },
    {
     "name": "stderr",
     "output_type": "stream",
     "text": [
      "[I 2025-04-15 17:02:15,537] Trial 71 finished with value: 0.27191641151206575 and parameters: {'n_neighbours': 3, 'normalisation_method': 'MinMaxScaler', 'contamination': 0.3463448000348935, 'hidden_dim': 88, 'output_dim': 83, 'dropout': 0.0, 'threshold': 0.6223241362285199, 'initial_lr': 0.00018596757375271197, 'max_lr': 0.005, 'weight_decay': 0.009623305819872611, 'criterion': 'FocalLoss', 'alpha': 1.249336470955863, 'gamma': 0.5078931050004891}. Best is trial 33 with value: 0.30643680712047383.\n"
     ]
    },
    {
     "name": "stdout",
     "output_type": "stream",
     "text": [
      "Accuracy: 0.6307, precision: 0.1709, recall: 0.6897, f1: 0.2740, auc: 0.6568\n",
      "Using device: cuda\n",
      "Fold: 1, Train: (5313, 28), Test: (1149, 28)\n",
      "Fold: 2, Train: (5298, 28), Test: (1149, 28)\n",
      "Fold: 3, Train: (5292, 28), Test: (1148, 28)\n",
      "Fold: 4, Train: (5330, 28), Test: (1148, 28)\n",
      "Fold: 5, Train: (5313, 28), Test: (1148, 28)\n",
      "Fold 1:\n",
      "Early stopping triggered at epoch 39, best val loss: 0.2598ss: 0.333 Scheduler lr: [0.00021727]00000000005]\n",
      "Accuracy: 0.6754, precision: 0.1918, recall: 0.6897, f1: 0.3002, auc: 0.6817\n",
      "Fold 2:\n",
      "Early stopping triggered at epoch 48, best val loss: 0.3337ss: 0.455 Scheduler lr: [4.576999999999998e-05]]\n",
      "Accuracy: 0.6789, precision: 0.1781, recall: 0.6034, f1: 0.2750, auc: 0.6454\n",
      "Fold 3:\n",
      "Early stopping triggered at epoch 40, best val loss: 0.3302ss: 0.682 Scheduler lr: [0.0002064899999999999]]\n",
      "Accuracy: 0.7021, precision: 0.1771, recall: 0.5345, f1: 0.2661, auc: 0.6277\n",
      "Fold 4:\n",
      "Early stopping triggered at epoch 47, best val loss: 0.3330ss: 0.469 Scheduler lr: [5.459000000000009e-05]]\n",
      "Accuracy: 0.6969, precision: 0.1742, recall: 0.5345, f1: 0.2627, auc: 0.6248\n",
      "Fold 5:\n",
      "Epoch: 44    training loss:0.184 best_val_loss:0.307 Val Loss: 0.505 Scheduler lr: [9.525999999999997e-05]]\r"
     ]
    },
    {
     "name": "stderr",
     "output_type": "stream",
     "text": [
      "[I 2025-04-15 17:03:06,747] Trial 72 finished with value: 0.27953200789171556 and parameters: {'n_neighbours': 4, 'normalisation_method': 'MinMaxScaler', 'contamination': 0.3572450842722674, 'hidden_dim': 81, 'output_dim': 74, 'dropout': 0.0, 'threshold': 0.5444044385106184, 'initial_lr': 0.00016370214021126285, 'max_lr': 0.005, 'weight_decay': 0.006987030752800197, 'criterion': 'FocalLoss', 'alpha': 0.9562977355721707, 'gamma': 0.6321719957805716}. Best is trial 33 with value: 0.30643680712047383.\n"
     ]
    },
    {
     "name": "stdout",
     "output_type": "stream",
     "text": [
      "Early stopping triggered at epoch 45, best val loss: 0.3068\n",
      "Accuracy: 0.7108, precision: 0.1949, recall: 0.5948, f1: 0.2936, auc: 0.6593\n",
      "Using device: cuda\n",
      "Fold: 1, Train: (5271, 28), Test: (1149, 28)\n",
      "Fold: 2, Train: (5251, 28), Test: (1149, 28)\n",
      "Fold: 3, Train: (5246, 28), Test: (1148, 28)\n",
      "Fold: 4, Train: (5221, 28), Test: (1148, 28)\n",
      "Fold: 5, Train: (5218, 28), Test: (1148, 28)\n",
      "Fold 1:\n",
      "Early stopping triggered at epoch 34, best val loss: 0.3049ss: 0.347 Scheduler lr: [0.0003270300000000001]]\n",
      "Accuracy: 0.7598, precision: 0.2037, recall: 0.4741, f1: 0.2850, auc: 0.6330\n",
      "Fold 2:\n",
      "Early stopping triggered at epoch 13, best val loss: 0.3292ss: 0.454 Scheduler lr: [0.00025108]00000000004]\n",
      "Accuracy: 0.7232, precision: 0.1763, recall: 0.4741, f1: 0.2570, auc: 0.6127\n",
      "Fold 3:\n",
      "Early stopping triggered at epoch 45, best val loss: 0.2974ss: 0.401 Scheduler lr: [0.00011681999999999998]\n",
      "Accuracy: 0.7718, precision: 0.1933, recall: 0.3966, f1: 0.2599, auc: 0.6053\n",
      "Fold 4:\n",
      "Early stopping triggered at epoch 53, best val loss: 0.3252ss: 0.391 Scheduler lr: [6.193999999999994e-05]]\n",
      "Accuracy: 0.7535, precision: 0.2070, recall: 0.5086, f1: 0.2943, auc: 0.6448\n",
      "Fold 5:\n",
      "Epoch: 12    training loss:0.274 best_val_loss:0.226 Val Loss: 0.370 Scheduler lr: [0.0002481399999999999]]\r"
     ]
    },
    {
     "name": "stderr",
     "output_type": "stream",
     "text": [
      "[I 2025-04-15 17:03:44,208] Trial 73 finished with value: 0.2785329504629474 and parameters: {'n_neighbours': 4, 'normalisation_method': 'MinMaxScaler', 'contamination': 0.3731432526427909, 'hidden_dim': 77, 'output_dim': 71, 'dropout': 0.0, 'threshold': 0.5985421494489711, 'initial_lr': 0.00014314266758481487, 'max_lr': 0.005, 'weight_decay': 0.005997829990744849, 'criterion': 'FocalLoss', 'alpha': 0.9929098324410839, 'gamma': 0.8258400661395044}. Best is trial 33 with value: 0.30643680712047383.\n"
     ]
    },
    {
     "name": "stdout",
     "output_type": "stream",
     "text": [
      "Early stopping triggered at epoch 13, best val loss: 0.2257\n",
      "Accuracy: 0.8057, precision: 0.2338, recall: 0.4052, f1: 0.2965, auc: 0.6280\n",
      "Using device: cuda\n",
      "Fold: 1, Train: (5182, 28), Test: (1149, 28)\n",
      "Fold: 2, Train: (5196, 28), Test: (1149, 28)\n",
      "Fold: 3, Train: (5313, 28), Test: (1148, 28)\n",
      "Fold: 4, Train: (5327, 28), Test: (1148, 28)\n",
      "Fold: 5, Train: (5338, 28), Test: (1148, 28)\n",
      "Fold 1:\n",
      "Early stopping triggered at epoch 34, best val loss: 0.2814ss: 0.429 Scheduler lr: [0.0003431999999999999]]\n",
      "Accuracy: 0.8007, precision: 0.2466, recall: 0.4741, f1: 0.3245, auc: 0.6558\n",
      "Fold 2:\n",
      "Early stopping triggered at epoch 12, best val loss: 0.3164ss: 0.437 Scheduler lr: [0.000228295]000000001]]\n",
      "Accuracy: 0.8320, precision: 0.2381, recall: 0.3017, f1: 0.2662, auc: 0.5967\n",
      "Fold 3:\n",
      "Early stopping triggered at epoch 12, best val loss: 0.3259ss: 0.441 Scheduler lr: [0.00023368500000000005]\n",
      "Accuracy: 0.7883, precision: 0.2127, recall: 0.4052, f1: 0.2789, auc: 0.6183\n",
      "Fold 4:\n",
      "Early stopping triggered at epoch 35, best val loss: 0.3368ss: 0.449 Scheduler lr: [0.00029861]00000000006]\n",
      "Accuracy: 0.8293, precision: 0.2500, recall: 0.3448, f1: 0.2899, auc: 0.6143\n",
      "Fold 5:\n",
      "Early stopping triggered at epoch 38, best val loss: 0.3162ss: 0.403 Scheduler lr: [0.00023760500000000005]\n"
     ]
    },
    {
     "name": "stderr",
     "output_type": "stream",
     "text": [
      "[I 2025-04-15 17:04:16,631] Trial 74 finished with value: 0.29525239560052496 and parameters: {'n_neighbours': 5, 'normalisation_method': 'MinMaxScaler', 'contamination': 0.3672461266241414, 'hidden_dim': 69, 'output_dim': 50, 'dropout': 0.0, 'threshold': 0.6591128710065869, 'initial_lr': 0.00020352810360680347, 'max_lr': 0.005, 'weight_decay': 0.00443283224778806, 'criterion': 'FocalLoss', 'alpha': 1.0321902337074729, 'gamma': 0.7734534996431759}. Best is trial 33 with value: 0.30643680712047383.\n"
     ]
    },
    {
     "name": "stdout",
     "output_type": "stream",
     "text": [
      "Accuracy: 0.8197, precision: 0.2567, recall: 0.4138, f1: 0.3168, auc: 0.6396\n",
      "Using device: cuda\n",
      "Fold: 1, Train: (5193, 28), Test: (1149, 28)\n",
      "Fold: 2, Train: (5194, 28), Test: (1149, 28)\n",
      "Fold: 3, Train: (5314, 28), Test: (1148, 28)\n",
      "Fold: 4, Train: (5205, 28), Test: (1148, 28)\n",
      "Fold: 5, Train: (5328, 28), Test: (1148, 28)\n",
      "Fold 1:\n",
      "Early stopping triggered at epoch 43, best val loss: 0.2723ss: 0.380 Scheduler lr: [0.00015650999999999995]\n",
      "Accuracy: 0.7746, precision: 0.2400, recall: 0.5690, f1: 0.3376, auc: 0.6833\n",
      "Fold 2:\n",
      "Early stopping triggered at epoch 13, best val loss: 0.2739ss: 0.439 Scheduler lr: [0.0002481399999999999]]\n",
      "Accuracy: 0.7876, precision: 0.2091, recall: 0.3966, f1: 0.2738, auc: 0.6141\n",
      "Fold 3:\n",
      "Early stopping triggered at epoch 46, best val loss: 0.3109ss: 0.398 Scheduler lr: [7.492500000000014e-05]]\n",
      "Accuracy: 0.7814, precision: 0.2000, recall: 0.3879, f1: 0.2639, auc: 0.6068\n",
      "Fold 4:\n",
      "Early stopping triggered at epoch 42, best val loss: 0.3077ss: 0.363 Scheduler lr: [0.00017635500000000006]\n",
      "Accuracy: 0.7875, precision: 0.2217, recall: 0.4397, f1: 0.2948, auc: 0.6331\n",
      "Fold 5:\n",
      "Epoch: 34    training loss:0.197 best_val_loss:0.273 Val Loss: 0.403 Scheduler lr: [0.00029861]00000000006]\r"
     ]
    },
    {
     "name": "stderr",
     "output_type": "stream",
     "text": [
      "[I 2025-04-15 17:04:57,712] Trial 75 finished with value: 0.2913794888499731 and parameters: {'n_neighbours': 5, 'normalisation_method': 'MinMaxScaler', 'contamination': 0.3672695020902213, 'hidden_dim': 69, 'output_dim': 51, 'dropout': 0.0, 'threshold': 0.6606609276001065, 'initial_lr': 0.00024044029156568403, 'max_lr': 0.005, 'weight_decay': 0.0032643955441244536, 'criterion': 'FocalLoss', 'alpha': 1.090787439844725, 'gamma': 0.9455333919781789}. Best is trial 33 with value: 0.30643680712047383.\n"
     ]
    },
    {
     "name": "stdout",
     "output_type": "stream",
     "text": [
      "Early stopping triggered at epoch 35, best val loss: 0.2733\n",
      "Accuracy: 0.8310, precision: 0.2500, recall: 0.3362, f1: 0.2868, auc: 0.6114\n",
      "Using device: cuda\n",
      "Fold: 1, Train: (5153, 28), Test: (1149, 28)\n",
      "Fold: 2, Train: (5137, 28), Test: (1149, 28)\n",
      "Fold: 3, Train: (5265, 28), Test: (1148, 28)\n",
      "Fold: 4, Train: (5302, 28), Test: (1148, 28)\n",
      "Fold: 5, Train: (5281, 28), Test: (1148, 28)\n",
      "Fold 1:\n",
      "Early stopping triggered at epoch 32, best val loss: 0.3178ss: 0.407 Scheduler lr: [0.0003823999999999999]]\n",
      "Accuracy: 0.8460, precision: 0.2806, recall: 0.3362, f1: 0.3059, auc: 0.6197\n",
      "Fold 2:\n",
      "Early stopping triggered at epoch 12, best val loss: 0.3602ss: 0.467 Scheduler lr: [0.00022559999999999995]\n",
      "Accuracy: 0.8251, precision: 0.2327, recall: 0.3190, f1: 0.2691, auc: 0.6004\n",
      "Fold 3:\n",
      "Early stopping triggered at epoch 36, best val loss: 0.2973ss: 0.461 Scheduler lr: [0.00028685]99999999996]\n",
      "Accuracy: 0.8415, precision: 0.2708, recall: 0.3362, f1: 0.3000, auc: 0.6172\n",
      "Fold 4:\n",
      "Early stopping triggered at epoch 13, best val loss: 0.2839ss: 0.412 Scheduler lr: [0.00025108]00000000004]\n",
      "Accuracy: 0.8232, precision: 0.2456, recall: 0.3621, f1: 0.2927, auc: 0.6185\n",
      "Fold 5:\n",
      "Epoch: 11    training loss:0.294 best_val_loss:0.371 Val Loss: 0.426 Scheduler lr: [0.00023099000000000004]\r"
     ]
    },
    {
     "name": "stderr",
     "output_type": "stream",
     "text": [
      "[I 2025-04-15 17:05:23,586] Trial 76 finished with value: 0.2981275110641962 and parameters: {'n_neighbours': 6, 'normalisation_method': 'MinMaxScaler', 'contamination': 0.3808321494468425, 'hidden_dim': 73, 'output_dim': 45, 'dropout': 0.0, 'threshold': 0.6725607825901787, 'initial_lr': 0.00020335432467847884, 'max_lr': 0.005, 'weight_decay': 0.004441260751950161, 'criterion': 'FocalLoss', 'alpha': 1.0280705084092072, 'gamma': 0.7864426508069754}. Best is trial 33 with value: 0.30643680712047383.\n"
     ]
    },
    {
     "name": "stdout",
     "output_type": "stream",
     "text": [
      "Early stopping triggered at epoch 12, best val loss: 0.3713\n",
      "Accuracy: 0.8101, precision: 0.2524, recall: 0.4483, f1: 0.3230, auc: 0.6495\n",
      "Using device: cuda\n",
      "Fold: 1, Train: (5017, 28), Test: (1149, 28)\n",
      "Fold: 2, Train: (5017, 28), Test: (1149, 28)\n",
      "Fold: 3, Train: (4990, 28), Test: (1148, 28)\n",
      "Fold: 4, Train: (5031, 28), Test: (1148, 28)\n",
      "Fold: 5, Train: (5016, 28), Test: (1148, 28)\n",
      "Fold 1:\n",
      "Early stopping triggered at epoch 37, best val loss: 0.4380ss: 0.603 Scheduler lr: [0.00030204000000000006]\n",
      "Accuracy: 0.8207, precision: 0.2500, recall: 0.3879, f1: 0.3041, auc: 0.6286\n",
      "Fold 2:\n",
      "Early stopping triggered at epoch 29, best val loss: 0.4703ss: 0.640 Scheduler lr: [0.00045492]00000000007]\n",
      "Accuracy: 0.7929, precision: 0.2010, recall: 0.3534, f1: 0.2562, auc: 0.5978\n",
      "Fold 3:\n",
      "Early stopping triggered at epoch 25, best val loss: 0.4666ss: 0.548 Scheduler lr: [0.00046276]]0000000004]\n",
      "Accuracy: 0.7901, precision: 0.2146, recall: 0.4052, f1: 0.2806, auc: 0.6193\n",
      "Fold 4:\n",
      "Early stopping triggered at epoch 14, best val loss: 0.4292ss: 0.524 Scheduler lr: [0.0002584300000000001]]\n",
      "Accuracy: 0.7936, precision: 0.2311, recall: 0.4483, f1: 0.3050, auc: 0.6403\n",
      "Fold 5:\n",
      "Epoch: 33    training loss:0.262 best_val_loss:0.401 Val Loss: 0.725 Scheduler lr: [0.0003593700000000001]]\r"
     ]
    },
    {
     "name": "stderr",
     "output_type": "stream",
     "text": [
      "[I 2025-04-15 17:05:54,944] Trial 77 finished with value: 0.28613521004715475 and parameters: {'n_neighbours': 9, 'normalisation_method': 'MinMaxScaler', 'contamination': 0.39278017222114214, 'hidden_dim': 73, 'output_dim': 45, 'dropout': 0.0, 'threshold': 0.6766315523198145, 'initial_lr': 0.00021621798359263333, 'max_lr': 0.005, 'weight_decay': 5.465275433157875e-05, 'criterion': 'FocalLoss', 'alpha': 1.1427342161311262, 'gamma': 0.5903460945562962}. Best is trial 33 with value: 0.30643680712047383.\n"
     ]
    },
    {
     "name": "stdout",
     "output_type": "stream",
     "text": [
      "Early stopping triggered at epoch 34, best val loss: 0.4015\n",
      "Accuracy: 0.8075, precision: 0.2280, recall: 0.3793, f1: 0.2848, auc: 0.6175\n",
      "Using device: cuda\n",
      "Fold: 1, Train: (5046, 28), Test: (1149, 28)\n",
      "Fold: 2, Train: (5060, 28), Test: (1149, 28)\n",
      "Fold: 3, Train: (5173, 28), Test: (1148, 28)\n",
      "Fold: 4, Train: (5065, 28), Test: (1148, 28)\n",
      "Fold: 5, Train: (5052, 28), Test: (1148, 28)\n",
      "Fold 1:\n",
      "Early stopping triggered at epoch 40, best val loss: 0.4032ss: 0.649 Scheduler lr: [0.00024471000000000003]\n",
      "Accuracy: 0.8225, precision: 0.2349, recall: 0.3362, f1: 0.2766, auc: 0.6066\n",
      "Fold 2:\n",
      "Early stopping triggered at epoch 30, best val loss: 0.4911ss: 0.584 Scheduler lr: [0.00042870499999999993]\n",
      "Accuracy: 0.7720, precision: 0.1907, recall: 0.3879, f1: 0.2557, auc: 0.6015\n",
      "Fold 3:\n",
      "Early stopping triggered at epoch 34, best val loss: 0.3392ss: 0.559 Scheduler lr: [0.0003431999999999999]]\n",
      "Accuracy: 0.8528, precision: 0.2735, recall: 0.2759, f1: 0.2747, auc: 0.5967\n",
      "Fold 4:\n",
      "Early stopping triggered at epoch 24, best val loss: 0.4101ss: 0.537 Scheduler lr: [0.00045516500000000005]\n",
      "Accuracy: 0.8293, precision: 0.2590, recall: 0.3707, f1: 0.3050, auc: 0.6258\n",
      "Fold 5:\n",
      "Early stopping triggered at epoch 14, best val loss: 0.3321ss: 0.621 Scheduler lr: [0.0002584300000000001]]\n",
      "Accuracy: 0.7840, precision: 0.2462, recall: 0.5517, f1: 0.3404, auc: 0.6809\n"
     ]
    },
    {
     "name": "stderr",
     "output_type": "stream",
     "text": [
      "[I 2025-04-15 17:06:28,449] Trial 78 finished with value: 0.2904691490745276 and parameters: {'n_neighbours': 8, 'normalisation_method': 'MinMaxScaler', 'contamination': 0.381065906317421, 'hidden_dim': 85, 'output_dim': 79, 'dropout': 0.0, 'threshold': 0.6967656776095656, 'initial_lr': 0.00023238212861795147, 'max_lr': 0.005, 'weight_decay': 0.0018413036964276415, 'criterion': 'FocalLoss', 'alpha': 1.2076827389418097, 'gamma': 0.7213010715046297}. Best is trial 33 with value: 0.30643680712047383.\n"
     ]
    },
    {
     "name": "stdout",
     "output_type": "stream",
     "text": [
      "Using device: cuda\n",
      "Fold: 1, Train: (5114, 28), Test: (1149, 28)\n",
      "Fold: 2, Train: (5096, 28), Test: (1149, 28)\n",
      "Fold: 3, Train: (5093, 28), Test: (1148, 28)\n",
      "Fold: 4, Train: (5127, 28), Test: (1148, 28)\n",
      "Fold: 5, Train: (5107, 28), Test: (1148, 28)\n",
      "Fold 1:\n",
      "Early stopping triggered at epoch 28, best val loss: 0.4039ss: 0.500 Scheduler lr: [0.000467415]999999999]]\n",
      "Accuracy: 0.8094, precision: 0.2488, recall: 0.4397, f1: 0.3178, auc: 0.6453\n",
      "Fold 2:\n",
      "Early stopping triggered at epoch 30, best val loss: 0.5085ss: 0.589 Scheduler lr: [0.00042870499999999993]\n",
      "Accuracy: 0.7807, precision: 0.1881, recall: 0.3534, f1: 0.2455, auc: 0.5911\n",
      "Fold 3:\n",
      "Early stopping triggered at epoch 12, best val loss: 0.4536ss: 0.574 Scheduler lr: [0.00022290499999999994]\n",
      "Accuracy: 0.7883, precision: 0.2074, recall: 0.3879, f1: 0.2703, auc: 0.6106\n",
      "Fold 4:\n",
      "Early stopping triggered at epoch 49, best val loss: 0.4250ss: 0.586 Scheduler lr: [4.920000000000003e-05]]\n",
      "Accuracy: 0.7692, precision: 0.2055, recall: 0.4483, f1: 0.2818, auc: 0.6268\n",
      "Fold 5:\n",
      "Early stopping triggered at epoch 30, best val loss: 0.4588ss: 0.740 Scheduler lr: [0.00042870499999999993]\n",
      "Accuracy: 0.7160, precision: 0.1818, recall: 0.5172, f1: 0.2691, auc: 0.6278\n"
     ]
    },
    {
     "name": "stderr",
     "output_type": "stream",
     "text": [
      "[I 2025-04-15 17:07:02,932] Trial 79 finished with value: 0.2768874752088605 and parameters: {'n_neighbours': 6, 'normalisation_method': 'MinMaxScaler', 'contamination': 0.38690464079776066, 'hidden_dim': 80, 'output_dim': 31, 'dropout': 0.0, 'threshold': 0.6333380689027063, 'initial_lr': 0.00018279846507877393, 'max_lr': 0.005, 'weight_decay': 0.005181564031288415, 'criterion': 'FocalLoss', 'alpha': 1.4386791743267242, 'gamma': 0.8635897329604113}. Best is trial 33 with value: 0.30643680712047383.\n"
     ]
    },
    {
     "name": "stdout",
     "output_type": "stream",
     "text": [
      "Using device: cuda\n",
      "Fold: 1, Train: (5072, 28), Test: (1149, 28)\n",
      "Fold: 2, Train: (5292, 28), Test: (1149, 28)\n",
      "Fold: 3, Train: (5292, 28), Test: (1148, 28)\n",
      "Fold: 4, Train: (5294, 28), Test: (1148, 28)\n",
      "Fold: 5, Train: (5308, 28), Test: (1148, 28)\n",
      "Fold 1:\n",
      "Early stopping triggered at epoch 31, best val loss: 0.2826ss: 0.408 Scheduler lr: [0.00040935]99999999993]\n",
      "Accuracy: 0.8538, precision: 0.2679, recall: 0.2586, f1: 0.2632, auc: 0.5896\n",
      "Fold 2:\n",
      "Early stopping triggered at epoch 28, best val loss: 0.3696ss: 0.527 Scheduler lr: [0.0004475699999999999]]\n",
      "Accuracy: 0.8033, precision: 0.2011, recall: 0.3190, f1: 0.2467, auc: 0.5883\n",
      "Fold 3:\n",
      "Early stopping triggered at epoch 13, best val loss: 0.3249ss: 0.422 Scheduler lr: [0.00025108]00000000004]\n",
      "Accuracy: 0.8476, precision: 0.2562, recall: 0.2672, f1: 0.2616, auc: 0.5900\n",
      "Fold 4:\n",
      "Early stopping triggered at epoch 32, best val loss: 0.3434ss: 0.543 Scheduler lr: [0.0003672100000000001]]\n",
      "Accuracy: 0.8267, precision: 0.2454, recall: 0.3448, f1: 0.2867, auc: 0.6128\n",
      "Fold 5:\n",
      "Epoch: 34    training loss:0.187 best_val_loss:0.324 Val Loss: 0.422 Scheduler lr: [0.00030693999999999996]\r"
     ]
    },
    {
     "name": "stderr",
     "output_type": "stream",
     "text": [
      "[I 2025-04-15 17:07:36,455] Trial 80 finished with value: 0.27213745931775535 and parameters: {'n_neighbours': 3, 'normalisation_method': 'MinMaxScaler', 'contamination': 0.3761629836293051, 'hidden_dim': 77, 'output_dim': 66, 'dropout': 0.0, 'threshold': 0.7333930413912969, 'initial_lr': 0.000299349678385622, 'max_lr': 0.005, 'weight_decay': 0.0027284056380896668, 'criterion': 'FocalLoss', 'alpha': 1.0553104227261367, 'gamma': 0.799599052272274}. Best is trial 33 with value: 0.30643680712047383.\n"
     ]
    },
    {
     "name": "stdout",
     "output_type": "stream",
     "text": [
      "Early stopping triggered at epoch 35, best val loss: 0.3242\n",
      "Accuracy: 0.8554, precision: 0.2951, recall: 0.3103, f1: 0.3025, auc: 0.6135\n",
      "Using device: cuda\n",
      "Fold: 1, Train: (5008, 28), Test: (1149, 28)\n",
      "Fold: 2, Train: (4996, 28), Test: (1149, 28)\n",
      "Fold: 3, Train: (4973, 28), Test: (1148, 28)\n",
      "Fold: 4, Train: (4980, 28), Test: (1148, 28)\n",
      "Fold: 5, Train: (4968, 28), Test: (1148, 28)\n",
      "Fold 1:\n",
      "Early stopping triggered at epoch 28, best val loss: 0.3130ss: 0.403 Scheduler lr: [0.00047403000000000007]\n",
      "Accuracy: 0.7929, precision: 0.2371, recall: 0.4741, f1: 0.3161, auc: 0.6514\n",
      "Fold 2:\n",
      "Early stopping triggered at epoch 45, best val loss: 0.2850ss: 0.423 Scheduler lr: [0.0001491599999999999]]\n",
      "Accuracy: 0.8146, precision: 0.2378, recall: 0.3793, f1: 0.2924, auc: 0.6214\n",
      "Fold 3:\n",
      "Early stopping triggered at epoch 48, best val loss: 0.2929ss: 0.422 Scheduler lr: [0.00010334500000000005]\n",
      "Accuracy: 0.8362, precision: 0.2313, recall: 0.2672, f1: 0.2480, auc: 0.5837\n",
      "Fold 4:\n",
      "Early stopping triggered at epoch 14, best val loss: 0.3181ss: 0.370 Scheduler lr: [0.00025524499999999986]\n",
      "Accuracy: 0.8162, precision: 0.2286, recall: 0.3448, f1: 0.2749, auc: 0.6070\n",
      "Fold 5:\n",
      "Early stopping triggered at epoch 42, best val loss: 0.2794ss: 0.456 Scheduler lr: [0.00021653499999999999]\n"
     ]
    },
    {
     "name": "stderr",
     "output_type": "stream",
     "text": [
      "[I 2025-04-15 17:08:16,236] Trial 81 finished with value: 0.27782852502691124 and parameters: {'n_neighbours': 8, 'normalisation_method': 'MinMaxScaler', 'contamination': 0.3934916680320201, 'hidden_dim': 66, 'output_dim': 59, 'dropout': 0.0, 'threshold': 0.6800902368917792, 'initial_lr': 0.0003367534896344115, 'max_lr': 0.005, 'weight_decay': 0.004014157646609293, 'criterion': 'FocalLoss', 'alpha': 1.0230480777882316, 'gamma': 0.9139955960389633}. Best is trial 33 with value: 0.30643680712047383.\n"
     ]
    },
    {
     "name": "stdout",
     "output_type": "stream",
     "text": [
      "Accuracy: 0.8545, precision: 0.2661, recall: 0.2500, f1: 0.2578, auc: 0.5862\n",
      "Using device: cuda\n",
      "Fold: 1, Train: (5120, 28), Test: (1149, 28)\n",
      "Fold: 2, Train: (5114, 28), Test: (1149, 28)\n",
      "Fold: 3, Train: (5103, 28), Test: (1148, 28)\n",
      "Fold: 4, Train: (5113, 28), Test: (1148, 28)\n",
      "Fold: 5, Train: (5123, 28), Test: (1148, 28)\n",
      "Fold 1:\n",
      "Early stopping triggered at epoch 53, best val loss: 0.3766ss: 0.501 Scheduler lr: [4.920000000000003e-05]]\n",
      "Accuracy: 0.8138, precision: 0.2421, recall: 0.3966, f1: 0.3007, auc: 0.6286\n",
      "Fold 2:\n",
      "Early stopping triggered at epoch 40, best val loss: 0.3494ss: 0.495 Scheduler lr: [0.0002351550000000001]]\n",
      "Accuracy: 0.7702, precision: 0.2063, recall: 0.4483, f1: 0.2826, auc: 0.6273\n",
      "Fold 3:\n",
      "Early stopping triggered at epoch 36, best val loss: 0.3245ss: 0.522 Scheduler lr: [0.0003125749999999999]]\n",
      "Accuracy: 0.8249, precision: 0.2258, recall: 0.3017, f1: 0.2583, auc: 0.5927\n",
      "Fold 4:\n",
      "Early stopping triggered at epoch 44, best val loss: 0.3143ss: 0.399 Scheduler lr: [0.00015773499999999994]\n",
      "Accuracy: 0.7761, precision: 0.2278, recall: 0.5086, f1: 0.3147, auc: 0.6574\n",
      "Fold 5:\n",
      "Epoch: 37    training loss:0.209 best_val_loss:0.320 Val Loss: 0.398 Scheduler lr: [0.00026480000000000004]\r"
     ]
    },
    {
     "name": "stderr",
     "output_type": "stream",
     "text": [
      "[I 2025-04-15 17:09:05,055] Trial 82 finished with value: 0.29303492590936137 and parameters: {'n_neighbours': 6, 'normalisation_method': 'MinMaxScaler', 'contamination': 0.38704295708383446, 'hidden_dim': 72, 'output_dim': 48, 'dropout': 0.0, 'threshold': 0.6529747220131136, 'initial_lr': 0.0002003373035658985, 'max_lr': 0.005, 'weight_decay': 0.004830526015583898, 'criterion': 'FocalLoss', 'alpha': 1.1142117288557776, 'gamma': 0.7698201927065937}. Best is trial 33 with value: 0.30643680712047383.\n"
     ]
    },
    {
     "name": "stdout",
     "output_type": "stream",
     "text": [
      "Early stopping triggered at epoch 38, best val loss: 0.3201\n",
      "Accuracy: 0.7779, precision: 0.2253, recall: 0.4914, f1: 0.3089, auc: 0.6507\n",
      "Using device: cuda\n",
      "Fold: 1, Train: (5360, 28), Test: (1149, 28)\n",
      "Fold: 2, Train: (5342, 28), Test: (1149, 28)\n",
      "Fold: 3, Train: (5354, 28), Test: (1148, 28)\n",
      "Fold: 4, Train: (5216, 28), Test: (1148, 28)\n",
      "Fold: 5, Train: (5367, 28), Test: (1148, 28)\n",
      "Fold 1:\n",
      "Early stopping triggered at epoch 32, best val loss: 0.2987ss: 0.363 Scheduler lr: [0.0003596149999999999]]\n",
      "Accuracy: 0.8094, precision: 0.2463, recall: 0.4310, f1: 0.3135, auc: 0.6415\n",
      "Fold 2:\n",
      "Early stopping triggered at epoch 24, best val loss: 0.3166ss: 0.545 Scheduler lr: [0.000477705]0000000013]\n",
      "Accuracy: 0.8190, precision: 0.2294, recall: 0.3362, f1: 0.2727, auc: 0.6047\n",
      "Fold 3:\n",
      "Early stopping triggered at epoch 13, best val loss: 0.2359ss: 0.337 Scheduler lr: [0.0002540200000000001]]\n",
      "Accuracy: 0.8066, precision: 0.2323, recall: 0.3966, f1: 0.2930, auc: 0.6246\n",
      "Fold 4:\n",
      "Early stopping triggered at epoch 44, best val loss: 0.2328ss: 0.441 Scheduler lr: [0.00013666499999999987]\n",
      "Accuracy: 0.8293, precision: 0.2647, recall: 0.3879, f1: 0.3147, auc: 0.6334\n",
      "Fold 5:\n",
      "Epoch: 42    training loss:0.175 best_val_loss:0.281 Val Loss: 0.343 Scheduler lr: [0.00013592999999999985]\r"
     ]
    },
    {
     "name": "stderr",
     "output_type": "stream",
     "text": [
      "[I 2025-04-15 17:09:43,058] Trial 83 finished with value: 0.3013969766687667 and parameters: {'n_neighbours': 5, 'normalisation_method': 'MinMaxScaler', 'contamination': 0.3639021417186624, 'hidden_dim': 68, 'output_dim': 54, 'dropout': 0.0, 'threshold': 0.6682035432952167, 'initial_lr': 0.00025849687432706326, 'max_lr': 0.005, 'weight_decay': 0.007748105958525274, 'criterion': 'FocalLoss', 'alpha': 0.9362558119254337, 'gamma': 0.8360367278279297}. Best is trial 33 with value: 0.30643680712047383.\n"
     ]
    },
    {
     "name": "stdout",
     "output_type": "stream",
     "text": [
      "Early stopping triggered at epoch 43, best val loss: 0.2810\n",
      "Accuracy: 0.8127, precision: 0.2487, recall: 0.4224, f1: 0.3131, auc: 0.6395\n",
      "Using device: cuda\n",
      "Fold: 1, Train: (6290, 28), Test: (1149, 28)\n",
      "Fold: 2, Train: (6442, 28), Test: (1149, 28)\n",
      "Fold: 3, Train: (6288, 28), Test: (1148, 28)\n",
      "Fold: 4, Train: (6300, 28), Test: (1148, 28)\n",
      "Fold: 5, Train: (6314, 28), Test: (1148, 28)\n",
      "Fold 1:\n",
      "Early stopping triggered at epoch 41, best val loss: 0.2570ss: 0.384 Scheduler lr: [2.9600000000000015e-05]\n",
      "Accuracy: 0.8364, precision: 0.2534, recall: 0.3190, f1: 0.2824, auc: 0.6067\n",
      "Fold 2:\n",
      "Early stopping triggered at epoch 33, best val loss: 0.2516ss: 0.339 Scheduler lr: [0.00020599999999999994]\n",
      "Accuracy: 0.8242, precision: 0.1929, recall: 0.2328, f1: 0.2109, auc: 0.5617\n",
      "Fold 3:\n",
      "Early stopping triggered at epoch 43, best val loss: 0.2884ss: 0.350 Scheduler lr: [3.841999999999991e-05]]\n",
      "Accuracy: 0.8537, precision: 0.2759, recall: 0.2759, f1: 0.2759, auc: 0.5972\n",
      "Fold 4:\n",
      "Early stopping triggered at epoch 33, best val loss: 0.2807ss: 0.372 Scheduler lr: [0.00022167999999999995]\n",
      "Accuracy: 0.8641, precision: 0.2826, recall: 0.2241, f1: 0.2500, auc: 0.5801\n",
      "Fold 5:\n",
      "Epoch: 12    training loss:0.288 best_val_loss:0.289 Val Loss: 0.391 Scheduler lr: [0.0002981200000000001]]\r"
     ]
    },
    {
     "name": "stderr",
     "output_type": "stream",
     "text": [
      "[I 2025-04-15 17:10:29,442] Trial 84 finished with value: 0.26769822866964 and parameters: {'n_neighbours': 5, 'normalisation_method': 'MinMaxScaler', 'contamination': 0.2322494084470197, 'hidden_dim': 75, 'output_dim': 56, 'dropout': 0.0, 'threshold': 0.7177454394937414, 'initial_lr': 0.00025719657507413497, 'max_lr': 0.005, 'weight_decay': 0.008000715216387635, 'criterion': 'FocalLoss', 'alpha': 0.9394884660480857, 'gamma': 0.6519738179809469}. Best is trial 33 with value: 0.30643680712047383.\n"
     ]
    },
    {
     "name": "stdout",
     "output_type": "stream",
     "text": [
      "Early stopping triggered at epoch 13, best val loss: 0.2893\n",
      "Accuracy: 0.8737, precision: 0.3505, recall: 0.2931, f1: 0.3192, auc: 0.6160\n",
      "Using device: cuda\n",
      "Fold: 1, Train: (5385, 28), Test: (1149, 28)\n",
      "Fold: 2, Train: (5392, 28), Test: (1149, 28)\n",
      "Fold: 3, Train: (5380, 28), Test: (1148, 28)\n",
      "Fold: 4, Train: (5418, 28), Test: (1148, 28)\n",
      "Fold: 5, Train: (5397, 28), Test: (1148, 28)\n",
      "Fold 1:\n",
      "Early stopping triggered at epoch 50, best val loss: 0.2816ss: 0.387 Scheduler lr: [3.841999999999991e-05]]\n",
      "Accuracy: 0.8016, precision: 0.2282, recall: 0.4052, f1: 0.2919, auc: 0.6256\n",
      "Fold 2:\n",
      "Early stopping triggered at epoch 14, best val loss: 0.3145ss: 0.352 Scheduler lr: [0.00027754000000000017]\n",
      "Accuracy: 0.7920, precision: 0.2166, recall: 0.4052, f1: 0.2823, auc: 0.6203\n",
      "Fold 3:\n",
      "Early stopping triggered at epoch 14, best val loss: 0.1903ss: 0.335 Scheduler lr: [0.00027754000000000017]\n",
      "Accuracy: 0.8345, precision: 0.2357, recall: 0.2845, f1: 0.2578, auc: 0.5904\n",
      "Fold 4:\n",
      "Early stopping triggered at epoch 43, best val loss: 0.2849ss: 0.387 Scheduler lr: [0.0001256399999999999]]\n",
      "Accuracy: 0.7944, precision: 0.2248, recall: 0.4224, f1: 0.2934, auc: 0.6293\n",
      "Fold 5:\n",
      "Epoch: 44    training loss:0.150 best_val_loss:0.275 Val Loss: 0.314 Scheduler lr: [8.448000000000006e-05]]\r"
     ]
    },
    {
     "name": "stderr",
     "output_type": "stream",
     "text": [
      "[I 2025-04-15 17:11:09,964] Trial 85 finished with value: 0.2826030242239783 and parameters: {'n_neighbours': 6, 'normalisation_method': 'MinMaxScaler', 'contamination': 0.36050471224706787, 'hidden_dim': 70, 'output_dim': 42, 'dropout': 0.0, 'threshold': 0.6443267167386402, 'initial_lr': 0.0002847500040748915, 'max_lr': 0.005, 'weight_decay': 0.003454572108087937, 'criterion': 'FocalLoss', 'alpha': 0.9789602458971789, 'gamma': 0.9849085265099218}. Best is trial 33 with value: 0.30643680712047383.\n"
     ]
    },
    {
     "name": "stdout",
     "output_type": "stream",
     "text": [
      "Early stopping triggered at epoch 45, best val loss: 0.2750\n",
      "Accuracy: 0.8101, precision: 0.2316, recall: 0.3793, f1: 0.2876, auc: 0.6189\n",
      "Using device: cuda\n",
      "Fold: 1, Train: (5203, 28), Test: (1149, 28)\n",
      "Fold: 2, Train: (5211, 28), Test: (1149, 28)\n",
      "Fold: 3, Train: (5197, 28), Test: (1148, 28)\n",
      "Fold: 4, Train: (5203, 28), Test: (1148, 28)\n",
      "Fold: 5, Train: (5216, 28), Test: (1148, 28)\n",
      "Fold 1:\n",
      "Early stopping triggered at epoch 14, best val loss: 0.2926ss: 0.354 Scheduler lr: [0.000267985]999999999]]\n",
      "Accuracy: 0.8077, precision: 0.2464, recall: 0.4397, f1: 0.3158, auc: 0.6443\n",
      "Fold 2:\n",
      "Early stopping triggered at epoch 12, best val loss: 0.2749ss: 0.418 Scheduler lr: [0.000228295]000000001]]\n",
      "Accuracy: 0.7990, precision: 0.2300, recall: 0.4224, f1: 0.2979, auc: 0.6318\n",
      "Fold 3:\n",
      "Early stopping triggered at epoch 36, best val loss: 0.2688ss: 0.354 Scheduler lr: [0.00029542500000000004]\n",
      "Accuracy: 0.7909, precision: 0.2232, recall: 0.4310, f1: 0.2941, auc: 0.6312\n",
      "Fold 4:\n",
      "Early stopping triggered at epoch 36, best val loss: 0.2737ss: 0.368 Scheduler lr: [0.00029542500000000004]\n",
      "Accuracy: 0.7221, precision: 0.1988, recall: 0.5776, f1: 0.2958, auc: 0.6580\n",
      "Fold 5:\n",
      "Early stopping triggered at epoch 41, best val loss: 0.2531ss: 0.341 Scheduler lr: [0.00019619999999999994]\n"
     ]
    },
    {
     "name": "stderr",
     "output_type": "stream",
     "text": [
      "[I 2025-04-15 17:11:43,004] Trial 86 finished with value: 0.2975890780512749 and parameters: {'n_neighbours': 4, 'normalisation_method': 'MinMaxScaler', 'contamination': 0.37926953741729147, 'hidden_dim': 67, 'output_dim': 62, 'dropout': 0.0, 'threshold': 0.624753173209435, 'initial_lr': 0.00023552162764536129, 'max_lr': 0.005, 'weight_decay': 0.00647439465057417, 'criterion': 'FocalLoss', 'alpha': 0.9191472541724488, 'gamma': 0.8315735466635397}. Best is trial 33 with value: 0.30643680712047383.\n"
     ]
    },
    {
     "name": "stdout",
     "output_type": "stream",
     "text": [
      "Accuracy: 0.7369, precision: 0.1961, recall: 0.5172, f1: 0.2844, auc: 0.6394\n",
      "Using device: cuda\n",
      "Fold: 1, Train: (5286, 28), Test: (1149, 28)\n",
      "Fold: 2, Train: (5156, 28), Test: (1149, 28)\n",
      "Fold: 3, Train: (5287, 28), Test: (1148, 28)\n",
      "Fold: 4, Train: (5282, 28), Test: (1148, 28)\n",
      "Fold: 5, Train: (5273, 28), Test: (1148, 28)\n",
      "Fold 1:\n",
      "Early stopping triggered at epoch 45, best val loss: 0.1762ss: 0.205 Scheduler lr: [0.00010603999999999986]\n",
      "Accuracy: 0.7302, precision: 0.2061, recall: 0.5862, f1: 0.3049, auc: 0.6663\n",
      "Fold 2:\n",
      "Early stopping triggered at epoch 29, best val loss: 0.1987ss: 0.238 Scheduler lr: [0.00044119999999999994]\n",
      "Accuracy: 0.8111, precision: 0.2147, recall: 0.3276, f1: 0.2594, auc: 0.5965\n",
      "Fold 3:\n",
      "Early stopping triggered at epoch 12, best val loss: 0.1846ss: 0.241 Scheduler lr: [0.00023099000000000004]\n",
      "Accuracy: 0.8110, precision: 0.2299, recall: 0.3707, f1: 0.2838, auc: 0.6156\n",
      "Fold 4:\n",
      "Early stopping triggered at epoch 33, best val loss: 0.1599ss: 0.173 Scheduler lr: [0.00034711999999999986]\n",
      "Accuracy: 0.7726, precision: 0.2285, recall: 0.5259, f1: 0.3185, auc: 0.6631\n",
      "Fold 5:\n",
      "Epoch: 35    training loss:0.115 best_val_loss:0.159 Val Loss: 0.231 Scheduler lr: [0.00028685]99999999996]\r"
     ]
    },
    {
     "name": "stderr",
     "output_type": "stream",
     "text": [
      "[I 2025-04-15 17:12:18,950] Trial 87 finished with value: 0.30098398738375665 and parameters: {'n_neighbours': 6, 'normalisation_method': 'MinMaxScaler', 'contamination': 0.3806602470904685, 'hidden_dim': 67, 'output_dim': 61, 'dropout': 0.0, 'threshold': 0.6213559824578133, 'initial_lr': 0.00021351456362413355, 'max_lr': 0.005, 'weight_decay': 0.00902453316175274, 'criterion': 'FocalLoss', 'alpha': 0.9212029784255785, 'gamma': 1.4687111041222676}. Best is trial 33 with value: 0.30643680712047383.\n"
     ]
    },
    {
     "name": "stdout",
     "output_type": "stream",
     "text": [
      "Early stopping triggered at epoch 36, best val loss: 0.1593\n",
      "Accuracy: 0.8432, precision: 0.2949, recall: 0.3966, f1: 0.3382, auc: 0.6450\n",
      "Using device: cuda\n",
      "Fold: 1, Train: (5018, 28), Test: (1149, 28)\n",
      "Fold: 2, Train: (5015, 28), Test: (1149, 28)\n",
      "Fold: 3, Train: (5002, 28), Test: (1148, 28)\n",
      "Fold: 4, Train: (5020, 28), Test: (1148, 28)\n",
      "Fold: 5, Train: (5002, 28), Test: (1148, 28)\n",
      "Fold 1:\n",
      "Early stopping triggered at epoch 40, best val loss: 0.1517ss: 0.211 Scheduler lr: [0.00024471000000000003]\n",
      "Accuracy: 0.8172, precision: 0.2526, recall: 0.4138, f1: 0.3137, auc: 0.6382\n",
      "Fold 2:\n",
      "Early stopping triggered at epoch 50, best val loss: 0.1897ss: 0.248 Scheduler lr: [5.360999999999998e-05]]\n",
      "Accuracy: 0.7903, precision: 0.2197, recall: 0.4224, f1: 0.2891, auc: 0.6270\n",
      "Fold 3:\n",
      "Early stopping triggered at epoch 14, best val loss: 0.1279ss: 0.246 Scheduler lr: [0.0002584300000000001]]\n",
      "Accuracy: 0.8057, precision: 0.1977, recall: 0.3017, f1: 0.2389, auc: 0.5821\n",
      "Fold 4:\n",
      "Early stopping triggered at epoch 14, best val loss: 0.1366ss: 0.242 Scheduler lr: [0.0002584300000000001]]\n",
      "Accuracy: 0.7848, precision: 0.2327, recall: 0.4914, f1: 0.3158, auc: 0.6546\n",
      "Fold 5:\n",
      "Early stopping triggered at epoch 40, best val loss: 0.1594ss: 0.177 Scheduler lr: [0.00024471000000000003]\n",
      "Accuracy: 0.8223, precision: 0.2582, recall: 0.4052, f1: 0.3154, auc: 0.6372\n"
     ]
    },
    {
     "name": "stderr",
     "output_type": "stream",
     "text": [
      "[I 2025-04-15 17:12:53,951] Trial 88 finished with value: 0.29458892020861854 and parameters: {'n_neighbours': 7, 'normalisation_method': 'MinMaxScaler', 'contamination': 0.39581624728112996, 'hidden_dim': 64, 'output_dim': 54, 'dropout': 0.0, 'threshold': 0.5969157205529326, 'initial_lr': 0.0002128748572855518, 'max_lr': 0.005, 'weight_decay': 0.0097816585358131, 'criterion': 'FocalLoss', 'alpha': 0.8480994888045364, 'gamma': 1.4042475549738613}. Best is trial 33 with value: 0.30643680712047383.\n"
     ]
    },
    {
     "name": "stdout",
     "output_type": "stream",
     "text": [
      "Using device: cuda\n",
      "Fold: 1, Train: (5258, 28), Test: (1149, 28)\n",
      "Fold: 2, Train: (4985, 28), Test: (1149, 28)\n",
      "Fold: 3, Train: (5245, 28), Test: (1148, 28)\n",
      "Fold: 4, Train: (5121, 28), Test: (1148, 28)\n",
      "Fold: 5, Train: (5262, 28), Test: (1148, 28)\n",
      "Fold 1:\n",
      "Early stopping triggered at epoch 14, best val loss: 0.1620ss: 0.225 Scheduler lr: [0.00027117]00000000004]\n",
      "Accuracy: 0.8259, precision: 0.2558, recall: 0.3793, f1: 0.3056, auc: 0.6277\n",
      "Fold 2:\n",
      "Early stopping triggered at epoch 13, best val loss: 0.1936ss: 0.206 Scheduler lr: [0.0002363800000000001]]\n",
      "Accuracy: 0.8285, precision: 0.2207, recall: 0.2759, f1: 0.2452, auc: 0.5832\n",
      "Fold 3:\n",
      "Early stopping triggered at epoch 30, best val loss: 0.1738ss: 0.222 Scheduler lr: [0.00041449499999999997]\n",
      "Accuracy: 0.8502, precision: 0.2407, recall: 0.2241, f1: 0.2321, auc: 0.5723\n",
      "Fold 4:\n",
      "Early stopping triggered at epoch 42, best val loss: 0.1807ss: 0.218 Scheduler lr: [0.00018640000000000014]\n",
      "Accuracy: 0.8275, precision: 0.2469, recall: 0.3448, f1: 0.2878, auc: 0.6133\n",
      "Fold 5:\n",
      "Epoch: 12    training loss:0.157 best_val_loss:0.155 Val Loss: 0.239 Scheduler lr: [0.00025108]00000000004]\r"
     ]
    },
    {
     "name": "stderr",
     "output_type": "stream",
     "text": [
      "[I 2025-04-15 17:13:20,663] Trial 89 finished with value: 0.2740548133081656 and parameters: {'n_neighbours': 6, 'normalisation_method': 'MinMaxScaler', 'contamination': 0.38573419741715304, 'hidden_dim': 68, 'output_dim': 66, 'dropout': 0.0, 'threshold': 0.6721148895619737, 'initial_lr': 0.0001943699618058354, 'max_lr': 0.005, 'weight_decay': 0.00023654760175666724, 'criterion': 'FocalLoss', 'alpha': 0.8278992898882077, 'gamma': 1.3327955164378245}. Best is trial 33 with value: 0.30643680712047383.\n"
     ]
    },
    {
     "name": "stdout",
     "output_type": "stream",
     "text": [
      "Early stopping triggered at epoch 13, best val loss: 0.1553\n",
      "Accuracy: 0.8493, precision: 0.2824, recall: 0.3190, f1: 0.2996, auc: 0.6139\n",
      "Using device: cuda\n",
      "Fold: 1, Train: (5140, 28), Test: (1149, 28)\n",
      "Fold: 2, Train: (5145, 28), Test: (1149, 28)\n",
      "Fold: 3, Train: (5118, 28), Test: (1148, 28)\n",
      "Fold: 4, Train: (5126, 28), Test: (1148, 28)\n",
      "Fold: 5, Train: (5104, 28), Test: (1148, 28)\n",
      "Fold 1:\n",
      "Early stopping triggered at epoch 13, best val loss: 0.2187ss: 0.255 Scheduler lr: [0.0002452]999999999995]\n",
      "Accuracy: 0.7389, precision: 0.1993, recall: 0.5259, f1: 0.2891, auc: 0.6443\n",
      "Fold 2:\n",
      "Early stopping triggered at epoch 26, best val loss: 0.2187ss: 0.352 Scheduler lr: [0.0005]039999999999997]\n",
      "Accuracy: 0.6867, precision: 0.1703, recall: 0.5431, f1: 0.2593, auc: 0.6230\n",
      "Fold 3:\n",
      "Early stopping triggered at epoch 50, best val loss: 0.1650ss: 0.223 Scheduler lr: [4.160499999999989e-05]]\n",
      "Accuracy: 0.7831, precision: 0.2121, recall: 0.4224, f1: 0.2824, auc: 0.6230\n",
      "Fold 4:\n",
      "Early stopping triggered at epoch 32, best val loss: 0.1961ss: 0.282 Scheduler lr: [0.0003823999999999999]]\n",
      "Accuracy: 0.7953, precision: 0.2258, recall: 0.4224, f1: 0.2943, auc: 0.6298\n",
      "Fold 5:\n",
      "Early stopping triggered at epoch 47, best val loss: 0.1650ss: 0.247 Scheduler lr: [9.966999999999992e-05]]\n"
     ]
    },
    {
     "name": "stderr",
     "output_type": "stream",
     "text": [
      "[I 2025-04-15 17:13:58,142] Trial 90 finished with value: 0.28051715812438627 and parameters: {'n_neighbours': 5, 'normalisation_method': 'MinMaxScaler', 'contamination': 0.37566364501993854, 'hidden_dim': 94, 'output_dim': 84, 'dropout': 0.0, 'threshold': 0.608417940197205, 'initial_lr': 0.00026411555342053557, 'max_lr': 0.005, 'weight_decay': 0.007194875081388567, 'criterion': 'FocalLoss', 'alpha': 1.0138216894742078, 'gamma': 1.4739029627320253}. Best is trial 33 with value: 0.30643680712047383.\n"
     ]
    },
    {
     "name": "stdout",
     "output_type": "stream",
     "text": [
      "Accuracy: 0.7369, precision: 0.1921, recall: 0.5000, f1: 0.2775, auc: 0.6318\n",
      "Using device: cuda\n",
      "Fold: 1, Train: (5022, 28), Test: (1149, 28)\n",
      "Fold: 2, Train: (4999, 28), Test: (1149, 28)\n",
      "Fold: 3, Train: (5017, 28), Test: (1148, 28)\n",
      "Fold: 4, Train: (5018, 28), Test: (1148, 28)\n",
      "Fold: 5, Train: (5008, 28), Test: (1148, 28)\n",
      "Fold 1:\n",
      "Early stopping triggered at epoch 38, best val loss: 0.2040ss: 0.515 Scheduler lr: [0.00028293]00000000006]\n",
      "Accuracy: 0.8651, precision: 0.3143, recall: 0.2845, f1: 0.2986, auc: 0.6074\n",
      "Fold 2:\n",
      "Early stopping triggered at epoch 43, best val loss: 0.2051ss: 0.506 Scheduler lr: [0.00018738000000000004]\n",
      "Accuracy: 0.8425, precision: 0.2269, recall: 0.2328, f1: 0.2298, auc: 0.5718\n",
      "Fold 3:\n",
      "Early stopping triggered at epoch 14, best val loss: 0.1388ss: 0.240 Scheduler lr: [0.0002584300000000001]]\n",
      "Accuracy: 0.8423, precision: 0.2519, recall: 0.2845, f1: 0.2672, auc: 0.5948\n",
      "Fold 4:\n",
      "Early stopping triggered at epoch 13, best val loss: 0.2300ss: 0.298 Scheduler lr: [0.00023931999999999998]\n",
      "Accuracy: 0.8589, precision: 0.3083, recall: 0.3190, f1: 0.3136, auc: 0.6193\n",
      "Fold 5:\n",
      "Early stopping triggered at epoch 43, best val loss: 0.1894ss: 0.406 Scheduler lr: [0.00018738000000000004]\n",
      "Accuracy: 0.8476, precision: 0.2937, recall: 0.3621, f1: 0.3243, auc: 0.6321\n"
     ]
    },
    {
     "name": "stderr",
     "output_type": "stream",
     "text": [
      "[I 2025-04-15 17:14:31,912] Trial 91 finished with value: 0.2867039784140442 and parameters: {'n_neighbours': 7, 'normalisation_method': 'MinMaxScaler', 'contamination': 0.39638176226473637, 'hidden_dim': 101, 'output_dim': 89, 'dropout': 0.0, 'threshold': 0.7008712531174902, 'initial_lr': 0.00016736443459112245, 'max_lr': 0.005, 'weight_decay': 0.008130380627242284, 'criterion': 'FocalLoss', 'alpha': 0.8857449553677748, 'gamma': 1.200610494458287}. Best is trial 33 with value: 0.30643680712047383.\n"
     ]
    },
    {
     "name": "stdout",
     "output_type": "stream",
     "text": [
      "Using device: cuda\n",
      "Fold: 1, Train: (5007, 28), Test: (1149, 28)\n",
      "Fold: 2, Train: (5207, 28), Test: (1149, 28)\n",
      "Fold: 3, Train: (5181, 28), Test: (1148, 28)\n",
      "Fold: 4, Train: (4997, 28), Test: (1148, 28)\n",
      "Fold: 5, Train: (5200, 28), Test: (1148, 28)\n",
      "Fold 1:\n",
      "Early stopping triggered at epoch 38, best val loss: 0.2884ss: 0.402 Scheduler lr: [0.00028293]00000000006]\n",
      "Accuracy: 0.7511, precision: 0.2128, recall: 0.5431, f1: 0.3058, auc: 0.6588\n",
      "Fold 2:\n",
      "Early stopping triggered at epoch 33, best val loss: 0.3468ss: 0.420 Scheduler lr: [0.00035495999999999987]\n",
      "Accuracy: 0.8024, precision: 0.2319, recall: 0.4138, f1: 0.2972, auc: 0.6299\n",
      "Fold 3:\n",
      "Early stopping triggered at epoch 45, best val loss: 0.3121ss: 0.416 Scheduler lr: [0.00012760000000000012]\n",
      "Accuracy: 0.7535, precision: 0.1849, recall: 0.4224, f1: 0.2572, auc: 0.6066\n",
      "Fold 4:\n",
      "Early stopping triggered at epoch 38, best val loss: 0.2665ss: 0.348 Scheduler lr: [0.00028293]00000000006]\n",
      "Accuracy: 0.8423, precision: 0.2759, recall: 0.3448, f1: 0.3065, auc: 0.6215\n",
      "Fold 5:\n",
      "Epoch: 32    training loss:0.195 best_val_loss:0.272 Val Loss: 0.382 Scheduler lr: [0.00035495999999999987]\r"
     ]
    },
    {
     "name": "stderr",
     "output_type": "stream",
     "text": [
      "[I 2025-04-15 17:15:13,781] Trial 92 finished with value: 0.2953695284240056 and parameters: {'n_neighbours': 4, 'normalisation_method': 'MinMaxScaler', 'contamination': 0.38068130540497863, 'hidden_dim': 66, 'output_dim': 62, 'dropout': 0.0, 'threshold': 0.6224310330473597, 'initial_lr': 0.00022603456965784985, 'max_lr': 0.005, 'weight_decay': 0.0060119208126957506, 'criterion': 'FocalLoss', 'alpha': 0.9245007802939661, 'gamma': 0.7322045047411945}. Best is trial 33 with value: 0.30643680712047383.\n"
     ]
    },
    {
     "name": "stdout",
     "output_type": "stream",
     "text": [
      "Early stopping triggered at epoch 33, best val loss: 0.2719\n",
      "Accuracy: 0.7674, precision: 0.2214, recall: 0.5172, f1: 0.3101, auc: 0.6564\n",
      "Using device: cuda\n",
      "Fold: 1, Train: (4927, 28), Test: (1149, 28)\n",
      "Fold: 2, Train: (5088, 28), Test: (1149, 28)\n",
      "Fold: 3, Train: (5069, 28), Test: (1148, 28)\n",
      "Fold: 4, Train: (4938, 28), Test: (1148, 28)\n",
      "Fold: 5, Train: (5089, 28), Test: (1148, 28)\n",
      "Fold 1:\n",
      "Early stopping triggered at epoch 29, best val loss: 0.2465ss: 0.411 Scheduler lr: [0.00046864]0000000001]]\n",
      "Accuracy: 0.7546, precision: 0.2215, recall: 0.5690, f1: 0.3188, auc: 0.6722\n",
      "Fold 2:\n",
      "Early stopping triggered at epoch 28, best val loss: 0.3481ss: 0.455 Scheduler lr: [0.000467415]999999999]]\n",
      "Accuracy: 0.6197, precision: 0.1771, recall: 0.7586, f1: 0.2871, auc: 0.6813\n",
      "Fold 3:\n",
      "Early stopping triggered at epoch 12, best val loss: 0.2664ss: 0.321 Scheduler lr: [0.00022290499999999994]\n",
      "Accuracy: 0.7483, precision: 0.2145, recall: 0.5603, f1: 0.3103, auc: 0.6649\n",
      "Fold 4:\n",
      "Early stopping triggered at epoch 14, best val loss: 0.2789ss: 0.305 Scheduler lr: [0.00025524499999999986]\n",
      "Accuracy: 0.7256, precision: 0.2099, recall: 0.6207, f1: 0.3137, auc: 0.6790\n",
      "Fold 5:\n",
      "Epoch: 40    training loss:0.166 best_val_loss:0.253 Val Loss: 0.427 Scheduler lr: [0.00021579999999999996]\r"
     ]
    },
    {
     "name": "stderr",
     "output_type": "stream",
     "text": [
      "[I 2025-04-15 17:15:41,927] Trial 93 finished with value: 0.31120562348708986 and parameters: {'n_neighbours': 6, 'normalisation_method': 'MinMaxScaler', 'contamination': 0.3908182381776086, 'hidden_dim': 68, 'output_dim': 66, 'dropout': 0.0, 'threshold': 0.555927695059721, 'initial_lr': 0.0002473479892457255, 'max_lr': 0.005, 'weight_decay': 0.006571168608747022, 'criterion': 'FocalLoss', 'alpha': 0.908287944147098, 'gamma': 0.8361059696703981}. Best is trial 93 with value: 0.31120562348708986.\n"
     ]
    },
    {
     "name": "stdout",
     "output_type": "stream",
     "text": [
      "Early stopping triggered at epoch 41, best val loss: 0.2534\n",
      "Accuracy: 0.7840, precision: 0.2381, recall: 0.5172, f1: 0.3261, auc: 0.6656\n",
      "Using device: cuda\n",
      "Fold: 1, Train: (5108, 28), Test: (1149, 28)\n",
      "Fold: 2, Train: (5102, 28), Test: (1149, 28)\n",
      "Fold: 3, Train: (5088, 28), Test: (1148, 28)\n",
      "Fold: 4, Train: (5101, 28), Test: (1148, 28)\n",
      "Fold: 5, Train: (4945, 28), Test: (1148, 28)\n",
      "Fold 1:\n",
      "Early stopping triggered at epoch 30, best val loss: 0.4631ss: 0.571 Scheduler lr: [0.00042870499999999993]\n",
      "Accuracy: 0.7598, precision: 0.2333, recall: 0.6034, f1: 0.3365, auc: 0.6904\n",
      "Fold 2:\n",
      "Early stopping triggered at epoch 40, best val loss: 0.5316ss: 0.585 Scheduler lr: [0.0002351550000000001]]\n",
      "Accuracy: 0.7050, precision: 0.1841, recall: 0.5603, f1: 0.2772, auc: 0.6408\n",
      "Fold 3:\n",
      "Early stopping triggered at epoch 43, best val loss: 0.4748ss: 0.615 Scheduler lr: [0.00017709000000000008]\n",
      "Accuracy: 0.6838, precision: 0.1809, recall: 0.6034, f1: 0.2783, auc: 0.6481\n",
      "Fold 4:\n",
      "Early stopping triggered at epoch 33, best val loss: 0.4381ss: 0.532 Scheduler lr: [0.0003706399999999999]]\n",
      "Accuracy: 0.6777, precision: 0.1825, recall: 0.6293, f1: 0.2829, auc: 0.6562\n",
      "Fold 5:\n",
      "Early stopping triggered at epoch 35, best val loss: 0.4619ss: 0.725 Scheduler lr: [0.0003485899999999999]]\n"
     ]
    },
    {
     "name": "stderr",
     "output_type": "stream",
     "text": [
      "[I 2025-04-15 17:16:21,899] Trial 94 finished with value: 0.29485742596914993 and parameters: {'n_neighbours': 6, 'normalisation_method': 'MinMaxScaler', 'contamination': 0.3896337806699854, 'hidden_dim': 72, 'output_dim': 69, 'dropout': 0.0, 'threshold': 0.5760688018369056, 'initial_lr': 0.0006019021248231622, 'max_lr': 0.005, 'weight_decay': 0.005423157488342835, 'criterion': 'FocalLoss', 'alpha': 0.958387173552329, 'gamma': 0.12635446307421483}. Best is trial 93 with value: 0.31120562348708986.\n"
     ]
    },
    {
     "name": "stdout",
     "output_type": "stream",
     "text": [
      "Accuracy: 0.7430, precision: 0.2066, recall: 0.5431, f1: 0.2993, auc: 0.6543\n",
      "Using device: cuda\n",
      "Fold: 1, Train: (5150, 28), Test: (1149, 28)\n",
      "Fold: 2, Train: (5122, 28), Test: (1149, 28)\n",
      "Fold: 3, Train: (5247, 28), Test: (1148, 28)\n",
      "Fold: 4, Train: (5141, 28), Test: (1148, 28)\n",
      "Fold: 5, Train: (5276, 28), Test: (1148, 28)\n",
      "Fold 1:\n",
      "Early stopping triggered at epoch 35, best val loss: 0.2393ss: 0.340 Scheduler lr: [0.00032359999999999984]\n",
      "Accuracy: 0.7389, precision: 0.2013, recall: 0.5345, f1: 0.2925, auc: 0.6482\n",
      "Fold 2:\n",
      "Early stopping triggered at epoch 40, best val loss: 0.2267ss: 0.346 Scheduler lr: [0.00022559999999999995]\n",
      "Accuracy: 0.7668, precision: 0.2031, recall: 0.4483, f1: 0.2796, auc: 0.6254\n",
      "Fold 3:\n",
      "Early stopping triggered at epoch 40, best val loss: 0.2110ss: 0.346 Scheduler lr: [0.00021604500000000005]\n",
      "Accuracy: 0.8301, precision: 0.2418, recall: 0.3190, f1: 0.2751, auc: 0.6033\n",
      "Fold 4:\n",
      "Early stopping triggered at epoch 48, best val loss: 0.2509ss: 0.281 Scheduler lr: [6.880000000000006e-05]]\n",
      "Accuracy: 0.7535, precision: 0.2028, recall: 0.4914, f1: 0.2872, auc: 0.6372\n",
      "Fold 5:\n",
      "Epoch: 50    training loss:0.128 best_val_loss:0.244 Val Loss: 0.329 Scheduler lr: [3.449999999999991e-05]]\r"
     ]
    },
    {
     "name": "stderr",
     "output_type": "stream",
     "text": [
      "[I 2025-04-15 17:17:09,465] Trial 95 finished with value: 0.28143634709659465 and parameters: {'n_neighbours': 6, 'normalisation_method': 'MinMaxScaler', 'contamination': 0.38368595922516446, 'hidden_dim': 70, 'output_dim': 66, 'dropout': 0.0, 'threshold': 0.5572949329436033, 'initial_lr': 0.00017951780172527145, 'max_lr': 0.005, 'weight_decay': 0.00842583118737254, 'criterion': 'FocalLoss', 'alpha': 0.9002983211973893, 'gamma': 1.039409883424304}. Best is trial 93 with value: 0.31120562348708986.\n"
     ]
    },
    {
     "name": "stdout",
     "output_type": "stream",
     "text": [
      "Early stopping triggered at epoch 51, best val loss: 0.2438\n",
      "Accuracy: 0.6890, precision: 0.1787, recall: 0.5776, f1: 0.2729, auc: 0.6396\n",
      "Using device: cuda\n",
      "Fold: 1, Train: (5282, 28), Test: (1149, 28)\n",
      "Fold: 2, Train: (5258, 28), Test: (1149, 28)\n",
      "Fold: 3, Train: (5244, 28), Test: (1148, 28)\n",
      "Fold: 4, Train: (5250, 28), Test: (1148, 28)\n",
      "Fold: 5, Train: (5257, 28), Test: (1148, 28)\n",
      "Fold 1:\n",
      "Early stopping triggered at epoch 43, best val loss: 0.3382ss: 0.372 Scheduler lr: [0.00014622000000000002]\n",
      "Accuracy: 0.6588, precision: 0.1849, recall: 0.6983, f1: 0.2924, auc: 0.6763\n",
      "Fold 2:\n",
      "Early stopping triggered at epoch 35, best val loss: 0.3333ss: 0.410 Scheduler lr: [0.00030693999999999996]\n",
      "Accuracy: 0.7372, precision: 0.2094, recall: 0.5776, f1: 0.3073, auc: 0.6663\n",
      "Fold 3:\n",
      "Early stopping triggered at epoch 48, best val loss: 0.3513ss: 0.436 Scheduler lr: [5.72849999999999e-05]]]\n",
      "Accuracy: 0.7326, precision: 0.1909, recall: 0.5086, f1: 0.2776, auc: 0.6332\n",
      "Fold 4:\n",
      "Early stopping triggered at epoch 41, best val loss: 0.2850ss: 0.412 Scheduler lr: [0.00018640000000000014]\n",
      "Accuracy: 0.6803, precision: 0.1807, recall: 0.6121, f1: 0.2790, auc: 0.6500\n",
      "Fold 5:\n",
      "Early stopping triggered at epoch 44, best val loss: 0.2977ss: 0.400 Scheduler lr: [0.00012613000000000004]\n",
      "Accuracy: 0.6803, precision: 0.1823, recall: 0.6207, f1: 0.2818, auc: 0.6539\n"
     ]
    },
    {
     "name": "stderr",
     "output_type": "stream",
     "text": [
      "[I 2025-04-15 17:17:57,787] Trial 96 finished with value: 0.2876368122630917 and parameters: {'n_neighbours': 7, 'normalisation_method': 'MinMaxScaler', 'contamination': 0.37449917005266686, 'hidden_dim': 67, 'output_dim': 64, 'dropout': 0.0, 'threshold': 0.5212967354762753, 'initial_lr': 0.00031889547424064006, 'max_lr': 0.005, 'weight_decay': 0.007136754918190218, 'criterion': 'FocalLoss', 'alpha': 0.9828761177501226, 'gamma': 0.6927246960571606}. Best is trial 93 with value: 0.31120562348708986.\n"
     ]
    },
    {
     "name": "stdout",
     "output_type": "stream",
     "text": [
      "Using device: cuda\n",
      "Fold: 1, Train: (5375, 28), Test: (1149, 28)\n",
      "Fold: 2, Train: (5404, 28), Test: (1149, 28)\n",
      "Fold: 3, Train: (5345, 28), Test: (1148, 28)\n",
      "Fold: 4, Train: (5407, 28), Test: (1148, 28)\n",
      "Fold: 5, Train: (5366, 28), Test: (1148, 28)\n",
      "Fold 1:\n",
      "Early stopping triggered at epoch 41, best val loss: 0.3603ss: 0.430 Scheduler lr: [0.00017659999999999993]\n",
      "Accuracy: 0.7389, precision: 0.2089, recall: 0.5690, f1: 0.3056, auc: 0.6635\n",
      "Fold 2:\n",
      "Early stopping triggered at epoch 12, best val loss: 0.3429ss: 0.453 Scheduler lr: [0.0002363800000000001]]\n",
      "Accuracy: 0.7728, precision: 0.2179, recall: 0.4828, f1: 0.3003, auc: 0.6441\n",
      "Fold 3:\n",
      "Early stopping triggered at epoch 19, best val loss: 0.4005ss: 0.578 Scheduler lr: [0.00037602999999999996]\n",
      "Accuracy: 0.7744, precision: 0.1905, recall: 0.3793, f1: 0.2536, auc: 0.5991\n",
      "Fold 4:\n",
      "Early stopping triggered at epoch 37, best val loss: 0.3374ss: 0.429 Scheduler lr: [0.00024912]00000000016]\n",
      "Accuracy: 0.7091, precision: 0.1903, recall: 0.5776, f1: 0.2863, auc: 0.6507\n",
      "Fold 5:\n",
      "Epoch: 26    training loss:0.250 best_val_loss:0.349 Val Loss: 0.402 Scheduler lr: [0.00046129000000000016]\r"
     ]
    },
    {
     "name": "stderr",
     "output_type": "stream",
     "text": [
      "[I 2025-04-15 17:18:30,260] Trial 97 finished with value: 0.28008004863105673 and parameters: {'n_neighbours': 6, 'normalisation_method': 'MinMaxScaler', 'contamination': 0.36523535026025905, 'hidden_dim': 107, 'output_dim': 91, 'dropout': 0.0, 'threshold': 0.5901985932577137, 'initial_lr': 0.0002524862829046437, 'max_lr': 0.005, 'weight_decay': 0.00965285619543243, 'criterion': 'FocalLoss', 'alpha': 1.0646039195176784, 'gamma': 0.5659292851473264}. Best is trial 93 with value: 0.31120562348708986.\n"
     ]
    },
    {
     "name": "stdout",
     "output_type": "stream",
     "text": [
      "Early stopping triggered at epoch 27, best val loss: 0.3494\n",
      "Accuracy: 0.5462, precision: 0.1527, recall: 0.7672, f1: 0.2546, auc: 0.6443\n",
      "Using device: cuda\n",
      "Fold: 1, Train: (4827, 28), Test: (1149, 28)\n",
      "Fold: 2, Train: (4824, 28), Test: (1149, 28)\n",
      "Fold: 3, Train: (4857, 28), Test: (1148, 28)\n",
      "Fold: 4, Train: (4844, 28), Test: (1148, 28)\n",
      "Fold: 5, Train: (4809, 28), Test: (1148, 28)\n",
      "Fold 1:\n",
      "Early stopping triggered at epoch 13, best val loss: 0.2806ss: 0.438 Scheduler lr: [0.00023050000000000007]\n",
      "Accuracy: 0.8242, precision: 0.2378, recall: 0.3362, f1: 0.2786, auc: 0.6076\n",
      "Fold 2:\n",
      "Early stopping triggered at epoch 17, best val loss: 0.3531ss: 0.385 Scheduler lr: [0.00030400000000000007]\n",
      "Accuracy: 0.8077, precision: 0.2131, recall: 0.3362, f1: 0.2609, auc: 0.5984\n",
      "Fold 3:\n",
      "Early stopping triggered at epoch 14, best val loss: 0.2416ss: 0.362 Scheduler lr: [0.0002488749999999999]]\n",
      "Accuracy: 0.8336, precision: 0.2378, recall: 0.2931, f1: 0.2625, auc: 0.5937\n",
      "Fold 4:\n",
      "Early stopping triggered at epoch 13, best val loss: 0.2982ss: 0.395 Scheduler lr: [0.00023050000000000007]\n",
      "Accuracy: 0.8502, precision: 0.2778, recall: 0.3017, f1: 0.2893, auc: 0.6068\n",
      "Fold 5:\n",
      "Epoch: 36    training loss:0.180 best_val_loss:0.304 Val Loss: 0.351 Scheduler lr: [0.00032849999999999996]\r"
     ]
    },
    {
     "name": "stderr",
     "output_type": "stream",
     "text": [
      "[I 2025-04-15 17:18:51,234] Trial 98 finished with value: 0.26851087104154997 and parameters: {'n_neighbours': 5, 'normalisation_method': 'MinMaxScaler', 'contamination': 0.39983344012324634, 'hidden_dim': 71, 'output_dim': 69, 'dropout': 0.0, 'threshold': 0.6881374154026753, 'initial_lr': 0.00021218020457901577, 'max_lr': 0.005, 'weight_decay': 1.4800314767584399e-05, 'criterion': 'FocalLoss', 'alpha': 0.9427886485535644, 'gamma': 0.7347484919017677}. Best is trial 93 with value: 0.31120562348708986.\n"
     ]
    },
    {
     "name": "stdout",
     "output_type": "stream",
     "text": [
      "Early stopping triggered at epoch 37, best val loss: 0.3040\n",
      "Accuracy: 0.7509, precision: 0.1805, recall: 0.4138, f1: 0.2513, auc: 0.6013\n",
      "Using device: cuda\n",
      "Fold: 1, Train: (5044, 28), Test: (1149, 28)\n",
      "Fold: 2, Train: (5009, 28), Test: (1149, 28)\n",
      "Fold: 3, Train: (5018, 28), Test: (1148, 28)\n",
      "Fold: 4, Train: (5033, 28), Test: (1148, 28)\n",
      "Fold: 5, Train: (5020, 28), Test: (1148, 28)\n",
      "Fold 1:\n",
      "Early stopping triggered at epoch 16, best val loss: 0.3744ss: 0.457 Scheduler lr: [0.00029665]00000000017]\n",
      "Accuracy: 0.6319, precision: 0.1768, recall: 0.7241, f1: 0.2843, auc: 0.6728\n",
      "Fold 2:\n",
      "Early stopping triggered at epoch 36, best val loss: 0.3097ss: 0.431 Scheduler lr: [0.0003211499999999999]]\n",
      "Accuracy: 0.5527, precision: 0.1459, recall: 0.7069, f1: 0.2419, auc: 0.6211\n",
      "Fold 3:\n",
      "Early stopping triggered at epoch 13, best val loss: 0.3153ss: 0.355 Scheduler lr: [0.00023931999999999998]\n",
      "Accuracy: 0.6768, precision: 0.1836, recall: 0.6379, f1: 0.2852, auc: 0.6596\n",
      "Fold 4:\n",
      "Early stopping triggered at epoch 13, best val loss: 0.3191ss: 0.469 Scheduler lr: [0.00023931999999999998]\n",
      "Accuracy: 0.6821, precision: 0.1832, recall: 0.6207, f1: 0.2829, auc: 0.6548\n",
      "Fold 5:\n",
      "Early stopping triggered at epoch 42, best val loss: 0.2774ss: 0.364 Scheduler lr: [0.0002064899999999999]]\n"
     ]
    },
    {
     "name": "stderr",
     "output_type": "stream",
     "text": [
      "[I 2025-04-15 17:19:19,076] Trial 99 finished with value: 0.27522561309522314 and parameters: {'n_neighbours': 7, 'normalisation_method': 'MinMaxScaler', 'contamination': 0.39166710111845154, 'hidden_dim': 73, 'output_dim': 70, 'dropout': 0.0, 'threshold': 0.49415953342101415, 'initial_lr': 0.0002702758468310187, 'max_lr': 0.005, 'weight_decay': 0.0036886573758897166, 'criterion': 'FocalLoss', 'alpha': 1.007385186653857, 'gamma': 0.7889107245225315}. Best is trial 93 with value: 0.31120562348708986.\n"
     ]
    },
    {
     "name": "stdout",
     "output_type": "stream",
     "text": [
      "Accuracy: 0.6716, precision: 0.1809, recall: 0.6379, f1: 0.2819, auc: 0.6567\n",
      "Using device: cuda\n",
      "Fold: 1, Train: (5584, 28), Test: (1149, 28)\n",
      "Fold: 2, Train: (5587, 28), Test: (1149, 28)\n",
      "Fold: 3, Train: (5561, 28), Test: (1148, 28)\n",
      "Fold: 4, Train: (5594, 28), Test: (1148, 28)\n",
      "Fold: 5, Train: (5620, 28), Test: (1148, 28)\n",
      "Fold 1:\n",
      "Early stopping triggered at epoch 37, best val loss: 0.2583ss: 0.307 Scheduler lr: [0.00022266000000000007]\n",
      "Accuracy: 0.7859, precision: 0.2174, recall: 0.4310, f1: 0.2890, auc: 0.6284\n",
      "Fold 2:\n",
      "Early stopping triggered at epoch 34, best val loss: 0.3002ss: 0.436 Scheduler lr: [0.0002866049999999999]]\n",
      "Accuracy: 0.7258, precision: 0.1957, recall: 0.5517, f1: 0.2889, auc: 0.6486\n",
      "Fold 3:\n",
      "Early stopping triggered at epoch 29, best val loss: 0.2639ss: 0.353 Scheduler lr: [0.00040004000000000016]\n",
      "Accuracy: 0.7875, precision: 0.2217, recall: 0.4397, f1: 0.2948, auc: 0.6331\n",
      "Fold 4:\n",
      "Early stopping triggered at epoch 14, best val loss: 0.2444ss: 0.356 Scheduler lr: [0.00028709500000000007]\n",
      "Accuracy: 0.6481, precision: 0.1757, recall: 0.6724, f1: 0.2786, auc: 0.6589\n",
      "Fold 5:\n",
      "Early stopping triggered at epoch 38, best val loss: 0.2829ss: 0.431 Scheduler lr: [0.00020134500000000013]\n"
     ]
    },
    {
     "name": "stderr",
     "output_type": "stream",
     "text": [
      "[I 2025-04-15 17:19:56,193] Trial 100 finished with value: 0.29173503506323495 and parameters: {'n_neighbours': 6, 'normalisation_method': 'MinMaxScaler', 'contamination': 0.32010503778259525, 'hidden_dim': 65, 'output_dim': 60, 'dropout': 0.0, 'threshold': 0.5593172614657324, 'initial_lr': 0.000132379340306989, 'max_lr': 0.005, 'weight_decay': 0.005462785431525307, 'criterion': 'FocalLoss', 'alpha': 0.8361037466227315, 'gamma': 0.6440777621101752}. Best is trial 93 with value: 0.31120562348708986.\n"
     ]
    },
    {
     "name": "stdout",
     "output_type": "stream",
     "text": [
      "Accuracy: 0.7291, precision: 0.2072, recall: 0.5948, f1: 0.3073, auc: 0.6695\n",
      "Using device: cuda\n",
      "Fold: 1, Train: (5354, 28), Test: (1149, 28)\n",
      "Fold: 2, Train: (5326, 28), Test: (1149, 28)\n",
      "Fold: 3, Train: (5279, 28), Test: (1148, 28)\n",
      "Fold: 4, Train: (5337, 28), Test: (1148, 28)\n",
      "Fold: 5, Train: (5299, 28), Test: (1148, 28)\n",
      "Fold 1:\n",
      "Early stopping triggered at epoch 11, best val loss: 0.3082ss: 0.387 Scheduler lr: [0.00021335]99999999997]\n",
      "Accuracy: 0.8251, precision: 0.2652, recall: 0.4138, f1: 0.3232, auc: 0.6425\n",
      "Fold 2:\n",
      "Early stopping triggered at epoch 11, best val loss: 0.3523ss: 0.406 Scheduler lr: [0.00021335]99999999997]\n",
      "Accuracy: 0.7676, precision: 0.2085, recall: 0.4655, f1: 0.2880, auc: 0.6335\n",
      "Fold 3:\n",
      "Early stopping triggered at epoch 32, best val loss: 0.2800ss: 0.345 Scheduler lr: [0.0003672100000000001]]\n",
      "Accuracy: 0.8084, precision: 0.2292, recall: 0.3793, f1: 0.2857, auc: 0.6179\n",
      "Fold 4:\n",
      "Early stopping triggered at epoch 12, best val loss: 0.3337ss: 0.390 Scheduler lr: [0.00023368500000000005]\n",
      "Accuracy: 0.7744, precision: 0.2129, recall: 0.4569, f1: 0.2904, auc: 0.6335\n",
      "Fold 5:\n",
      "Epoch: 44    training loss:0.173 best_val_loss:0.244 Val Loss: 0.474 Scheduler lr: [0.00010603999999999986]\r"
     ]
    },
    {
     "name": "stderr",
     "output_type": "stream",
     "text": [
      "[I 2025-04-15 17:20:23,352] Trial 101 finished with value: 0.29524929134792144 and parameters: {'n_neighbours': 3, 'normalisation_method': 'MinMaxScaler', 'contamination': 0.3717500817131218, 'hidden_dim': 68, 'output_dim': 66, 'dropout': 0.0, 'threshold': 0.6359818234631593, 'initial_lr': 0.00019283196527885308, 'max_lr': 0.005, 'weight_decay': 0.004763157554885057, 'criterion': 'FocalLoss', 'alpha': 1.0424069003887761, 'gamma': 0.8427856043004647}. Best is trial 93 with value: 0.31120562348708986.\n"
     ]
    },
    {
     "name": "stdout",
     "output_type": "stream",
     "text": [
      "Early stopping triggered at epoch 45, best val loss: 0.2443\n",
      "Accuracy: 0.7770, precision: 0.2131, recall: 0.4483, f1: 0.2889, auc: 0.6311\n",
      "Using device: cuda\n",
      "Fold: 1, Train: (5026, 28), Test: (1149, 28)\n",
      "Fold: 2, Train: (5198, 28), Test: (1149, 28)\n",
      "Fold: 3, Train: (5182, 28), Test: (1148, 28)\n",
      "Fold: 4, Train: (5212, 28), Test: (1148, 28)\n",
      "Fold: 5, Train: (5174, 28), Test: (1148, 28)\n",
      "Fold 1:\n",
      "Early stopping triggered at epoch 27, best val loss: 0.3124ss: 0.403 Scheduler lr: [0.0004931399999999999]]\n",
      "Accuracy: 0.7607, precision: 0.2171, recall: 0.5259, f1: 0.3073, auc: 0.6564\n",
      "Fold 2:\n",
      "Early stopping triggered at epoch 51, best val loss: 0.3030ss: 0.427 Scheduler lr: [2.2250000000000175e-05]\n",
      "Accuracy: 0.7833, precision: 0.2329, recall: 0.5000, f1: 0.3178, auc: 0.6576\n",
      "Fold 3:\n",
      "Early stopping triggered at epoch 48, best val loss: 0.2672ss: 0.361 Scheduler lr: [6.880000000000006e-05]]\n",
      "Accuracy: 0.7805, precision: 0.2094, recall: 0.4224, f1: 0.2800, auc: 0.6216\n",
      "Fold 4:\n",
      "Early stopping triggered at epoch 12, best val loss: 0.2835ss: 0.394 Scheduler lr: [0.000228295]000000001]]\n",
      "Accuracy: 0.8145, precision: 0.2538, recall: 0.4310, f1: 0.3195, auc: 0.6443\n",
      "Fold 5:\n",
      "Early stopping triggered at epoch 22, best val loss: 0.3320ss: 0.400 Scheduler lr: [0.00042159999999999995]\n"
     ]
    },
    {
     "name": "stderr",
     "output_type": "stream",
     "text": [
      "[I 2025-04-15 17:20:59,708] Trial 102 finished with value: 0.3051943371954723 and parameters: {'n_neighbours': 4, 'normalisation_method': 'MinMaxScaler', 'contamination': 0.38073423722618527, 'hidden_dim': 67, 'output_dim': 64, 'dropout': 0.0, 'threshold': 0.6224400665275963, 'initial_lr': 0.0002451277992864171, 'max_lr': 0.005, 'weight_decay': 0.006361642530804795, 'criterion': 'FocalLoss', 'alpha': 0.9710137034051872, 'gamma': 0.8281876811141815}. Best is trial 93 with value: 0.31120562348708986.\n"
     ]
    },
    {
     "name": "stdout",
     "output_type": "stream",
     "text": [
      "Accuracy: 0.7334, precision: 0.2050, recall: 0.5690, f1: 0.3014, auc: 0.6605\n",
      "Using device: cuda\n",
      "Fold: 1, Train: (4904, 28), Test: (1149, 28)\n",
      "Fold: 2, Train: (4897, 28), Test: (1149, 28)\n",
      "Fold: 3, Train: (4874, 28), Test: (1148, 28)\n",
      "Fold: 4, Train: (4885, 28), Test: (1148, 28)\n",
      "Fold: 5, Train: (4865, 28), Test: (1148, 28)\n",
      "Fold 1:\n",
      "Early stopping triggered at epoch 32, best val loss: 0.3043ss: 0.458 Scheduler lr: [0.00041278000000000007]\n",
      "Accuracy: 0.8399, precision: 0.2639, recall: 0.3276, f1: 0.2923, auc: 0.6125\n",
      "Fold 2:\n",
      "Early stopping triggered at epoch 41, best val loss: 0.3142ss: 0.387 Scheduler lr: [0.0002452]99999999999]]\n",
      "Accuracy: 0.8372, precision: 0.2331, recall: 0.2672, f1: 0.2490, auc: 0.5842\n",
      "Fold 3:\n",
      "Early stopping triggered at epoch 34, best val loss: 0.2956ss: 0.360 Scheduler lr: [0.00037554]9999999999]]\n",
      "Accuracy: 0.7962, precision: 0.2217, recall: 0.4052, f1: 0.2866, auc: 0.6226\n",
      "Fold 4:\n",
      "Early stopping triggered at epoch 41, best val loss: 0.2864ss: 0.346 Scheduler lr: [0.0002452]99999999999]]\n",
      "Accuracy: 0.8110, precision: 0.2383, recall: 0.3966, f1: 0.2977, auc: 0.6271\n",
      "Fold 5:\n",
      "Early stopping triggered at epoch 11, best val loss: 0.3158ss: 0.398 Scheduler lr: [0.00019619999999999994]\n",
      "Accuracy: 0.8136, precision: 0.2752, recall: 0.5172, f1: 0.3593, auc: 0.6821\n"
     ]
    },
    {
     "name": "stderr",
     "output_type": "stream",
     "text": [
      "[I 2025-04-15 17:21:34,189] Trial 103 finished with value: 0.29698102141091154 and parameters: {'n_neighbours': 5, 'normalisation_method': 'MinMaxScaler', 'contamination': 0.38853914361606223, 'hidden_dim': 70, 'output_dim': 67, 'dropout': 0.0, 'threshold': 0.6679089384769089, 'initial_lr': 0.0009769313863579288, 'max_lr': 0.005, 'weight_decay': 0.006412295495470422, 'criterion': 'FocalLoss', 'alpha': 0.9749786967217972, 'gamma': 0.6868057753434679}. Best is trial 93 with value: 0.31120562348708986.\n"
     ]
    },
    {
     "name": "stdout",
     "output_type": "stream",
     "text": [
      "Using device: cuda\n",
      "Fold: 1, Train: (4921, 28), Test: (1149, 28)\n",
      "Fold: 2, Train: (4916, 28), Test: (1149, 28)\n",
      "Fold: 3, Train: (4926, 28), Test: (1148, 28)\n",
      "Fold: 4, Train: (4908, 28), Test: (1148, 28)\n",
      "Fold: 5, Train: (4898, 28), Test: (1148, 28)\n",
      "Fold 1:\n",
      "Early stopping triggered at epoch 17, best val loss: 0.3835ss: 0.503 Scheduler lr: [0.00030792000000000005]\n",
      "Accuracy: 0.7572, precision: 0.2140, recall: 0.5259, f1: 0.3042, auc: 0.6545\n",
      "Fold 2:\n",
      "Early stopping triggered at epoch 20, best val loss: 0.4187ss: 0.506 Scheduler lr: [0.00036378]0000000001]]\n",
      "Accuracy: 0.7433, precision: 0.1837, recall: 0.4483, f1: 0.2607, auc: 0.6123\n",
      "Fold 3:\n",
      "Early stopping triggered at epoch 43, best val loss: 0.3153ss: 0.565 Scheduler lr: [0.00020795999999999995]\n",
      "Accuracy: 0.7953, precision: 0.2308, recall: 0.4397, f1: 0.3027, auc: 0.6375\n",
      "Fold 4:\n",
      "Early stopping triggered at epoch 39, best val loss: 0.2840ss: 0.645 Scheduler lr: [0.00028244000000000007]\n",
      "Accuracy: 0.7448, precision: 0.2117, recall: 0.5603, f1: 0.3073, auc: 0.6629\n",
      "Fold 5:\n",
      "Epoch: 44    training loss:0.176 best_val_loss:0.287 Val Loss: 0.549 Scheduler lr: [0.00017072000000000013]\r"
     ]
    },
    {
     "name": "stderr",
     "output_type": "stream",
     "text": [
      "[I 2025-04-15 17:22:09,517] Trial 104 finished with value: 0.2913749186237885 and parameters: {'n_neighbours': 4, 'normalisation_method': 'MinMaxScaler', 'contamination': 0.39607510491121795, 'hidden_dim': 77, 'output_dim': 74, 'dropout': 0.0, 'threshold': 0.6047475887920116, 'initial_lr': 0.00024621775591777896, 'max_lr': 0.005, 'weight_decay': 0.0076264759145588815, 'criterion': 'FocalLoss', 'alpha': 1.0874552687507697, 'gamma': 0.8063129135203743}. Best is trial 93 with value: 0.31120562348708986.\n"
     ]
    },
    {
     "name": "stdout",
     "output_type": "stream",
     "text": [
      "Early stopping triggered at epoch 45, best val loss: 0.2873\n",
      "Accuracy: 0.7605, precision: 0.2022, recall: 0.4655, f1: 0.2820, auc: 0.6296\n",
      "Using device: cuda\n",
      "Fold: 1, Train: (5048, 28), Test: (1149, 28)\n",
      "Fold: 2, Train: (5029, 28), Test: (1149, 28)\n",
      "Fold: 3, Train: (5229, 28), Test: (1148, 28)\n",
      "Fold: 4, Train: (5020, 28), Test: (1148, 28)\n",
      "Fold: 5, Train: (5251, 28), Test: (1148, 28)\n",
      "Fold 1:\n",
      "Early stopping triggered at epoch 13, best val loss: 0.2972ss: 0.335 Scheduler lr: [0.00023931999999999998]\n",
      "Accuracy: 0.8329, precision: 0.2625, recall: 0.3621, f1: 0.3043, auc: 0.6239\n",
      "Fold 2:\n",
      "Early stopping triggered at epoch 26, best val loss: 0.3050ss: 0.409 Scheduler lr: [0.00048775000000000007]\n",
      "Accuracy: 0.7232, precision: 0.1783, recall: 0.4828, f1: 0.2605, auc: 0.6165\n",
      "Fold 3:\n",
      "Early stopping triggered at epoch 35, best val loss: 0.2711ss: 0.331 Scheduler lr: [0.00031527000000000014]\n",
      "Accuracy: 0.8057, precision: 0.2312, recall: 0.3966, f1: 0.2921, auc: 0.6241\n",
      "Fold 4:\n",
      "Early stopping triggered at epoch 38, best val loss: 0.2951ss: 0.441 Scheduler lr: [0.00028293]00000000006]\n",
      "Accuracy: 0.7805, precision: 0.2236, recall: 0.4741, f1: 0.3039, auc: 0.6445\n",
      "Fold 5:\n",
      "Early stopping triggered at epoch 46, best val loss: 0.2781ss: 0.343 Scheduler lr: [8.595000000000012e-05]]\n"
     ]
    },
    {
     "name": "stderr",
     "output_type": "stream",
     "text": [
      "[I 2025-04-15 17:22:45,293] Trial 105 finished with value: 0.2928229248522579 and parameters: {'n_neighbours': 3, 'normalisation_method': 'MinMaxScaler', 'contamination': 0.3841524246822607, 'hidden_dim': 67, 'output_dim': 65, 'dropout': 0.0, 'threshold': 0.653659086553296, 'initial_lr': 0.0002216627168728275, 'max_lr': 0.005, 'weight_decay': 0.0089466635005589, 'criterion': 'FocalLoss', 'alpha': 0.945539681462489, 'gamma': 0.8560208391871713}. Best is trial 93 with value: 0.31120562348708986.\n"
     ]
    },
    {
     "name": "stdout",
     "output_type": "stream",
     "text": [
      "Accuracy: 0.7840, precision: 0.2250, recall: 0.4655, f1: 0.3034, auc: 0.6426\n",
      "Best trial:\n",
      "  Combined score: 0.31120562348708986\n",
      "  Best hyperparameters:\n",
      "    n_neighbours: 6\n",
      "    normalisation_method: MinMaxScaler\n",
      "    contamination: 0.3908182381776086\n",
      "    hidden_dim: 68\n",
      "    output_dim: 66\n",
      "    dropout: 0.0\n",
      "    threshold: 0.555927695059721\n",
      "    initial_lr: 0.0002473479892457255\n",
      "    max_lr: 0.005\n",
      "    weight_decay: 0.006571168608747022\n",
      "    criterion: FocalLoss\n",
      "    alpha: 0.908287944147098\n",
      "    gamma: 0.8361059696703981\n"
     ]
    }
   ],
   "source": [
    "import threading\n",
    "import optuna\n",
    "from optuna_dashboard import run_server\n",
    "# !fuser -k 8080/tcp\n",
    "\n",
    "# Define your persistent storage\n",
    "storage = \"sqlite:///optana5.db\"\n",
    "\n",
    "# Create or load your study\n",
    "study_name = \"optuna5\"\n",
    "try:\n",
    "    study = optuna.load_study(study_name=study_name, storage=storage)\n",
    "except KeyError:\n",
    "    study = optuna.create_study(study_name=study_name, direction=\"maximize\", storage=storage)\n",
    "\n",
    "# Start Optuna Dashboard in a separate thread\n",
    "dashboard_thread = threading.Thread(target=lambda: run_server(storage), daemon=True)\n",
    "dashboard_thread.start()\n",
    "\n",
    "# Run optimization\n",
    "study.optimize(maximise_combined_score, n_trials=100)\n",
    "\n",
    "# Print results\n",
    "print(\"Best trial:\")\n",
    "trial = study.best_trial\n",
    "print(f\"  Combined score: {trial.value}\")\n",
    "print(\"  Best hyperparameters:\")\n",
    "for key, value in trial.params.items():\n",
    "    print(f\"    {key}: {value}\")\n"
   ]
  },
  {
   "cell_type": "code",
   "execution_count": null,
   "id": "cd2f3f26",
   "metadata": {},
   "outputs": [],
   "source": []
  }
 ],
 "metadata": {
  "kernelspec": {
   "display_name": ".venv",
   "language": "python",
   "name": "python3"
  },
  "language_info": {
   "codemirror_mode": {
    "name": "ipython",
    "version": 3
   },
   "file_extension": ".py",
   "mimetype": "text/x-python",
   "name": "python",
   "nbconvert_exporter": "python",
   "pygments_lexer": "ipython3",
   "version": "3.12.4"
  }
 },
 "nbformat": 4,
 "nbformat_minor": 5
}
